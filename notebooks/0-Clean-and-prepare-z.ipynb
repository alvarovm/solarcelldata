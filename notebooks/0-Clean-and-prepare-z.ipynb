{
 "cells": [
  {
   "cell_type": "markdown",
   "metadata": {},
   "source": [
    "# Part 1: Cleaning and cannonizing DB\n"
   ]
  },
  {
   "cell_type": "markdown",
   "metadata": {},
   "source": [
    "Project: Solar Power for Affordable Housing through Computational Design of Low-Cost/High-Efficiency Solar Cells.\n",
    "\n",
    "Author: AlvaroVM [https://alvarovm.github.io](http://alvarovm.github.io)\n",
    "\n",
    "Version: 0.0.1"
   ]
  },
  {
   "cell_type": "code",
   "execution_count": 1,
   "metadata": {},
   "outputs": [],
   "source": [
    "import sys\n",
    "import os\n",
    "SRC_DIR='..'"
   ]
  },
  {
   "cell_type": "code",
   "execution_count": 2,
   "metadata": {},
   "outputs": [
    {
     "name": "stderr",
     "output_type": "stream",
     "text": [
      "/home/vama/soft/python-tests/introtohpc/notebooks/../code/utils.py:3: TqdmWarning: IProgress not found. Please update jupyter and ipywidgets. See https://ipywidgets.readthedocs.io/en/stable/user_install.html\n",
      "  from tqdm.autonotebook import tqdm\n"
     ]
    }
   ],
   "source": [
    "sys.path.append(os.path.join(SRC_DIR, 'code'))\n",
    "import utils"
   ]
  },
  {
   "cell_type": "code",
   "execution_count": 3,
   "metadata": {},
   "outputs": [],
   "source": [
    "%matplotlib inline\n",
    "import matplotlib.pyplot as plt\n",
    "import numpy as np\n",
    "\n",
    "import pandas as pd\n",
    "#https://github.com/jmcarpenter2/swifter\n",
    "#import swifter\n",
    "#2-TSNE-UMAP-map-cuda-Copy1\n",
    "\n",
    "from rdkit import Chem\n",
    "from rdkit.Chem import AllChem\n",
    "from rdkit import DataStructs \n",
    "from rdkit.Chem import Draw\n",
    "from rdkit.Chem.rdMolDescriptors import  GetHashedMorganFingerprint\n",
    "from rdkit.DataStructs import ConvertToNumpyArray\n",
    "\n",
    "utils.plot_settings2()\n",
    "\n",
    "results_path = os.path.join(SRC_DIR,'results')"
   ]
  },
  {
   "cell_type": "markdown",
   "metadata": {},
   "source": [
    "### Tools to Cannonize smiles"
   ]
  },
  {
   "cell_type": "code",
   "execution_count": 4,
   "metadata": {},
   "outputs": [],
   "source": [
    "# from rdkit.Chem import MolFromSmiles as smi2mol\n",
    "# from rdkit.Chem.rdMolDescriptors import  GetHashedMorganFingerprint,GetMorganFingerprintAsBitVect\n",
    "# from rdkit.DataStructs import ConvertToNumpyArray\n",
    "\n",
    "from smiutil import CleanSMI\n",
    "from smiutil import canon_smiles\n",
    "from smiutil import HardValidSMI\n",
    "from smiutil import applyMorganFP\n",
    "\n",
    "# from rdkit.Chem import MolFromSmiles as smi2mol\n"
   ]
  },
  {
   "cell_type": "markdown",
   "metadata": {},
   "source": [
    "## Open Database"
   ]
  },
  {
   "cell_type": "markdown",
   "metadata": {},
   "source": [
    "Our database is expresed a CSV file (spread sheet like). This each row has information of the molecular description of in SMILE format, and optical properties as the wavelenght (lamnda/nm), extinction coefficient, first excitation energy with quantum mechanics, etc."
   ]
  },
  {
   "cell_type": "code",
   "execution_count": 5,
   "metadata": {},
   "outputs": [
    {
     "name": "stdout",
     "output_type": "stream",
     "text": [
      "Column names: ['inchikey', 'smi_pre', 'smi_post', 'lambda_sTDA (nm)', 'f1_sTDA', 'lumo_dft', 'homo_dft', 'dmom_dft (D)', 'lambda_z (nm)', 'f1_z', 'lumo_z', 'homo_z', 'dmom_z (D)', 'lumo_mopac', 'homo_mopac', 'dmom_mopac (D)', 'lambda_tddft (nm)', 'f1_tddft', 'lambda_exp_max (nm)', 'epsilon_exp_max ', 'lambda_exp_min (nm)', 'epsilon_exp_min ', 'solvent']\n",
      "Table Shape: (9879, 23)\n"
     ]
    }
   ],
   "source": [
    "df = pd.read_csv('../data/extended_db_Zindo_Nov_2019_V5.csv').fillna(value = 0)\n",
    "print('Column names: {}'.format(str(df.columns.tolist())))\n",
    "print('Table Shape: {}'.format(df.shape))"
   ]
  },
  {
   "cell_type": "code",
   "execution_count": 43,
   "metadata": {},
   "outputs": [],
   "source": [
    "#df.count()"
   ]
  },
  {
   "cell_type": "markdown",
   "metadata": {},
   "source": [
    "Unfortunately some of the SMILE that define the molecules are not valid. We have a function called `HardValidSMI` which validate whether the SMILES can be processed. See example"
   ]
  },
  {
   "cell_type": "code",
   "execution_count": 54,
   "metadata": {},
   "outputs": [
    {
     "name": "stdout",
     "output_type": "stream",
     "text": [
      "Q: Is this O=C1O[C@H]([C@@H](O)CO)C(O)=C1O a valid molecule? A: False\n"
     ]
    }
   ],
   "source": [
    "#smi=df['smi_post'].iloc[0]\n",
    "smi = 'O=C1O[C@H]([C@@H](O)CO)C(O)=C1O'\n",
    "print(f'Q: Is this {smi} a valid molecule? A: {HardValidSMI(smi)}')"
   ]
  },
  {
   "cell_type": "markdown",
   "metadata": {},
   "source": [
    "Remove metals and invalid smiles. Adding a new column `nogood`. Notice that there two SMILES: `smile_pre` and `smile_post`. The `smile_pre` are the SMILES generated directly from the molecules found in the literature, and `smiles_post` are a reduced version with only the active region of the molecule."
   ]
  },
  {
   "cell_type": "code",
   "execution_count": 53,
   "metadata": {},
   "outputs": [
    {
     "name": "stderr",
     "output_type": "stream",
     "text": [
      "[16:32:49] WARNING: not removing hydrogen atom without neighbors\n",
      "[16:32:52] WARNING: not removing hydrogen atom without neighbors\n"
     ]
    }
   ],
   "source": [
    "df['nogood']=df['smi_pre'].apply(HardValidSMI)\n",
    "#df=df[df['nogood'] != False]\n",
    "df['nogoodpost']=df['smi_post'].apply(HardValidSMI)\n",
    "#df=df[df['nogoodp'] != False]"
   ]
  },
  {
   "cell_type": "markdown",
   "metadata": {},
   "source": [
    "Let's filter the rows with `False` values in `nogood`."
   ]
  },
  {
   "cell_type": "code",
   "execution_count": 55,
   "metadata": {},
   "outputs": [
    {
     "data": {
      "text/html": [
       "<div>\n",
       "<style scoped>\n",
       "    .dataframe tbody tr th:only-of-type {\n",
       "        vertical-align: middle;\n",
       "    }\n",
       "\n",
       "    .dataframe tbody tr th {\n",
       "        vertical-align: top;\n",
       "    }\n",
       "\n",
       "    .dataframe thead th {\n",
       "        text-align: right;\n",
       "    }\n",
       "</style>\n",
       "<table border=\"1\" class=\"dataframe\">\n",
       "  <thead>\n",
       "    <tr style=\"text-align: right;\">\n",
       "      <th></th>\n",
       "      <th>smiles</th>\n",
       "      <th>inchikey</th>\n",
       "      <th>fpfail</th>\n",
       "      <th>smi_pre</th>\n",
       "      <th>smi_post</th>\n",
       "      <th>lambda_sTDA (nm)</th>\n",
       "      <th>f1_sTDA</th>\n",
       "      <th>lumo_dft</th>\n",
       "      <th>homo_dft</th>\n",
       "      <th>dmom_dft (D)</th>\n",
       "      <th>...</th>\n",
       "      <th>NumSaturatedHeterocycles</th>\n",
       "      <th>NumSaturatedRings</th>\n",
       "      <th>NumValenceElectrons</th>\n",
       "      <th>molp</th>\n",
       "      <th>MolWt</th>\n",
       "      <th>MolWtp</th>\n",
       "      <th>MolWtdiff</th>\n",
       "      <th>gapdft</th>\n",
       "      <th>gapmopac</th>\n",
       "      <th>nogoodpost</th>\n",
       "    </tr>\n",
       "  </thead>\n",
       "  <tbody>\n",
       "    <tr>\n",
       "      <th>1</th>\n",
       "      <td>O=C(O[C@@H]1Cc2c(O)cc(O)cc2O[C@@H]1c1cc(O)c(O)...</td>\n",
       "      <td>WMBWREPUVVBILR-WIYYLYMNSA-N</td>\n",
       "      <td>True</td>\n",
       "      <td>Oc1cc(O)c2c(c1)O[C@@H]([C@@H](C2)OC(=O)c1cc(O)...</td>\n",
       "      <td>Oc1cc(O)c2c(c1)O[C@@H]([C@@H](C2)OC(=O)c1cc(O)...</td>\n",
       "      <td>263.5</td>\n",
       "      <td>0.013443</td>\n",
       "      <td>0.7857</td>\n",
       "      <td>-8.0182</td>\n",
       "      <td>4.27854</td>\n",
       "      <td>...</td>\n",
       "      <td>0</td>\n",
       "      <td>0</td>\n",
       "      <td>172</td>\n",
       "      <td>&lt;rdkit.Chem.rdchem.Mol object at 0x7fb625384f20&gt;</td>\n",
       "      <td>458.084911</td>\n",
       "      <td>458.084911</td>\n",
       "      <td>0.000000e+00</td>\n",
       "      <td>8.8039</td>\n",
       "      <td>7.996</td>\n",
       "      <td>True</td>\n",
       "    </tr>\n",
       "    <tr>\n",
       "      <th>3</th>\n",
       "      <td>Clc1ccc(OCCn2ccnc2)c(Cl)c1</td>\n",
       "      <td>FLMQUWVILHJCFJ-UHFFFAOYSA-N</td>\n",
       "      <td>True</td>\n",
       "      <td>Clc1ccc(c(c1)Cl)OCCn1cncc1</td>\n",
       "      <td>Clc1ccc(c(c1)Cl)OCCn1cncc1</td>\n",
       "      <td>245.2</td>\n",
       "      <td>0.013209</td>\n",
       "      <td>1.0193</td>\n",
       "      <td>-8.8676</td>\n",
       "      <td>3.86453</td>\n",
       "      <td>...</td>\n",
       "      <td>0</td>\n",
       "      <td>0</td>\n",
       "      <td>84</td>\n",
       "      <td>&lt;rdkit.Chem.rdchem.Mol object at 0x7fb625385150&gt;</td>\n",
       "      <td>256.017018</td>\n",
       "      <td>256.017018</td>\n",
       "      <td>0.000000e+00</td>\n",
       "      <td>9.8869</td>\n",
       "      <td>8.673</td>\n",
       "      <td>True</td>\n",
       "    </tr>\n",
       "    <tr>\n",
       "      <th>6</th>\n",
       "      <td>COC(=O)Cc1ccc(OC[C@@H]2CO2)cc1</td>\n",
       "      <td>UGCLEKVSHFQKOD-LLVKDONJSA-N</td>\n",
       "      <td>True</td>\n",
       "      <td>COC(=O)Cc1ccc(cc1)OC[C@H]1OC1</td>\n",
       "      <td>COC(=O)Cc1ccc(cc1)OC[C@H]1OC1</td>\n",
       "      <td>245.9</td>\n",
       "      <td>0.039422</td>\n",
       "      <td>1.5588</td>\n",
       "      <td>-8.4152</td>\n",
       "      <td>2.38065</td>\n",
       "      <td>...</td>\n",
       "      <td>1</td>\n",
       "      <td>1</td>\n",
       "      <td>86</td>\n",
       "      <td>&lt;rdkit.Chem.rdchem.Mol object at 0x7fb625385540&gt;</td>\n",
       "      <td>222.089209</td>\n",
       "      <td>222.089209</td>\n",
       "      <td>0.000000e+00</td>\n",
       "      <td>9.9740</td>\n",
       "      <td>9.076</td>\n",
       "      <td>True</td>\n",
       "    </tr>\n",
       "    <tr>\n",
       "      <th>7</th>\n",
       "      <td>CC1COc2c(N3CCN(C)CC3)c(F)cc3c(=O)c(C(=O)O)cn1c23</td>\n",
       "      <td>GSDSWSVVBLHKDQ-UHFFFAOYSA-N</td>\n",
       "      <td>True</td>\n",
       "      <td>CN1CCN(CC1)c1c(F)cc2c3c1OCC(n3cc(c2=O)C(=O)O)C</td>\n",
       "      <td>CN1CCN(CC1)c1c(F)cc2c3c1OCC(n3cc(c2=O)C(=O)O)C</td>\n",
       "      <td>291.8</td>\n",
       "      <td>0.049058</td>\n",
       "      <td>0.0174</td>\n",
       "      <td>-8.3155</td>\n",
       "      <td>10.03869</td>\n",
       "      <td>...</td>\n",
       "      <td>1</td>\n",
       "      <td>1</td>\n",
       "      <td>138</td>\n",
       "      <td>&lt;rdkit.Chem.rdchem.Mol object at 0x7fb6253855b0&gt;</td>\n",
       "      <td>361.143784</td>\n",
       "      <td>361.143784</td>\n",
       "      <td>5.684342e-14</td>\n",
       "      <td>8.3329</td>\n",
       "      <td>7.703</td>\n",
       "      <td>True</td>\n",
       "    </tr>\n",
       "    <tr>\n",
       "      <th>8</th>\n",
       "      <td>O=C1CC(=C=N[C@@H]2O[C@H](CO)[C@@H](O)[C@H](O)[...</td>\n",
       "      <td>GXOAJZBMIZDGCK-TVONUNMFSA-N</td>\n",
       "      <td>True</td>\n",
       "      <td>OC[C@H]1O[C@@H](N=C=C2CC(=O)c3c4c2nc2cc(Cl)ccc...</td>\n",
       "      <td>OC[C@H]1O[C@@H](N=C=C2CC(=O)c3c4c2nc2cc(Cl)ccc...</td>\n",
       "      <td>345.9</td>\n",
       "      <td>0.072536</td>\n",
       "      <td>-0.9850</td>\n",
       "      <td>-8.4437</td>\n",
       "      <td>3.35184</td>\n",
       "      <td>...</td>\n",
       "      <td>1</td>\n",
       "      <td>1</td>\n",
       "      <td>164</td>\n",
       "      <td>&lt;rdkit.Chem.rdchem.Mol object at 0x7fb6253857e0&gt;</td>\n",
       "      <td>455.088413</td>\n",
       "      <td>455.088413</td>\n",
       "      <td>1.136868e-13</td>\n",
       "      <td>7.4587</td>\n",
       "      <td>7.480</td>\n",
       "      <td>True</td>\n",
       "    </tr>\n",
       "    <tr>\n",
       "      <th>...</th>\n",
       "      <td>...</td>\n",
       "      <td>...</td>\n",
       "      <td>...</td>\n",
       "      <td>...</td>\n",
       "      <td>...</td>\n",
       "      <td>...</td>\n",
       "      <td>...</td>\n",
       "      <td>...</td>\n",
       "      <td>...</td>\n",
       "      <td>...</td>\n",
       "      <td>...</td>\n",
       "      <td>...</td>\n",
       "      <td>...</td>\n",
       "      <td>...</td>\n",
       "      <td>...</td>\n",
       "      <td>...</td>\n",
       "      <td>...</td>\n",
       "      <td>...</td>\n",
       "      <td>...</td>\n",
       "      <td>...</td>\n",
       "      <td>...</td>\n",
       "    </tr>\n",
       "    <tr>\n",
       "      <th>9865</th>\n",
       "      <td>N#Cc1c(N2CCCCC2)cc(-c2ccccc2)c2c1-c1cccnc1CC2</td>\n",
       "      <td>SMURFLRAIWQCMM-UHFFFAOYSA-N</td>\n",
       "      <td>True</td>\n",
       "      <td>N#Cc1c(cc(c2c1c1cccnc1CC2)c1ccccc1)N1CCCCC1</td>\n",
       "      <td>N#Cc1c(cc(c2c1c1cccnc1CC2)c1ccccc1)N1CCCCC1</td>\n",
       "      <td>291.3</td>\n",
       "      <td>0.038060</td>\n",
       "      <td>-0.0526</td>\n",
       "      <td>-8.4226</td>\n",
       "      <td>3.94833</td>\n",
       "      <td>...</td>\n",
       "      <td>1</td>\n",
       "      <td>1</td>\n",
       "      <td>138</td>\n",
       "      <td>&lt;rdkit.Chem.rdchem.Mol object at 0x7fb624658b30&gt;</td>\n",
       "      <td>365.189198</td>\n",
       "      <td>365.189198</td>\n",
       "      <td>0.000000e+00</td>\n",
       "      <td>8.3700</td>\n",
       "      <td>7.642</td>\n",
       "      <td>True</td>\n",
       "    </tr>\n",
       "    <tr>\n",
       "      <th>9866</th>\n",
       "      <td>N#Cc1nn(-c2ccc(Cl)cc2)nc1N1CCCC1</td>\n",
       "      <td>IQLDXBXINQMCHI-UHFFFAOYSA-N</td>\n",
       "      <td>True</td>\n",
       "      <td>N#Cc1nn(nc1N1CCCC1)c1ccc(cc1)Cl</td>\n",
       "      <td>N#Cc1nn(nc1N1CCCC1)c1ccc(cc1)Cl</td>\n",
       "      <td>294.0</td>\n",
       "      <td>0.631244</td>\n",
       "      <td>0.0838</td>\n",
       "      <td>-8.0247</td>\n",
       "      <td>4.64755</td>\n",
       "      <td>...</td>\n",
       "      <td>1</td>\n",
       "      <td>1</td>\n",
       "      <td>96</td>\n",
       "      <td>&lt;rdkit.Chem.rdchem.Mol object at 0x7fb624658ba0&gt;</td>\n",
       "      <td>273.078123</td>\n",
       "      <td>273.078123</td>\n",
       "      <td>0.000000e+00</td>\n",
       "      <td>8.1085</td>\n",
       "      <td>7.450</td>\n",
       "      <td>True</td>\n",
       "    </tr>\n",
       "    <tr>\n",
       "      <th>9867</th>\n",
       "      <td>O=c1nc2n(c3nc(N4CCCCC4)ncc13)CCS2</td>\n",
       "      <td>YTKGZLZRIUJNQI-UHFFFAOYSA-N</td>\n",
       "      <td>True</td>\n",
       "      <td>O=c1nc2SCCn2c2c1cnc(n2)N1CCCCC1</td>\n",
       "      <td>O=c1nc2SCCn2c2c1cnc(n2)N1CCCCC1</td>\n",
       "      <td>277.0</td>\n",
       "      <td>0.004539</td>\n",
       "      <td>0.3888</td>\n",
       "      <td>-8.3370</td>\n",
       "      <td>9.34625</td>\n",
       "      <td>...</td>\n",
       "      <td>1</td>\n",
       "      <td>1</td>\n",
       "      <td>104</td>\n",
       "      <td>&lt;rdkit.Chem.rdchem.Mol object at 0x7fb624658c10&gt;</td>\n",
       "      <td>289.099731</td>\n",
       "      <td>289.099731</td>\n",
       "      <td>0.000000e+00</td>\n",
       "      <td>8.7258</td>\n",
       "      <td>8.218</td>\n",
       "      <td>True</td>\n",
       "    </tr>\n",
       "    <tr>\n",
       "      <th>9868</th>\n",
       "      <td>COC(=O)c1cc2ccccc2cc1-c1cc2ccccc2cc1C(=O)N(C)[...</td>\n",
       "      <td>HQYAPNWPDBPXTB-NRFANRHFSA-N</td>\n",
       "      <td>True</td>\n",
       "      <td>COC(=O)c1cc2ccccc2cc1c1cc2ccccc2cc1C(=O)N([C@H...</td>\n",
       "      <td>COC(=O)c1cc2ccccc2cc1c1cc2ccccc2cc1C(=O)N([C@H...</td>\n",
       "      <td>292.7</td>\n",
       "      <td>0.047515</td>\n",
       "      <td>0.1759</td>\n",
       "      <td>-8.0675</td>\n",
       "      <td>2.38643</td>\n",
       "      <td>...</td>\n",
       "      <td>0</td>\n",
       "      <td>1</td>\n",
       "      <td>184</td>\n",
       "      <td>&lt;rdkit.Chem.rdchem.Mol object at 0x7fb624658c80&gt;</td>\n",
       "      <td>479.246044</td>\n",
       "      <td>479.246044</td>\n",
       "      <td>0.000000e+00</td>\n",
       "      <td>8.2434</td>\n",
       "      <td>8.082</td>\n",
       "      <td>True</td>\n",
       "    </tr>\n",
       "    <tr>\n",
       "      <th>9869</th>\n",
       "      <td>Cc1sc2ccccc2c1C1=C(c2ccc(N3CCCCC3)cc2)C(=O)CC1</td>\n",
       "      <td>REZOROGWQVHBNO-UHFFFAOYSA-N</td>\n",
       "      <td>True</td>\n",
       "      <td>O=C1CCC(=C1c1ccc(cc1)N1CCCCC1)c1c(C)sc2c1cccc2</td>\n",
       "      <td>O=C1CCC(=C1c1ccc(cc1)N1CCCCC1)c1c(C)sc2c1cccc2</td>\n",
       "      <td>297.3</td>\n",
       "      <td>0.039879</td>\n",
       "      <td>0.4783</td>\n",
       "      <td>-7.4661</td>\n",
       "      <td>2.56248</td>\n",
       "      <td>...</td>\n",
       "      <td>1</td>\n",
       "      <td>1</td>\n",
       "      <td>142</td>\n",
       "      <td>&lt;rdkit.Chem.rdchem.Mol object at 0x7fb624658cf0&gt;</td>\n",
       "      <td>387.165685</td>\n",
       "      <td>387.165685</td>\n",
       "      <td>-5.684342e-14</td>\n",
       "      <td>7.9444</td>\n",
       "      <td>7.376</td>\n",
       "      <td>True</td>\n",
       "    </tr>\n",
       "  </tbody>\n",
       "</table>\n",
       "<p>6377 rows × 54 columns</p>\n",
       "</div>"
      ],
      "text/plain": [
       "                                                 smiles  \\\n",
       "1     O=C(O[C@@H]1Cc2c(O)cc(O)cc2O[C@@H]1c1cc(O)c(O)...   \n",
       "3                            Clc1ccc(OCCn2ccnc2)c(Cl)c1   \n",
       "6                        COC(=O)Cc1ccc(OC[C@@H]2CO2)cc1   \n",
       "7      CC1COc2c(N3CCN(C)CC3)c(F)cc3c(=O)c(C(=O)O)cn1c23   \n",
       "8     O=C1CC(=C=N[C@@H]2O[C@H](CO)[C@@H](O)[C@H](O)[...   \n",
       "...                                                 ...   \n",
       "9865      N#Cc1c(N2CCCCC2)cc(-c2ccccc2)c2c1-c1cccnc1CC2   \n",
       "9866                   N#Cc1nn(-c2ccc(Cl)cc2)nc1N1CCCC1   \n",
       "9867                  O=c1nc2n(c3nc(N4CCCCC4)ncc13)CCS2   \n",
       "9868  COC(=O)c1cc2ccccc2cc1-c1cc2ccccc2cc1C(=O)N(C)[...   \n",
       "9869     Cc1sc2ccccc2c1C1=C(c2ccc(N3CCCCC3)cc2)C(=O)CC1   \n",
       "\n",
       "                         inchikey  fpfail  \\\n",
       "1     WMBWREPUVVBILR-WIYYLYMNSA-N    True   \n",
       "3     FLMQUWVILHJCFJ-UHFFFAOYSA-N    True   \n",
       "6     UGCLEKVSHFQKOD-LLVKDONJSA-N    True   \n",
       "7     GSDSWSVVBLHKDQ-UHFFFAOYSA-N    True   \n",
       "8     GXOAJZBMIZDGCK-TVONUNMFSA-N    True   \n",
       "...                           ...     ...   \n",
       "9865  SMURFLRAIWQCMM-UHFFFAOYSA-N    True   \n",
       "9866  IQLDXBXINQMCHI-UHFFFAOYSA-N    True   \n",
       "9867  YTKGZLZRIUJNQI-UHFFFAOYSA-N    True   \n",
       "9868  HQYAPNWPDBPXTB-NRFANRHFSA-N    True   \n",
       "9869  REZOROGWQVHBNO-UHFFFAOYSA-N    True   \n",
       "\n",
       "                                                smi_pre  \\\n",
       "1     Oc1cc(O)c2c(c1)O[C@@H]([C@@H](C2)OC(=O)c1cc(O)...   \n",
       "3                            Clc1ccc(c(c1)Cl)OCCn1cncc1   \n",
       "6                         COC(=O)Cc1ccc(cc1)OC[C@H]1OC1   \n",
       "7        CN1CCN(CC1)c1c(F)cc2c3c1OCC(n3cc(c2=O)C(=O)O)C   \n",
       "8     OC[C@H]1O[C@@H](N=C=C2CC(=O)c3c4c2nc2cc(Cl)ccc...   \n",
       "...                                                 ...   \n",
       "9865        N#Cc1c(cc(c2c1c1cccnc1CC2)c1ccccc1)N1CCCCC1   \n",
       "9866                    N#Cc1nn(nc1N1CCCC1)c1ccc(cc1)Cl   \n",
       "9867                    O=c1nc2SCCn2c2c1cnc(n2)N1CCCCC1   \n",
       "9868  COC(=O)c1cc2ccccc2cc1c1cc2ccccc2cc1C(=O)N([C@H...   \n",
       "9869     O=C1CCC(=C1c1ccc(cc1)N1CCCCC1)c1c(C)sc2c1cccc2   \n",
       "\n",
       "                                               smi_post  lambda_sTDA (nm)  \\\n",
       "1     Oc1cc(O)c2c(c1)O[C@@H]([C@@H](C2)OC(=O)c1cc(O)...             263.5   \n",
       "3                            Clc1ccc(c(c1)Cl)OCCn1cncc1             245.2   \n",
       "6                         COC(=O)Cc1ccc(cc1)OC[C@H]1OC1             245.9   \n",
       "7        CN1CCN(CC1)c1c(F)cc2c3c1OCC(n3cc(c2=O)C(=O)O)C             291.8   \n",
       "8     OC[C@H]1O[C@@H](N=C=C2CC(=O)c3c4c2nc2cc(Cl)ccc...             345.9   \n",
       "...                                                 ...               ...   \n",
       "9865        N#Cc1c(cc(c2c1c1cccnc1CC2)c1ccccc1)N1CCCCC1             291.3   \n",
       "9866                    N#Cc1nn(nc1N1CCCC1)c1ccc(cc1)Cl             294.0   \n",
       "9867                    O=c1nc2SCCn2c2c1cnc(n2)N1CCCCC1             277.0   \n",
       "9868  COC(=O)c1cc2ccccc2cc1c1cc2ccccc2cc1C(=O)N([C@H...             292.7   \n",
       "9869     O=C1CCC(=C1c1ccc(cc1)N1CCCCC1)c1c(C)sc2c1cccc2             297.3   \n",
       "\n",
       "       f1_sTDA  lumo_dft  homo_dft  dmom_dft (D)  ...  \\\n",
       "1     0.013443    0.7857   -8.0182       4.27854  ...   \n",
       "3     0.013209    1.0193   -8.8676       3.86453  ...   \n",
       "6     0.039422    1.5588   -8.4152       2.38065  ...   \n",
       "7     0.049058    0.0174   -8.3155      10.03869  ...   \n",
       "8     0.072536   -0.9850   -8.4437       3.35184  ...   \n",
       "...        ...       ...       ...           ...  ...   \n",
       "9865  0.038060   -0.0526   -8.4226       3.94833  ...   \n",
       "9866  0.631244    0.0838   -8.0247       4.64755  ...   \n",
       "9867  0.004539    0.3888   -8.3370       9.34625  ...   \n",
       "9868  0.047515    0.1759   -8.0675       2.38643  ...   \n",
       "9869  0.039879    0.4783   -7.4661       2.56248  ...   \n",
       "\n",
       "      NumSaturatedHeterocycles  NumSaturatedRings  NumValenceElectrons  \\\n",
       "1                            0                  0                  172   \n",
       "3                            0                  0                   84   \n",
       "6                            1                  1                   86   \n",
       "7                            1                  1                  138   \n",
       "8                            1                  1                  164   \n",
       "...                        ...                ...                  ...   \n",
       "9865                         1                  1                  138   \n",
       "9866                         1                  1                   96   \n",
       "9867                         1                  1                  104   \n",
       "9868                         0                  1                  184   \n",
       "9869                         1                  1                  142   \n",
       "\n",
       "                                                  molp       MolWt  \\\n",
       "1     <rdkit.Chem.rdchem.Mol object at 0x7fb625384f20>  458.084911   \n",
       "3     <rdkit.Chem.rdchem.Mol object at 0x7fb625385150>  256.017018   \n",
       "6     <rdkit.Chem.rdchem.Mol object at 0x7fb625385540>  222.089209   \n",
       "7     <rdkit.Chem.rdchem.Mol object at 0x7fb6253855b0>  361.143784   \n",
       "8     <rdkit.Chem.rdchem.Mol object at 0x7fb6253857e0>  455.088413   \n",
       "...                                                ...         ...   \n",
       "9865  <rdkit.Chem.rdchem.Mol object at 0x7fb624658b30>  365.189198   \n",
       "9866  <rdkit.Chem.rdchem.Mol object at 0x7fb624658ba0>  273.078123   \n",
       "9867  <rdkit.Chem.rdchem.Mol object at 0x7fb624658c10>  289.099731   \n",
       "9868  <rdkit.Chem.rdchem.Mol object at 0x7fb624658c80>  479.246044   \n",
       "9869  <rdkit.Chem.rdchem.Mol object at 0x7fb624658cf0>  387.165685   \n",
       "\n",
       "          MolWtp     MolWtdiff  gapdft  gapmopac  nogoodpost  \n",
       "1     458.084911  0.000000e+00  8.8039     7.996        True  \n",
       "3     256.017018  0.000000e+00  9.8869     8.673        True  \n",
       "6     222.089209  0.000000e+00  9.9740     9.076        True  \n",
       "7     361.143784  5.684342e-14  8.3329     7.703        True  \n",
       "8     455.088413  1.136868e-13  7.4587     7.480        True  \n",
       "...          ...           ...     ...       ...         ...  \n",
       "9865  365.189198  0.000000e+00  8.3700     7.642        True  \n",
       "9866  273.078123  0.000000e+00  8.1085     7.450        True  \n",
       "9867  289.099731  0.000000e+00  8.7258     8.218        True  \n",
       "9868  479.246044  0.000000e+00  8.2434     8.082        True  \n",
       "9869  387.165685 -5.684342e-14  7.9444     7.376        True  \n",
       "\n",
       "[6377 rows x 54 columns]"
      ]
     },
     "execution_count": 55,
     "metadata": {},
     "output_type": "execute_result"
    }
   ],
   "source": [
    "df[df['nogood'] != False]"
   ]
  },
  {
   "cell_type": "markdown",
   "metadata": {},
   "source": [
    "#### Remove systems without sTDA (disabled)"
   ]
  },
  {
   "cell_type": "code",
   "execution_count": 13,
   "metadata": {},
   "outputs": [],
   "source": [
    "#df['nostda']=df['lambda_sTDA (nm)'].apply(np.isnan)\n",
    "#df = df[df.nostda == False]\n",
    "##df = df[df['lambda_sTDA (nm)'] >0 ]\n",
    "##df.shape"
   ]
  },
  {
   "cell_type": "markdown",
   "metadata": {},
   "source": [
    "### Clean up temporal columns"
   ]
  },
  {
   "cell_type": "markdown",
   "metadata": {},
   "source": []
  },
  {
   "cell_type": "code",
   "execution_count": 14,
   "metadata": {},
   "outputs": [
    {
     "name": "stderr",
     "output_type": "stream",
     "text": [
      "[15:09:35] WARNING: not removing hydrogen atom without neighbors\n",
      "[15:09:35] WARNING: not removing hydrogen atom without neighbors\n",
      "[15:09:35] WARNING: not removing hydrogen atom without neighbors\n",
      "[15:09:35] WARNING: not removing hydrogen atom without neighbors\n",
      "[15:09:35] WARNING: not removing hydrogen atom without neighbors\n",
      "[15:09:35] WARNING: not removing hydrogen atom without neighbors\n",
      "[15:09:35] WARNING: not removing hydrogen atom without neighbors\n",
      "[15:09:35] WARNING: not removing hydrogen atom without neighbors\n",
      "[15:09:35] WARNING: not removing hydrogen atom without neighbors\n",
      "[15:09:35] WARNING: not removing hydrogen atom without neighbors\n",
      "[15:09:35] WARNING: not removing hydrogen atom without neighbors\n",
      "[15:09:36] WARNING: not removing hydrogen atom without neighbors\n",
      "[15:09:37] SMILES Parse Error: ring closure 1 duplicates bond between atom 46 and atom 47 for input: 'C(CN1c2cc(ccc2C(=C2C(=O)N(c3c2ccc(c3)c2ccc(cc2)C=C(C(=O)O)C#N)CC(C)CC)C1=O)c1ccc2c(c1)C1C1N2c1ccc(cc1)C)CC'\n",
      "[15:09:37] WARNING: not removing hydrogen atom without neighbors\n",
      "[15:09:37] WARNING: not removing hydrogen atom without neighbors\n",
      "[15:09:37] WARNING: not removing hydrogen atom without neighbors\n",
      "[15:09:37] WARNING: not removing hydrogen atom without neighbors\n",
      "[15:09:37] WARNING: not removing hydrogen atom without neighbors\n",
      "[15:09:37] WARNING: not removing hydrogen atom without neighbors\n",
      "[15:09:37] WARNING: not removing hydrogen atom without neighbors\n",
      "[15:09:37] WARNING: not removing hydrogen atom without neighbors\n",
      "[15:09:37] WARNING: not removing hydrogen atom without neighbors\n",
      "[15:09:37] WARNING: not removing hydrogen atom without neighbors\n",
      "[15:09:37] WARNING: not removing hydrogen atom without neighbors\n",
      "[15:09:37] WARNING: not removing hydrogen atom without neighbors\n",
      "[15:09:37] SMILES Parse Error: ring closure 4 duplicates bond between atom 19 and atom 20 for input: 'CO[C@H]1C=CO[C@@]2(C)Oc3c(C2=O)c2C(=O)C(=CNN4C4)C(=C(c2c(c3C)O)O)NC(=O)C(=CC=C[C@@H]([C@@H]([C@H]([C@H]([C@H]([C@@H]([C@@H]1C)OC(=O)C)C)O)C)O)C)C'\n",
      "[15:09:37] WARNING: not removing hydrogen atom without neighbors\n",
      "[15:09:37] WARNING: not removing hydrogen atom without neighbors\n",
      "[15:09:37] WARNING: not removing hydrogen atom without neighbors\n",
      "[15:09:37] WARNING: not removing hydrogen atom without neighbors\n",
      "[15:09:37] WARNING: not removing hydrogen atom without neighbors\n",
      "[15:09:37] WARNING: not removing hydrogen atom without neighbors\n",
      "[15:09:37] Explicit valence for atom # 1 C, 6, is greater than permitted\n",
      "[15:09:37] Explicit valence for atom # 1 C, 6, is greater than permitted\n",
      "[15:09:37] Explicit valence for atom # 1 C, 5, is greater than permitted\n",
      "[15:09:37] Explicit valence for atom # 1 C, 5, is greater than permitted\n",
      "[15:09:37] Explicit valence for atom # 1 C, 5, is greater than permitted\n",
      "[15:09:37] Explicit valence for atom # 1 C, 6, is greater than permitted\n"
     ]
    },
    {
     "name": "stdout",
     "output_type": "stream",
     "text": [
      "Column names: ['inchikey', 'smi_pre', 'smi_post', 'lambda_sTDA (nm)', 'f1_sTDA', 'lumo_dft', 'homo_dft', 'dmom_dft (D)', 'lambda_z (nm)', 'f1_z', 'lumo_z', 'homo_z', 'dmom_z (D)', 'lumo_mopac', 'homo_mopac', 'dmom_mopac (D)', 'lambda_tddft (nm)', 'f1_tddft', 'lambda_exp_max (nm)', 'epsilon_exp_max ', 'lambda_exp_min (nm)', 'epsilon_exp_min ', 'solvent', 'nogood', 'nogoodp', 'smiles']\n",
      "Table Shape: (9870, 26)\n"
     ]
    },
    {
     "name": "stderr",
     "output_type": "stream",
     "text": [
      "[15:09:37] Explicit valence for atom # 12 C, 5, is greater than permitted\n"
     ]
    }
   ],
   "source": [
    "#del df['nogood']\n",
    "df['smiles'] = df['smi_post'].apply(canon_smiles)\n",
    "df = df[df['smiles'] != False]\n",
    "#del df['smi_post']\n",
    "#df.mask(df.eq('None')).dropna()\n",
    "#df.head(1)\n",
    "print('Column names: {}'.format(str(df.columns.tolist())))\n",
    "print('Table Shape: {}'.format(df.shape))"
   ]
  },
  {
   "cell_type": "markdown",
   "metadata": {},
   "source": [
    "### Move smiles columns front"
   ]
  },
  {
   "cell_type": "code",
   "execution_count": 15,
   "metadata": {},
   "outputs": [
    {
     "name": "stdout",
     "output_type": "stream",
     "text": [
      "Column names: ['smiles', 'inchikey', 'smi_pre', 'smi_post', 'lambda_sTDA (nm)', 'f1_sTDA', 'lumo_dft', 'homo_dft', 'dmom_dft (D)', 'lambda_z (nm)', 'f1_z', 'lumo_z', 'homo_z', 'dmom_z (D)', 'lumo_mopac', 'homo_mopac', 'dmom_mopac (D)', 'lambda_tddft (nm)', 'f1_tddft', 'lambda_exp_max (nm)', 'epsilon_exp_max ', 'lambda_exp_min (nm)', 'epsilon_exp_min ', 'solvent', 'nogood', 'nogoodp']\n"
     ]
    }
   ],
   "source": [
    "cols= list(df)\n",
    "cols.insert(0,cols.pop(cols.index('smiles')))\n",
    "df=df[cols]\n",
    "print('Column names: {}'.format(str(df.columns.tolist())))"
   ]
  },
  {
   "cell_type": "markdown",
   "metadata": {},
   "source": [
    "### Save file with cannonized smiles"
   ]
  },
  {
   "cell_type": "code",
   "execution_count": 16,
   "metadata": {},
   "outputs": [],
   "source": [
    "#df=df[['smiles',]]\n",
    "df.to_csv('../data/extended_db_Zindo_Nov_2019_V5_cann.csv', index=False, quoting=0)"
   ]
  },
  {
   "cell_type": "code",
   "execution_count": 17,
   "metadata": {},
   "outputs": [],
   "source": [
    "#max(df.smiles.apply(len))"
   ]
  },
  {
   "cell_type": "markdown",
   "metadata": {},
   "source": [
    "### Work only with post trimming"
   ]
  },
  {
   "cell_type": "code",
   "execution_count": 18,
   "metadata": {},
   "outputs": [
    {
     "name": "stdout",
     "output_type": "stream",
     "text": [
      "Column names: ['smiles', 'inchikey', 'smi_pre', 'smi_post', 'lambda_sTDA (nm)', 'f1_sTDA', 'lumo_dft', 'homo_dft', 'dmom_dft (D)', 'lambda_z (nm)', 'f1_z', 'lumo_z', 'homo_z', 'dmom_z (D)', 'lumo_mopac', 'homo_mopac', 'dmom_mopac (D)', 'lambda_tddft (nm)', 'f1_tddft', 'lambda_exp_max (nm)', 'epsilon_exp_max ', 'lambda_exp_min (nm)', 'epsilon_exp_min ', 'solvent', 'nogood', 'nogoodp']\n",
      "Table Shape: (9870, 26)\n"
     ]
    }
   ],
   "source": [
    "df = pd.read_csv('../data/extended_db_Zindo_Nov_2019_V5_cann.csv').fillna(value = 0)\n",
    "print('Column names: {}'.format(str(df.columns.tolist())))\n",
    "print('Table Shape: {}'.format(df.shape))"
   ]
  },
  {
   "cell_type": "code",
   "execution_count": 19,
   "metadata": {},
   "outputs": [
    {
     "data": {
      "text/plain": [
       "smiles                 7177\n",
       "inchikey               7177\n",
       "smi_pre                7177\n",
       "smi_post               7177\n",
       "lambda_sTDA (nm)       7177\n",
       "f1_sTDA                7177\n",
       "lumo_dft               7177\n",
       "homo_dft               7177\n",
       "dmom_dft (D)           7177\n",
       "lambda_z (nm)          7177\n",
       "f1_z                   7177\n",
       "lumo_z                 7177\n",
       "homo_z                 7177\n",
       "dmom_z (D)             7177\n",
       "lumo_mopac             7177\n",
       "homo_mopac             7177\n",
       "dmom_mopac (D)         7177\n",
       "lambda_tddft (nm)      7177\n",
       "f1_tddft               7177\n",
       "lambda_exp_max (nm)    7177\n",
       "epsilon_exp_max        7177\n",
       "lambda_exp_min (nm)    7177\n",
       "epsilon_exp_min        7177\n",
       "solvent                7177\n",
       "nogood                 7177\n",
       "nogoodp                7177\n",
       "dtype: int64"
      ]
     },
     "execution_count": 19,
     "metadata": {},
     "output_type": "execute_result"
    }
   ],
   "source": [
    "df[df['lambda_sTDA (nm)']>0].count()"
   ]
  },
  {
   "cell_type": "code",
   "execution_count": 20,
   "metadata": {},
   "outputs": [
    {
     "name": "stderr",
     "output_type": "stream",
     "text": [
      "[15:10:00] WARNING: not removing hydrogen atom without neighbors\n",
      "[15:10:00] WARNING: not removing hydrogen atom without neighbors\n",
      "[15:10:00] WARNING: not removing hydrogen atom without neighbors\n",
      "[15:10:00] WARNING: not removing hydrogen atom without neighbors\n",
      "[15:10:00] WARNING: not removing hydrogen atom without neighbors\n",
      "[15:10:00] WARNING: not removing hydrogen atom without neighbors\n",
      "[15:10:00] WARNING: not removing hydrogen atom without neighbors\n",
      "[15:10:00] WARNING: not removing hydrogen atom without neighbors\n",
      "[15:10:00] WARNING: not removing hydrogen atom without neighbors\n",
      "[15:10:00] WARNING: not removing hydrogen atom without neighbors\n",
      "[15:10:00] WARNING: not removing hydrogen atom without neighbors\n",
      "[15:10:01] WARNING: not removing hydrogen atom without neighbors\n",
      "[15:10:01] WARNING: not removing hydrogen atom without neighbors\n",
      "[15:10:01] WARNING: not removing hydrogen atom without neighbors\n",
      "[15:10:01] WARNING: not removing hydrogen atom without neighbors\n",
      "[15:10:01] WARNING: not removing hydrogen atom without neighbors\n",
      "[15:10:01] WARNING: not removing hydrogen atom without neighbors\n",
      "[15:10:01] WARNING: not removing hydrogen atom without neighbors\n",
      "[15:10:01] WARNING: not removing hydrogen atom without neighbors\n",
      "[15:10:01] WARNING: not removing hydrogen atom without neighbors\n",
      "[15:10:01] WARNING: not removing hydrogen atom without neighbors\n",
      "[15:10:01] WARNING: not removing hydrogen atom without neighbors\n",
      "[15:10:01] WARNING: not removing hydrogen atom without neighbors\n",
      "[15:10:01] WARNING: not removing hydrogen atom without neighbors\n",
      "[15:10:01] WARNING: not removing hydrogen atom without neighbors\n",
      "[15:10:01] WARNING: not removing hydrogen atom without neighbors\n",
      "[15:10:01] WARNING: not removing hydrogen atom without neighbors\n",
      "[15:10:01] WARNING: not removing hydrogen atom without neighbors\n",
      "[15:10:01] WARNING: not removing hydrogen atom without neighbors\n",
      "[15:10:01] WARNING: not removing hydrogen atom without neighbors\n"
     ]
    }
   ],
   "source": [
    "df['mol'] = df['smiles'].apply(Chem.MolFromSmiles)"
   ]
  },
  {
   "cell_type": "code",
   "execution_count": 21,
   "metadata": {},
   "outputs": [
    {
     "data": {
      "text/plain": [
       "(9870, 28)"
      ]
     },
     "execution_count": 21,
     "metadata": {},
     "output_type": "execute_result"
    }
   ],
   "source": [
    "#dfc.shape[0]\n",
    "fpfail=[]\n",
    "#for e in dfc.shape[0]:\n",
    "for e in range(df.shape[0]):\n",
    "    try:\n",
    "        fp = applyMorganFP(df.iloc[e].mol,fptype='count',fp_args={'radius':4, 'nBits':2048})\n",
    "        fpfail.append(True)\n",
    "    except:\n",
    "        fpfail.append(False)\n",
    "        print(e)\n",
    "    \n",
    "#applyMorganFP(e,fptype='count',fp_args={'radius':4, 'nBits':2048})\n",
    "\n",
    "df.insert(2,'fpfail',fpfail,True)\n",
    "\n",
    "df = df[df.fpfail!=False]\n",
    "df.shape"
   ]
  },
  {
   "cell_type": "code",
   "execution_count": 22,
   "metadata": {},
   "outputs": [],
   "source": [
    "df['morganfps-b']=df['mol'].apply(applyMorganFP,fptype='bit',fp_args={'radius':6, 'nBits':2048})\n",
    "df['morganfps-b8']=df['mol'].apply(applyMorganFP,fptype='bit',fp_args={'radius':8, 'nBits':2048})"
   ]
  },
  {
   "cell_type": "code",
   "execution_count": 23,
   "metadata": {},
   "outputs": [],
   "source": [
    "getonly=['NHOHCount', 'NOCount', 'NumAliphaticCarbocycles',\n",
    "                           'NumAliphaticHeterocycles', 'NumAliphaticRings',\n",
    "                           'NumAromaticCarbocycles', 'NumAromaticHeterocycles',\n",
    "                           'NumAromaticRings', 'NumHAcceptors', 'NumHDonors', \n",
    "                           'NumHeteroatoms', 'NumRadicalElectrons', 'NumRotatableBonds',\n",
    "                           'NumSaturatedCarbocycles', 'NumSaturatedHeterocycles', \n",
    "                           'NumSaturatedRings', 'NumValenceElectrons',\n",
    "                            ]"
   ]
  },
  {
   "cell_type": "code",
   "execution_count": 24,
   "metadata": {},
   "outputs": [],
   "source": [
    "import inspect\n",
    "import rdkit.Chem.Descriptors as Descriptors\n",
    "#https://github.com/jmcarpenter2/swifter\n",
    "#import swifter \n",
    "from collections import OrderedDict\n",
    "\n",
    "calc_props = OrderedDict(inspect.getmembers(Descriptors, inspect.isfunction))\n",
    "for key in list(calc_props.keys()):\n",
    "    if key.startswith('_'):\n",
    "        del calc_props[key]\n",
    "    else:\n",
    "        thisnot=False\n",
    "        for myprop in getonly:\n",
    "            if myprop == key:\n",
    "                thisnot=True\n",
    "        if not thisnot:\n",
    "            del calc_props[key]"
   ]
  },
  {
   "cell_type": "code",
   "execution_count": 25,
   "metadata": {},
   "outputs": [
    {
     "name": "stdout",
     "output_type": "stream",
     "text": [
      "Found 17 molecular descriptors in RDKIT\n"
     ]
    }
   ],
   "source": [
    "from tqdm import tqdm\n",
    "def calc_all(dfc,calc_props,smiles_col='smiles'):\n",
    "    #df['mol'] = df[smiles_col].apply(Chem.MolFromSmiles)\n",
    "    for key,val in tqdm (calc_props.items()):\n",
    "    #for key,val in calc_props.items():\n",
    "        #df[key] = df['mol'].apply(val)\n",
    "        df[key] = df['mol'].apply(val)\n",
    "    return df\n",
    "print('Found {} molecular descriptors in RDKIT'.format(len(calc_props)))\n",
    "#calc_props"
   ]
  },
  {
   "cell_type": "code",
   "execution_count": 26,
   "metadata": {},
   "outputs": [
    {
     "name": "stderr",
     "output_type": "stream",
     "text": [
      "100%|██████████████████████████████████████████████████████████████████████████████████████| 17/17 [00:03<00:00,  5.27it/s]\n"
     ]
    }
   ],
   "source": [
    "df=calc_all(df,calc_props)"
   ]
  },
  {
   "cell_type": "code",
   "execution_count": 27,
   "metadata": {},
   "outputs": [
    {
     "name": "stdout",
     "output_type": "stream",
     "text": [
      "Column names: ['smiles', 'inchikey', 'fpfail', 'smi_pre', 'smi_post', 'lambda_sTDA (nm)', 'f1_sTDA', 'lumo_dft', 'homo_dft', 'dmom_dft (D)', 'lambda_z (nm)', 'f1_z', 'lumo_z', 'homo_z', 'dmom_z (D)', 'lumo_mopac', 'homo_mopac', 'dmom_mopac (D)', 'lambda_tddft (nm)', 'f1_tddft', 'lambda_exp_max (nm)', 'epsilon_exp_max ', 'lambda_exp_min (nm)', 'epsilon_exp_min ', 'solvent', 'nogood', 'nogoodp', 'mol', 'morganfps-b', 'morganfps-b8', 'NHOHCount', 'NOCount', 'NumAliphaticCarbocycles', 'NumAliphaticHeterocycles', 'NumAliphaticRings', 'NumAromaticCarbocycles', 'NumAromaticHeterocycles', 'NumAromaticRings', 'NumHAcceptors', 'NumHDonors', 'NumHeteroatoms', 'NumRadicalElectrons', 'NumRotatableBonds', 'NumSaturatedCarbocycles', 'NumSaturatedHeterocycles', 'NumSaturatedRings', 'NumValenceElectrons']\n"
     ]
    }
   ],
   "source": [
    "print('Column names: {}'.format(str(df.columns.tolist())))"
   ]
  },
  {
   "cell_type": "code",
   "execution_count": 28,
   "metadata": {},
   "outputs": [],
   "source": [
    "df.to_pickle('../data/extended_db_Zindo_Nov_2019_V5_cannfp.pkl')"
   ]
  },
  {
   "cell_type": "code",
   "execution_count": 29,
   "metadata": {},
   "outputs": [
    {
     "data": {
      "text/html": [
       "<div>\n",
       "<style scoped>\n",
       "    .dataframe tbody tr th:only-of-type {\n",
       "        vertical-align: middle;\n",
       "    }\n",
       "\n",
       "    .dataframe tbody tr th {\n",
       "        vertical-align: top;\n",
       "    }\n",
       "\n",
       "    .dataframe thead th {\n",
       "        text-align: right;\n",
       "    }\n",
       "</style>\n",
       "<table border=\"1\" class=\"dataframe\">\n",
       "  <thead>\n",
       "    <tr style=\"text-align: right;\">\n",
       "      <th></th>\n",
       "      <th>smiles</th>\n",
       "      <th>inchikey</th>\n",
       "      <th>fpfail</th>\n",
       "      <th>smi_pre</th>\n",
       "      <th>smi_post</th>\n",
       "      <th>lambda_sTDA (nm)</th>\n",
       "      <th>f1_sTDA</th>\n",
       "      <th>lumo_dft</th>\n",
       "      <th>homo_dft</th>\n",
       "      <th>dmom_dft (D)</th>\n",
       "      <th>...</th>\n",
       "      <th>NumAromaticRings</th>\n",
       "      <th>NumHAcceptors</th>\n",
       "      <th>NumHDonors</th>\n",
       "      <th>NumHeteroatoms</th>\n",
       "      <th>NumRadicalElectrons</th>\n",
       "      <th>NumRotatableBonds</th>\n",
       "      <th>NumSaturatedCarbocycles</th>\n",
       "      <th>NumSaturatedHeterocycles</th>\n",
       "      <th>NumSaturatedRings</th>\n",
       "      <th>NumValenceElectrons</th>\n",
       "    </tr>\n",
       "  </thead>\n",
       "  <tbody>\n",
       "    <tr>\n",
       "      <th>0</th>\n",
       "      <td>O=C1O[C@H]([C@@H](O)CO)C(O)=C1O</td>\n",
       "      <td>CIWBSHSKHKDKBQ-JLAZNSOCSA-N</td>\n",
       "      <td>True</td>\n",
       "      <td>OC[C@@H]([C@H]1OC(=O)C(=C1O)O)O</td>\n",
       "      <td>OC[C@@H]([C@H]1OC(=O)C(=C1O)O)O</td>\n",
       "      <td>0.0</td>\n",
       "      <td>0.000000</td>\n",
       "      <td>0.0000</td>\n",
       "      <td>0.0000</td>\n",
       "      <td>0.00000</td>\n",
       "      <td>...</td>\n",
       "      <td>0</td>\n",
       "      <td>6</td>\n",
       "      <td>4</td>\n",
       "      <td>6</td>\n",
       "      <td>0</td>\n",
       "      <td>2</td>\n",
       "      <td>0</td>\n",
       "      <td>0</td>\n",
       "      <td>0</td>\n",
       "      <td>68</td>\n",
       "    </tr>\n",
       "    <tr>\n",
       "      <th>1</th>\n",
       "      <td>O=C(O[C@@H]1Cc2c(O)cc(O)cc2O[C@@H]1c1cc(O)c(O)...</td>\n",
       "      <td>WMBWREPUVVBILR-WIYYLYMNSA-N</td>\n",
       "      <td>True</td>\n",
       "      <td>Oc1cc(O)c2c(c1)O[C@@H]([C@@H](C2)OC(=O)c1cc(O)...</td>\n",
       "      <td>Oc1cc(O)c2c(c1)O[C@@H]([C@@H](C2)OC(=O)c1cc(O)...</td>\n",
       "      <td>263.5</td>\n",
       "      <td>0.013443</td>\n",
       "      <td>0.7857</td>\n",
       "      <td>-8.0182</td>\n",
       "      <td>4.27854</td>\n",
       "      <td>...</td>\n",
       "      <td>3</td>\n",
       "      <td>11</td>\n",
       "      <td>8</td>\n",
       "      <td>11</td>\n",
       "      <td>0</td>\n",
       "      <td>3</td>\n",
       "      <td>0</td>\n",
       "      <td>0</td>\n",
       "      <td>0</td>\n",
       "      <td>172</td>\n",
       "    </tr>\n",
       "    <tr>\n",
       "      <th>2</th>\n",
       "      <td>Brc1nc2c(Br)c(Br)c(Br)c(Br)c2[nH]1</td>\n",
       "      <td>RKIBZFOZIJTIJU-UHFFFAOYSA-N</td>\n",
       "      <td>True</td>\n",
       "      <td>Brc1[nH]c2c(n1)c(Br)c(c(c2Br)Br)Br</td>\n",
       "      <td>Brc1[nH]c2c(n1)c(Br)c(c(c2Br)Br)Br</td>\n",
       "      <td>264.0</td>\n",
       "      <td>0.061442</td>\n",
       "      <td>0.1205</td>\n",
       "      <td>-8.8347</td>\n",
       "      <td>3.58474</td>\n",
       "      <td>...</td>\n",
       "      <td>2</td>\n",
       "      <td>1</td>\n",
       "      <td>1</td>\n",
       "      <td>7</td>\n",
       "      <td>0</td>\n",
       "      <td>0</td>\n",
       "      <td>0</td>\n",
       "      <td>0</td>\n",
       "      <td>0</td>\n",
       "      <td>74</td>\n",
       "    </tr>\n",
       "  </tbody>\n",
       "</table>\n",
       "<p>3 rows × 47 columns</p>\n",
       "</div>"
      ],
      "text/plain": [
       "                                              smiles  \\\n",
       "0                    O=C1O[C@H]([C@@H](O)CO)C(O)=C1O   \n",
       "1  O=C(O[C@@H]1Cc2c(O)cc(O)cc2O[C@@H]1c1cc(O)c(O)...   \n",
       "2                 Brc1nc2c(Br)c(Br)c(Br)c(Br)c2[nH]1   \n",
       "\n",
       "                      inchikey  fpfail  \\\n",
       "0  CIWBSHSKHKDKBQ-JLAZNSOCSA-N    True   \n",
       "1  WMBWREPUVVBILR-WIYYLYMNSA-N    True   \n",
       "2  RKIBZFOZIJTIJU-UHFFFAOYSA-N    True   \n",
       "\n",
       "                                             smi_pre  \\\n",
       "0                    OC[C@@H]([C@H]1OC(=O)C(=C1O)O)O   \n",
       "1  Oc1cc(O)c2c(c1)O[C@@H]([C@@H](C2)OC(=O)c1cc(O)...   \n",
       "2                 Brc1[nH]c2c(n1)c(Br)c(c(c2Br)Br)Br   \n",
       "\n",
       "                                            smi_post  lambda_sTDA (nm)  \\\n",
       "0                    OC[C@@H]([C@H]1OC(=O)C(=C1O)O)O               0.0   \n",
       "1  Oc1cc(O)c2c(c1)O[C@@H]([C@@H](C2)OC(=O)c1cc(O)...             263.5   \n",
       "2                 Brc1[nH]c2c(n1)c(Br)c(c(c2Br)Br)Br             264.0   \n",
       "\n",
       "    f1_sTDA  lumo_dft  homo_dft  dmom_dft (D)  ...  NumAromaticRings  \\\n",
       "0  0.000000    0.0000    0.0000       0.00000  ...                 0   \n",
       "1  0.013443    0.7857   -8.0182       4.27854  ...                 3   \n",
       "2  0.061442    0.1205   -8.8347       3.58474  ...                 2   \n",
       "\n",
       "   NumHAcceptors  NumHDonors NumHeteroatoms  NumRadicalElectrons  \\\n",
       "0              6           4              6                    0   \n",
       "1             11           8             11                    0   \n",
       "2              1           1              7                    0   \n",
       "\n",
       "   NumRotatableBonds  NumSaturatedCarbocycles  NumSaturatedHeterocycles  \\\n",
       "0                  2                        0                         0   \n",
       "1                  3                        0                         0   \n",
       "2                  0                        0                         0   \n",
       "\n",
       "   NumSaturatedRings  NumValenceElectrons  \n",
       "0                  0                   68  \n",
       "1                  0                  172  \n",
       "2                  0                   74  \n",
       "\n",
       "[3 rows x 47 columns]"
      ]
     },
     "execution_count": 29,
     "metadata": {},
     "output_type": "execute_result"
    }
   ],
   "source": [
    "df.head(3)"
   ]
  },
  {
   "cell_type": "code",
   "execution_count": 30,
   "metadata": {},
   "outputs": [],
   "source": [
    "import rdkit.Chem.Descriptors as Descriptors"
   ]
  },
  {
   "cell_type": "code",
   "execution_count": 31,
   "metadata": {},
   "outputs": [
    {
     "name": "stderr",
     "output_type": "stream",
     "text": [
      "[15:10:32] WARNING: not removing hydrogen atom without neighbors\n",
      "[15:10:32] WARNING: not removing hydrogen atom without neighbors\n",
      "[15:10:32] WARNING: not removing hydrogen atom without neighbors\n",
      "[15:10:32] WARNING: not removing hydrogen atom without neighbors\n",
      "[15:10:32] WARNING: not removing hydrogen atom without neighbors\n",
      "[15:10:32] WARNING: not removing hydrogen atom without neighbors\n",
      "[15:10:32] WARNING: not removing hydrogen atom without neighbors\n",
      "[15:10:32] WARNING: not removing hydrogen atom without neighbors\n",
      "[15:10:32] WARNING: not removing hydrogen atom without neighbors\n",
      "[15:10:32] WARNING: not removing hydrogen atom without neighbors\n",
      "[15:10:32] WARNING: not removing hydrogen atom without neighbors\n",
      "[15:10:33] WARNING: not removing hydrogen atom without neighbors\n",
      "[15:10:33] WARNING: not removing hydrogen atom without neighbors\n",
      "[15:10:33] WARNING: not removing hydrogen atom without neighbors\n",
      "[15:10:33] WARNING: not removing hydrogen atom without neighbors\n",
      "[15:10:33] WARNING: not removing hydrogen atom without neighbors\n",
      "[15:10:33] WARNING: not removing hydrogen atom without neighbors\n",
      "[15:10:33] WARNING: not removing hydrogen atom without neighbors\n",
      "[15:10:33] WARNING: not removing hydrogen atom without neighbors\n",
      "[15:10:33] WARNING: not removing hydrogen atom without neighbors\n",
      "[15:10:33] WARNING: not removing hydrogen atom without neighbors\n",
      "[15:10:33] WARNING: not removing hydrogen atom without neighbors\n",
      "[15:10:33] WARNING: not removing hydrogen atom without neighbors\n",
      "[15:10:33] WARNING: not removing hydrogen atom without neighbors\n",
      "[15:10:33] WARNING: not removing hydrogen atom without neighbors\n",
      "[15:10:33] WARNING: not removing hydrogen atom without neighbors\n",
      "[15:10:33] WARNING: not removing hydrogen atom without neighbors\n",
      "[15:10:33] WARNING: not removing hydrogen atom without neighbors\n",
      "[15:10:33] WARNING: not removing hydrogen atom without neighbors\n",
      "[15:10:33] WARNING: not removing hydrogen atom without neighbors\n"
     ]
    }
   ],
   "source": [
    "df['molp'] = df['smi_pre'].apply(Chem.MolFromSmiles)"
   ]
  },
  {
   "cell_type": "code",
   "execution_count": 32,
   "metadata": {},
   "outputs": [],
   "source": [
    "df['MolWt']=df.mol.apply(Descriptors.ExactMolWt)"
   ]
  },
  {
   "cell_type": "code",
   "execution_count": 33,
   "metadata": {},
   "outputs": [],
   "source": [
    "df['MolWtp']=df.molp.apply(Descriptors.ExactMolWt)"
   ]
  },
  {
   "cell_type": "code",
   "execution_count": 34,
   "metadata": {},
   "outputs": [],
   "source": [
    "df['MolWtdiff']=df['MolWt']-df['MolWtp']"
   ]
  },
  {
   "cell_type": "code",
   "execution_count": 35,
   "metadata": {},
   "outputs": [
    {
     "data": {
      "text/plain": [
       "<pandas.plotting._core.PlotAccessor object at 0x7fb624431010>"
      ]
     },
     "execution_count": 35,
     "metadata": {},
     "output_type": "execute_result"
    }
   ],
   "source": [
    "df['MolWtdiff'].plot"
   ]
  },
  {
   "cell_type": "code",
   "execution_count": 36,
   "metadata": {},
   "outputs": [
    {
     "data": {
      "text/plain": [
       "<Axes: xlabel='MolWt', ylabel='MolWtp'>"
      ]
     },
     "execution_count": 36,
     "metadata": {},
     "output_type": "execute_result"
    },
    {
     "data": {
      "image/png": "[encoded data removed]",
      "text/plain": [
       "<Figure size 860x688 with 1 Axes>"
      ]
     },
     "metadata": {},
     "output_type": "display_data"
    }
   ],
   "source": [
    "df.plot.scatter(x='MolWt', y='MolWtp',s=2)"
   ]
  },
  {
   "cell_type": "code",
   "execution_count": 37,
   "metadata": {},
   "outputs": [],
   "source": [
    "import seaborn as sns"
   ]
  },
  {
   "cell_type": "code",
   "execution_count": 38,
   "metadata": {},
   "outputs": [
    {
     "name": "stderr",
     "output_type": "stream",
     "text": [
      "/tmp/ipykernel_43940/1372209034.py:1: UserWarning: \n",
      "\n",
      "`distplot` is a deprecated function and will be removed in seaborn v0.14.0.\n",
      "\n",
      "Please adapt your code to use either `displot` (a figure-level function with\n",
      "similar flexibility) or `histplot` (an axes-level function for histograms).\n",
      "\n",
      "For a guide to updating your code to use the new functions, please see\n",
      "https://gist.github.com/mwaskom/de44147ed2974457ad6372750bbe5751\n",
      "\n",
      "  sns.distplot(df['MolWtdiff'].values[:])\n"
     ]
    },
    {
     "data": {
      "text/plain": [
       "<Axes: ylabel='Density'>"
      ]
     },
     "execution_count": 38,
     "metadata": {},
     "output_type": "execute_result"
    },
    {
     "data": {
      "image/png": "[encoded data removed]",
      "text/plain": [
       "<Figure size 860x688 with 1 Axes>"
      ]
     },
     "metadata": {},
     "output_type": "display_data"
    }
   ],
   "source": [
    "sns.distplot(df['MolWtdiff'].values[:])"
   ]
  },
  {
   "cell_type": "code",
   "execution_count": 39,
   "metadata": {},
   "outputs": [],
   "source": [
    "df['gapdft']=df['lumo_dft']-df['homo_dft']\n",
    "#dfzi.homo_z= dfzi.homo_z.apply(float)\n",
    "#dfzi['gapz']=dfzi['lumo_z']-dfzi['homo_z']\n",
    "#dfzi['gapmopac']=dfzi['lumo_mopac']-dfzi['homo_mopac']"
   ]
  },
  {
   "cell_type": "code",
   "execution_count": 40,
   "metadata": {},
   "outputs": [
    {
     "ename": "NameError",
     "evalue": "name 'dfc' is not defined",
     "output_type": "error",
     "traceback": [
      "\u001b[0;31m---------------------------------------------------------------------------\u001b[0m",
      "\u001b[0;31mNameError\u001b[0m                                 Traceback (most recent call last)",
      "Cell \u001b[0;32mIn[40], line 1\u001b[0m\n\u001b[0;32m----> 1\u001b[0m df\u001b[38;5;241m.\u001b[39mhomo_z \u001b[38;5;241m=\u001b[39m \u001b[43mdfc\u001b[49m\u001b[38;5;241m.\u001b[39mhomo_z\u001b[38;5;241m.\u001b[39mapply(\u001b[38;5;28mfloat\u001b[39m)\n\u001b[1;32m      2\u001b[0m df[\u001b[38;5;124m'\u001b[39m\u001b[38;5;124mgapz\u001b[39m\u001b[38;5;124m'\u001b[39m] \u001b[38;5;241m=\u001b[39m df[\u001b[38;5;124m'\u001b[39m\u001b[38;5;124mlumo_z\u001b[39m\u001b[38;5;124m'\u001b[39m] \u001b[38;5;241m-\u001b[39m df[\u001b[38;5;124m'\u001b[39m\u001b[38;5;124mhomo_z\u001b[39m\u001b[38;5;124m'\u001b[39m]\n",
      "\u001b[0;31mNameError\u001b[0m: name 'dfc' is not defined"
     ]
    }
   ],
   "source": [
    "df.homo_z = dfc.homo_z.apply(float)\n",
    "df['gapz'] = df['lumo_z'] - df['homo_z']"
   ]
  },
  {
   "cell_type": "code",
   "execution_count": 41,
   "metadata": {},
   "outputs": [],
   "source": [
    "df['gapmopac']=df['lumo_mopac']-df['homo_mopac']"
   ]
  },
  {
   "cell_type": "code",
   "execution_count": 42,
   "metadata": {},
   "outputs": [
    {
     "name": "stdout",
     "output_type": "stream",
     "text": [
      "Column names: ['smiles', 'inchikey', 'fpfail', 'smi_pre', 'smi_post', 'lambda_sTDA (nm)', 'f1_sTDA', 'lumo_dft', 'homo_dft', 'dmom_dft (D)', 'lambda_z (nm)', 'f1_z', 'lumo_z', 'homo_z', 'dmom_z (D)', 'lumo_mopac', 'homo_mopac', 'dmom_mopac (D)', 'lambda_tddft (nm)', 'f1_tddft', 'lambda_exp_max (nm)', 'epsilon_exp_max ', 'lambda_exp_min (nm)', 'epsilon_exp_min ', 'solvent', 'nogood', 'nogoodp', 'mol', 'morganfps-b', 'morganfps-b8', 'NHOHCount', 'NOCount', 'NumAliphaticCarbocycles', 'NumAliphaticHeterocycles', 'NumAliphaticRings', 'NumAromaticCarbocycles', 'NumAromaticHeterocycles', 'NumAromaticRings', 'NumHAcceptors', 'NumHDonors', 'NumHeteroatoms', 'NumRadicalElectrons', 'NumRotatableBonds', 'NumSaturatedCarbocycles', 'NumSaturatedHeterocycles', 'NumSaturatedRings', 'NumValenceElectrons', 'molp', 'MolWt', 'MolWtp', 'MolWtdiff', 'gapdft', 'gapmopac']\n",
      "Table Shape: (9870, 53)\n"
     ]
    }
   ],
   "source": [
    "df.to_pickle('../data/extended_db_Zindo_Nov_2019_V5_cannfp.pkl')\n",
    "print('Column names: {}'.format(str(df.columns.tolist())))\n",
    "print('Table Shape: {}'.format(df.shape))"
   ]
  },
  {
   "cell_type": "code",
   "execution_count": null,
   "metadata": {},
   "outputs": [],
   "source": []
  }
 ],
 "metadata": {
  "kernelspec": {
   "display_name": "introhpc",
   "language": "python",
   "name": "introhpc"
  },
  "language_info": {
   "codemirror_mode": {
    "name": "ipython",
    "version": 3
   },
   "file_extension": ".py",
   "mimetype": "text/x-python",
   "name": "python",
   "nbconvert_exporter": "python",
   "pygments_lexer": "ipython3",
   "version": "3.11.4"
  }
 },
 "nbformat": 4,
 "nbformat_minor": 4
}
