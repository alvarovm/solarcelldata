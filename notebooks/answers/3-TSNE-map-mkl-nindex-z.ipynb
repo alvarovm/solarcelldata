{
 "cells": [
  {
   "cell_type": "markdown",
   "metadata": {},
   "source": [
    "# Molecular Maps: TSNE CLustering for POST Trimming"
   ]
  },
  {
   "cell_type": "markdown",
   "metadata": {},
   "source": [
    "Author: AlvaroVM [https://alvarovm.github.io](http://alvarovm.github.io)\n",
    "Version: 0.0.1"
   ]
  },
  {
   "cell_type": "markdown",
   "metadata": {},
   "source": [
    "## Example 1: PCA to distinguish between rings and chains"
   ]
  },
  {
   "cell_type": "markdown",
   "metadata": {},
   "source": [
    "For this example we define in SMILES string two groups of molecules with different substituents, such as -CH3, -O, -F, -Cl, and- I , in molecules with six carbons 1) in a ring and 2) in chain. Those molecules would be added to a list, additionally we add a 'certain' property , this could be used later as a flag."
   ]
  },
  {
   "cell_type": "code",
   "execution_count": null,
   "metadata": {},
   "outputs": [],
   "source": [
    "import sys\n",
    "import os\n",
    "SRC_DIR='../..'"
   ]
  },
  {
   "cell_type": "code",
   "execution_count": null,
   "metadata": {},
   "outputs": [],
   "source": [
    "sys.path.append(os.path.join(SRC_DIR, 'code'))\n",
    "import utils"
   ]
  },
  {
   "cell_type": "code",
   "execution_count": null,
   "metadata": {},
   "outputs": [],
   "source": [
    "%matplotlib inline\n",
    "import matplotlib.pyplot as plt\n",
    "import numpy as np\n",
    "\n",
    "import pandas as pd\n",
    "#https://github.com/jmcarpenter2/swifter\n",
    "#import swifter\n",
    "#2-TSNE-UMAP-map-cuda-Copy1\n",
    "\n",
    "from rdkit import Chem\n",
    "from rdkit.Chem import AllChem\n",
    "from rdkit import DataStructs \n",
    "from rdkit.Chem import Draw\n",
    "from rdkit.Chem.rdMolDescriptors import  GetHashedMorganFingerprint\n",
    "from rdkit.DataStructs import ConvertToNumpyArray\n",
    "\n",
    "from sklearn.manifold import TSNE\n",
    "\n",
    "import hdbscan\n",
    "\n",
    "import seaborn as sns\n",
    "\n",
    "utils.plot_settings2()\n",
    "\n",
    "results_path = os.path.join(SRC_DIR,'results')"
   ]
  },
  {
   "cell_type": "code",
   "execution_count": null,
   "metadata": {},
   "outputs": [],
   "source": [
    "df = pd.read_pickle('../../data/extended_db_Zindo_Nov_2019_V5_cannfp.pkl').fillna(value = 0)\n",
    "print('Column names: {}'.format(str(df.columns.tolist())))\n",
    "print('Table Shape: {}'.format(df.shape))\n",
    "#df.head(2)"
   ]
  },
  {
   "cell_type": "markdown",
   "metadata": {},
   "source": [
    "### Exercises\n",
    "* Take a sample of 1000 rows from the data set"
   ]
  },
  {
   "cell_type": "code",
   "execution_count": null,
   "metadata": {},
   "outputs": [],
   "source": [
    "df = df.sample(n=1000, random_state=1)"
   ]
  },
  {
   "cell_type": "markdown",
   "metadata": {},
   "source": [
    "* Select only the rows with `lambda_exp_max (nm)` between 200 and 800 nm"
   ]
  },
  {
   "cell_type": "code",
   "execution_count": null,
   "metadata": {},
   "outputs": [],
   "source": [
    "#tag='lambda_exp_max (nm)'\n",
    "tag='lambda_sTDA (nm)'\n",
    "df=df[df['lambda_sTDA (nm)']<600]\n",
    "df=df[df['lambda_sTDA (nm)']>250]\n",
    "print('Table Shape: {}'.format(df.shape))"
   ]
  },
  {
   "cell_type": "markdown",
   "metadata": {},
   "source": [
    "* Print a histogram plot (use Seaborn and `distplot`)"
   ]
  },
  {
   "cell_type": "code",
   "execution_count": null,
   "metadata": {},
   "outputs": [],
   "source": [
    "import seaborn as sns\n",
    "plt.figure(figsize=(6,4))\n",
    "sns.distplot( df['lambda_exp_max (nm)'])\n",
    "sns.distplot( df['lambda_exp_min (nm)'])\n",
    "plt.show"
   ]
  },
  {
   "cell_type": "markdown",
   "metadata": {},
   "source": [
    "* Take the fingerprint column and `X=df['morganfps'].values.tolist()` and perfomen a t-SNE cluster analysis, as  `tsne = TSNE(n_components=2, metric='jaccard',perplexity=15, n_iter=3000, init='pca', random_state=23)`"
   ]
  },
  {
   "cell_type": "code",
   "execution_count": null,
   "metadata": {},
   "outputs": [],
   "source": [
    "X=df['morganfps-b'].values.tolist()\n",
    "X = np.array(X, order='C')\n",
    "#https://scikit-learn.org/stable/modules/generated/sklearn.manifold.TSNE.html\n",
    "#tsne = TSNE(n_components=2, metric=tanimoto_dist,perplexity=50)\n",
    "\n",
    "tsne = TSNE(n_components=2, metric='jaccard',perplexity=50, init='pca',n_iter=1000)\n",
    "#tsne = TSNE(n_components=2, metric='jaccard',perplexity=50, n_iter=250)\n",
    "#tsne = TSNE(n_components=2, metric='jaccard',perplexity=50, n_iter=1000, init='pca', random_state=0)\n",
    "\n",
    "tsne_X = tsne.fit_transform(X)"
   ]
  },
  {
   "cell_type": "markdown",
   "metadata": {},
   "source": [
    "* Plot the t-SNE analysis in 2D graph colored by the `lambda_exp_max (nm)`"
   ]
  },
  {
   "cell_type": "code",
   "execution_count": null,
   "metadata": {},
   "outputs": [],
   "source": [
    "plt.figure(figsize=(6,8))\n",
    "plt.scatter(tsne_X.T[0], tsne_X.T[1], marker='o',c=df[ 'lambda_exp_max (nm)'].values[:],s=5, cmap='rainbow')\n",
    "\n",
    "#plt.scatter(X_skernpca[y==1, 0], X_skernpca[y==1, 1], \n",
    "#             color='blue', marker='o', alpha=0.5)\n",
    "plt.xlabel('PC1')\n",
    "plt.ylabel('PC2')\n",
    "plt.title('Organic Dyes: t-SNE')\n",
    "cbar = plt.colorbar(orientation='horizontal')\n",
    "cbar.set_label(r'$\\lambda$ (nm)')\n",
    "#cbar.ax.set_ylabel('Cluster Id',rotation=270,labelpad=25)\n",
    "#utils.save_figure(results_path,'tsne-dyes')\n",
    "plt.show()"
   ]
  },
  {
   "cell_type": "markdown",
   "metadata": {},
   "source": [
    "* Identify how many clusters are in the data using HDSCAN to the t-SNE output, try with `15` clusters as `cluster_tsne = hdbscan.HDBSCAN(min_cluster_size=15 , gen_min_span_tree=True)"
   ]
  },
  {
   "cell_type": "code",
   "execution_count": null,
   "metadata": {},
   "outputs": [],
   "source": [
    "cluster_tsne = hdbscan.HDBSCAN(min_cluster_size=15\n",
    "                               , gen_min_span_tree=True)\n",
    "cluster_tsne.fit(tsne_X)\n"
   ]
  },
  {
   "cell_type": "code",
   "execution_count": null,
   "metadata": {},
   "outputs": [],
   "source": [
    "plt.figure(figsize=(6,8))\n",
    "plt.scatter(tsne_X.T[0], tsne_X.T[1], marker='o',c=cluster_tsne.labels_,s=5, cmap='brg')\n",
    "#plt.scatter(tsne_X.T[0], df[ 'lambda_sTDA (nm)'][x_index].values[:]  , marker='o',c=cluster_tsne.labels_,s=50, cmap='hsv')\n",
    "        \n",
    "\n",
    "#plt.scatter(X_skernpca[y==1, 0], X_skernpca[y==1, 1], \n",
    "#             color='blue', marker='o', alpha=0.5)\n",
    "\n",
    "plt.xlabel('PC1')\n",
    "plt.ylabel('PC2')\n",
    "plt.title('Organic Dyes: t-SNE')\n",
    "cbar = plt.colorbar(orientation='horizontal')\n",
    "cbar.set_label('Cluster Label')\n",
    "plt.show()"
   ]
  },
  {
   "cell_type": "markdown",
   "metadata": {},
   "source": [
    "* Add the cluster information and to the`Dataframework` and visualize the molecules, compare the molecules and determine if the molecules have something in common"
   ]
  },
  {
   "cell_type": "code",
   "execution_count": null,
   "metadata": {},
   "outputs": [],
   "source": [
    "df.to_pickle('../../data/extended_db_Zindo_Nov_2019_V5_cannfp_clust.pkl')"
   ]
  },
  {
   "cell_type": "code",
   "execution_count": null,
   "metadata": {},
   "outputs": [],
   "source": [
    "#from cuml.manifold import TSNE as cutsne\n",
    "#cumltsne = cutsne(n_components=2, metric='jaccard',perplexity=50, n_iter=2000, init='pca', random_state=0)\n",
    "##cumltsne = cutsne(n_components=2,perplexity=50, n_iter=2000,  random_state=0)\n",
    "#cumltsne_X = cumltsne.fit_transform(Xmat)"
   ]
  },
  {
   "cell_type": "code",
   "execution_count": null,
   "metadata": {},
   "outputs": [],
   "source": [
    "# plt.figure(figsize=(6,8))\n",
    "# tag='lambda_sTDA (nm)'\n",
    "# plt.scatter(tsne_X.T[0], tsne_X.T[1], marker='o',c=df[tag].values[:],s=5, cmap='rainbow')\n",
    "\n",
    "# #plt.scatter(X_skernpca[y==1, 0], X_skernpca[y==1, 1], \n",
    "# #             color='blue', marker='o', alpha=0.5)\n",
    "# plt.xlabel('PC1')\n",
    "# plt.ylabel('PC2')\n",
    "# plt.title('Organic Dyes: t-SNE')\n",
    "# cbar = plt.colorbar(orientation='horizontal')\n",
    "# cbar.set_label(r'b) sTDA $\\lambda_{max}$ (nm)')\n",
    "# #cbar.ax.set_ylabel('Cluster Id',rotation=270,labelpad=25)\n",
    "# utils.save_figure(results_path,'tsne-dyes__lem_sta')\n",
    "# plt.show()"
   ]
  },
  {
   "cell_type": "markdown",
   "metadata": {},
   "source": [
    "### Cluster analysis"
   ]
  },
  {
   "cell_type": "code",
   "execution_count": null,
   "metadata": {},
   "outputs": [],
   "source": [
    "cluster_tsne = hdbscan.HDBSCAN(min_cluster_size=15\n",
    "                               , gen_min_span_tree=True)"
   ]
  },
  {
   "cell_type": "code",
   "execution_count": null,
   "metadata": {},
   "outputs": [],
   "source": [
    "cluster_tsne.fit(tsne_X)"
   ]
  },
  {
   "cell_type": "code",
   "execution_count": null,
   "metadata": {},
   "outputs": [],
   "source": [
    "df.to_pickle('../data/extended_db_Zindo_Nov_2019_V5_cannfp_clust_lem.pkl')"
   ]
  },
  {
   "cell_type": "markdown",
   "metadata": {},
   "source": [
    "## Butina analysis of a cluster"
   ]
  },
  {
   "cell_type": "code",
   "execution_count": null,
   "metadata": {},
   "outputs": [],
   "source": [
    "def ClusterFps(fps,cutoff=0.2):\n",
    "    from rdkit import DataStructs\n",
    "    from rdkit.ML.Cluster import Butina\n",
    "\n",
    "    # first generate the distance matrix:\n",
    "    dists = []\n",
    "    nfps = len(fps)\n",
    "    for i in range(1,nfps):\n",
    "        sims = DataStructs.BulkTanimotoSimilarity(fps[i],fps[:i])\n",
    "        dists.extend([1-x for x in sims])\n",
    "\n",
    "    # now cluster the data:\n",
    "    cs = Butina.ClusterData(dists,nfps,cutoff,isDistData=True)\n",
    "    return cs"
   ]
  }
 ],
 "metadata": {
  "kernelspec": {
   "display_name": "introhpc",
   "language": "python",
   "name": "introhpc"
  },
  "language_info": {
   "codemirror_mode": {
    "name": "ipython",
    "version": 3
   },
   "file_extension": ".py",
   "mimetype": "text/x-python",
   "name": "python",
   "nbconvert_exporter": "python",
   "pygments_lexer": "ipython3",
   "version": "3.11.4"
  }
 },
 "nbformat": 4,
 "nbformat_minor": 4
}
