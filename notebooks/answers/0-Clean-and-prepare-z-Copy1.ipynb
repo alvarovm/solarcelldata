{
 "cells": [
  {
   "cell_type": "markdown",
   "metadata": {},
   "source": [
    "# Part 1: Cleaning and cannonizing DB\n"
   ]
  },
  {
   "cell_type": "markdown",
   "metadata": {},
   "source": [
    "Project: Solar Power for Affordable Housing through Computational Design of Low-Cost/High-Efficiency Solar Cells.\n",
    "\n",
    "Author: AlvaroVM [https://alvarovm.github.io](http://alvarovm.github.io)\n",
    "\n",
    "Version: 0.0.1"
   ]
  },
  {
   "cell_type": "code",
   "execution_count": 1,
   "metadata": {},
   "outputs": [],
   "source": [
    "import sys\n",
    "import os\n",
    "SRC_DIR='..'"
   ]
  },
  {
   "cell_type": "code",
   "execution_count": 2,
   "metadata": {},
   "outputs": [
    {
     "name": "stderr",
     "output_type": "stream",
     "text": [
      "/home/vama/soft/python-tests/introtohpc/notebooks/../code/utils.py:3: TqdmWarning: IProgress not found. Please update jupyter and ipywidgets. See https://ipywidgets.readthedocs.io/en/stable/user_install.html\n",
      "  from tqdm.autonotebook import tqdm\n"
     ]
    }
   ],
   "source": [
    "sys.path.append(os.path.join(SRC_DIR, 'code'))\n",
    "import utils"
   ]
  },
  {
   "cell_type": "code",
   "execution_count": 3,
   "metadata": {},
   "outputs": [],
   "source": [
    "%matplotlib inline\n",
    "import matplotlib.pyplot as plt\n",
    "import numpy as np\n",
    "\n",
    "import pandas as pd\n",
    "#https://github.com/jmcarpenter2/swifter\n",
    "#import swifter\n",
    "#2-TSNE-UMAP-map-cuda-Copy1\n",
    "\n",
    "from rdkit import Chem\n",
    "from rdkit.Chem import AllChem\n",
    "from rdkit import DataStructs \n",
    "from rdkit.Chem import Draw\n",
    "from rdkit.Chem.rdMolDescriptors import  GetHashedMorganFingerprint\n",
    "from rdkit.DataStructs import ConvertToNumpyArray\n",
    "\n",
    "utils.plot_settings2()\n",
    "\n",
    "results_path = os.path.join(SRC_DIR,'results')"
   ]
  },
  {
   "cell_type": "markdown",
   "metadata": {},
   "source": [
    "### Tools to Cannonize smiles"
   ]
  },
  {
   "cell_type": "code",
   "execution_count": 4,
   "metadata": {},
   "outputs": [],
   "source": [
    "#from smiutil import canon_smiles, CleanSMI, HardValidSMI, applyMorganFP"
   ]
  },
  {
   "cell_type": "code",
   "execution_count": 5,
   "metadata": {},
   "outputs": [],
   "source": [
    "from rdkit.Chem import MolFromSmiles as smi2mol\n",
    "from rdkit.Chem.rdMolDescriptors import  GetHashedMorganFingerprint,GetMorganFingerprintAsBitVect\n",
    "from rdkit.DataStructs import ConvertToNumpyArray\n",
    "\n",
    "import re\n",
    "\n",
    "def canon_smiles(smi):\n",
    "    try:\n",
    "        m = smi2mol(smi)\n",
    "    except:\n",
    "        m = False\n",
    "        print('hola cannon'+smi)\n",
    "        \n",
    "    if m is False:\n",
    "        return False\n",
    "    else:\n",
    "        try:\n",
    "            sim = Chem.MolToSmiles(m, isomericSmiles=True, canonical=True)\n",
    "        except:\n",
    "            sim = False\n",
    "            #print('hola cannon2'+smi)\n",
    "        return sim\n",
    "    \n",
    "\n",
    "def CleanSMI(smi):\n",
    "        try: \n",
    "            clean=re.sub(r'[<>%\\\\/?\\|]+', '', smi)\n",
    "        except:\n",
    "            #print('holaclean ' +smi )\n",
    "            clean =False\n",
    "        return clean\n",
    "\n",
    "def HardValidSMI(smi):\n",
    "    \"\"\"\n",
    "    A rule based function to validate a given smile string. \n",
    "    Return type: Boolean\n",
    "    True: If a match is found. \n",
    "    False: Charges, Ions and No Conjugated regions found.\n",
    "    \"\"\"\n",
    "\n",
    "    mysmile = CleanSMI(smi)\n",
    "\n",
    "    if mysmile is not False:\n",
    "\n",
    "        try: \n",
    "            illegalstring = re.search(r'\\\\|/|\\*|Fe|\\+\\+|\\.|\\|',mysmile) #--> Sanity check!\n",
    "        except:\n",
    "            #print('holaill ' +smi )\n",
    "            illegalstring = True\n",
    "    else:\n",
    "        return False\n",
    "    \n",
    "    if illegalstring:\n",
    "        return False\n",
    "    else:\n",
    "        cansmile = canon_smiles(mysmile)\n",
    "        if cansmile is False:\n",
    "            return False\n",
    "        match = re.search(r'\\[\\w{1,3}[\\+-\\.\\d]+\\]|\\[\\w{2}\\]|\\.|\\(\\*\\)',cansmile)\n",
    "        if match:\n",
    "            return False\n",
    "        else:\n",
    "            conjuated = re.search(r'[a-z\\W]\\d+[a-zD-Z\\W]+\\d',mysmile) #r'[a-z\\W]\\d+[\\w\\W]+\\d' or use (r'[a-z\\W]\\d+[a-zD-Z\\W]+\\d',mysmile) )\n",
    "            if conjuated:\n",
    "                return True\n",
    "            else:\n",
    "                return False\n",
    "\n",
    "\n",
    "def applyMorganFP(m,**kwargs):\n",
    "    fptype='bit'\n",
    "    \n",
    "    if 'fptype' in kwargs:\n",
    "        fptype=kwargs['fptype']\n",
    "    if 'fp_args' in kwargs:\n",
    "        fp_args=kwargs['fp_args']     \n",
    "    #fp_args = self.meta_data['fp_args']\n",
    "    #fptype = self.meta_data['fptype']\n",
    "    arr = np.zeros((1,))\n",
    "    if fptype == 'bit': \n",
    "        arr = np.zeros((1,))\n",
    "        #ConvertToNumpyArray(GetHashedMorganFingerprint(m, **fp_args), arr)\n",
    "        try:\n",
    "            arr = np.array(GetMorganFingerprintAsBitVect(m, **fp_args))\n",
    "        except:\n",
    "            print(Chem.MolToSmiles(m))\n",
    "    elif fptype == 'count':\n",
    "        #arr = np.zeros((1,))\n",
    "        ConvertToNumpyArray(GetHashedMorganFingerprint(m, **fp_args), arr)\n",
    "    return arr"
   ]
  },
  {
   "cell_type": "markdown",
   "metadata": {},
   "source": [
    "## Open Database"
   ]
  },
  {
   "cell_type": "markdown",
   "metadata": {},
   "source": [
    "Our database is expresed a CSV file (spread sheet like). This each row has information of the molecular description of in SMILE format, and optical properties as the wavelenght (lamnda/nm), extinction coefficient, first excitation energy with quantum mechanics, etc."
   ]
  },
  {
   "cell_type": "code",
   "execution_count": 6,
   "metadata": {},
   "outputs": [
    {
     "name": "stdout",
     "output_type": "stream",
     "text": [
      "Column names: ['inchikey', 'smi_pre', 'smi_post', 'lambda_sTDA (nm)', 'f1_sTDA', 'lumo_dft', 'homo_dft', 'dmom_dft (D)', 'lambda_z (nm)', 'f1_z', 'lumo_z', 'homo_z', 'dmom_z (D)', 'lumo_mopac', 'homo_mopac', 'dmom_mopac (D)', 'lambda_tddft (nm)', 'f1_tddft', 'lambda_exp_max (nm)', 'epsilon_exp_max ', 'lambda_exp_min (nm)', 'epsilon_exp_min ', 'solvent']\n",
      "Table Shape: (9879, 23)\n"
     ]
    }
   ],
   "source": [
    "df = pd.read_csv('../data/extended_db_Zindo_Nov_2019_V5.csv').fillna(value = 0)\n",
    "print('Column names: {}'.format(str(df.columns.tolist())))\n",
    "print('Table Shape: {}'.format(df.shape))"
   ]
  },
  {
   "cell_type": "code",
   "execution_count": 7,
   "metadata": {},
   "outputs": [],
   "source": [
    "#df.count()"
   ]
  },
  {
   "cell_type": "markdown",
   "metadata": {},
   "source": [
    "Unfortunately some of the SMILE that define the molecules are not valid. We have a function called `HardValidSMI` which validate whether the SMILES can be processed. See example"
   ]
  },
  {
   "cell_type": "code",
   "execution_count": 8,
   "metadata": {},
   "outputs": [
    {
     "name": "stdout",
     "output_type": "stream",
     "text": [
      "Q: Is this O=C1O[C@H]([C@@H](O)CO)C(O)=C1O a valid molecule? A: False\n"
     ]
    }
   ],
   "source": [
    "#smi=df['smi_post'].iloc[0]\n",
    "smi = 'O=C1O[C@H]([C@@H](O)CO)C(O)=C1O'\n",
    "print(f'Q: Is this {smi} a valid molecule? A: {HardValidSMI(smi)}')"
   ]
  },
  {
   "cell_type": "markdown",
   "metadata": {},
   "source": [
    "Remove metals and invalid smiles. Adding a new column `nogood`. Notice that there two SMILES: `smile_pre` and `smile_post`. The `smile_pre` are the SMILES generated directly from the molecules found in the literature, and `smiles_post` are a reduced version with only the active region of the molecule."
   ]
  },
  {
   "cell_type": "code",
   "execution_count": 9,
   "metadata": {},
   "outputs": [
    {
     "name": "stdout",
     "output_type": "stream",
     "text": [
      "Q: Is this Clc1ccc(c(c1)Cl)OCCn1cncc1 a valid molecule? A: Clc1ccc(OCCn2ccnc2)c(Cl)c1\n"
     ]
    }
   ],
   "source": [
    "smi = 'Clc1ccc(c(c1)Cl)OCCn1cncc1'\n",
    "print(f'Q: Is this {smi} a valid molecule? A: {canon_smiles(smi)}')"
   ]
  },
  {
   "cell_type": "code",
   "execution_count": 11,
   "metadata": {},
   "outputs": [
    {
     "name": "stderr",
     "output_type": "stream",
     "text": [
      "[00:17:02] WARNING: not removing hydrogen atom without neighbors\n",
      "[00:17:05] WARNING: not removing hydrogen atom without neighbors\n",
      "[00:17:07] SMILES Parse Error: ring closure 1 duplicates bond between atom 46 and atom 47 for input: 'C(CN1c2cc(ccc2C(=C2C(=O)N(c3c2ccc(c3)c2ccc(cc2)C=C(C(=O)O)C#N)CC(C)CC)C1=O)c1ccc2c(c1)C1C1N2c1ccc(cc1)C)CC'\n",
      "[00:17:07] SMILES Parse Error: ring closure 4 duplicates bond between atom 19 and atom 20 for input: 'CO[C@H]1C=CO[C@@]2(C)Oc3c(C2=O)c2C(=O)C(=CNN4C4)C(=C(c2c(c3C)O)O)NC(=O)C(=CC=C[C@@H]([C@@H]([C@H]([C@H]([C@H]([C@@H]([C@@H]1C)OC(=O)C)C)O)C)O)C)C'\n",
      "[00:17:07] Explicit valence for atom # 1 C, 6, is greater than permitted\n",
      "[00:17:07] Explicit valence for atom # 1 C, 6, is greater than permitted\n",
      "[00:17:07] Explicit valence for atom # 1 C, 5, is greater than permitted\n",
      "[00:17:07] Explicit valence for atom # 1 C, 5, is greater than permitted\n",
      "[00:17:07] Explicit valence for atom # 1 C, 5, is greater than permitted\n",
      "[00:17:07] Explicit valence for atom # 1 C, 6, is greater than permitted\n",
      "[00:17:08] Explicit valence for atom # 12 C, 5, is greater than permitted\n"
     ]
    }
   ],
   "source": [
    "df['nogood']=df['smi_pre'].apply(HardValidSMI)\n",
    "#df=df[df['nogood'] != False]\n",
    "df['nogoodpost']=df['smi_post'].apply(HardValidSMI)\n",
    "#df=df[df['nogoodp'] != False]"
   ]
  },
  {
   "cell_type": "markdown",
   "metadata": {},
   "source": [
    "Let's filter the rows with `False` values in `nogood`."
   ]
  },
  {
   "cell_type": "code",
   "execution_count": 16,
   "metadata": {},
   "outputs": [
    {
     "data": {
      "text/html": [
       "<div>\n",
       "<style scoped>\n",
       "    .dataframe tbody tr th:only-of-type {\n",
       "        vertical-align: middle;\n",
       "    }\n",
       "\n",
       "    .dataframe tbody tr th {\n",
       "        vertical-align: top;\n",
       "    }\n",
       "\n",
       "    .dataframe thead th {\n",
       "        text-align: right;\n",
       "    }\n",
       "</style>\n",
       "<table border=\"1\" class=\"dataframe\">\n",
       "  <thead>\n",
       "    <tr style=\"text-align: right;\">\n",
       "      <th></th>\n",
       "      <th>inchikey</th>\n",
       "      <th>smi_pre</th>\n",
       "      <th>smi_post</th>\n",
       "      <th>lambda_sTDA (nm)</th>\n",
       "      <th>f1_sTDA</th>\n",
       "      <th>lumo_dft</th>\n",
       "      <th>homo_dft</th>\n",
       "      <th>dmom_dft (D)</th>\n",
       "      <th>lambda_z (nm)</th>\n",
       "      <th>f1_z</th>\n",
       "      <th>...</th>\n",
       "      <th>dmom_mopac (D)</th>\n",
       "      <th>lambda_tddft (nm)</th>\n",
       "      <th>f1_tddft</th>\n",
       "      <th>lambda_exp_max (nm)</th>\n",
       "      <th>epsilon_exp_max</th>\n",
       "      <th>lambda_exp_min (nm)</th>\n",
       "      <th>epsilon_exp_min</th>\n",
       "      <th>solvent</th>\n",
       "      <th>nogood</th>\n",
       "      <th>nogoodpost</th>\n",
       "    </tr>\n",
       "  </thead>\n",
       "  <tbody>\n",
       "    <tr>\n",
       "      <th>1</th>\n",
       "      <td>WMBWREPUVVBILR-WIYYLYMNSA-N</td>\n",
       "      <td>Oc1cc(O)c2c(c1)O[C@@H]([C@@H](C2)OC(=O)c1cc(O)...</td>\n",
       "      <td>Oc1cc(O)c2c(c1)O[C@@H]([C@@H](C2)OC(=O)c1cc(O)...</td>\n",
       "      <td>263.5</td>\n",
       "      <td>0.013443</td>\n",
       "      <td>0.7857</td>\n",
       "      <td>-8.0182</td>\n",
       "      <td>4.27854</td>\n",
       "      <td>309.496252</td>\n",
       "      <td>0.018574</td>\n",
       "      <td>...</td>\n",
       "      <td>3.70415</td>\n",
       "      <td>0.0</td>\n",
       "      <td>0.0</td>\n",
       "      <td>280.0</td>\n",
       "      <td>0.0</td>\n",
       "      <td>280.0</td>\n",
       "      <td>0.0</td>\n",
       "      <td>0</td>\n",
       "      <td>True</td>\n",
       "      <td>True</td>\n",
       "    </tr>\n",
       "    <tr>\n",
       "      <th>3</th>\n",
       "      <td>FLMQUWVILHJCFJ-UHFFFAOYSA-N</td>\n",
       "      <td>Clc1ccc(c(c1)Cl)OCCn1cncc1</td>\n",
       "      <td>Clc1ccc(c(c1)Cl)OCCn1cncc1</td>\n",
       "      <td>245.2</td>\n",
       "      <td>0.013209</td>\n",
       "      <td>1.0193</td>\n",
       "      <td>-8.8676</td>\n",
       "      <td>3.86453</td>\n",
       "      <td>276.011127</td>\n",
       "      <td>0.010132</td>\n",
       "      <td>...</td>\n",
       "      <td>6.51081</td>\n",
       "      <td>0.0</td>\n",
       "      <td>0.0</td>\n",
       "      <td>254.0</td>\n",
       "      <td>0.0</td>\n",
       "      <td>254.0</td>\n",
       "      <td>0.0</td>\n",
       "      <td>0</td>\n",
       "      <td>True</td>\n",
       "      <td>True</td>\n",
       "    </tr>\n",
       "    <tr>\n",
       "      <th>6</th>\n",
       "      <td>UGCLEKVSHFQKOD-LLVKDONJSA-N</td>\n",
       "      <td>COC(=O)Cc1ccc(cc1)OC[C@H]1OC1</td>\n",
       "      <td>COC(=O)Cc1ccc(cc1)OC[C@H]1OC1</td>\n",
       "      <td>245.9</td>\n",
       "      <td>0.039422</td>\n",
       "      <td>1.5588</td>\n",
       "      <td>-8.4152</td>\n",
       "      <td>2.38065</td>\n",
       "      <td>280.952183</td>\n",
       "      <td>0.024477</td>\n",
       "      <td>...</td>\n",
       "      <td>2.03847</td>\n",
       "      <td>0.0</td>\n",
       "      <td>0.0</td>\n",
       "      <td>225.0</td>\n",
       "      <td>0.0</td>\n",
       "      <td>225.0</td>\n",
       "      <td>0.0</td>\n",
       "      <td>0</td>\n",
       "      <td>True</td>\n",
       "      <td>True</td>\n",
       "    </tr>\n",
       "    <tr>\n",
       "      <th>7</th>\n",
       "      <td>GSDSWSVVBLHKDQ-UHFFFAOYSA-N</td>\n",
       "      <td>CN1CCN(CC1)c1c(F)cc2c3c1OCC(n3cc(c2=O)C(=O)O)C</td>\n",
       "      <td>CN1CCN(CC1)c1c(F)cc2c3c1OCC(n3cc(c2=O)C(=O)O)C</td>\n",
       "      <td>291.8</td>\n",
       "      <td>0.049058</td>\n",
       "      <td>0.0174</td>\n",
       "      <td>-8.3155</td>\n",
       "      <td>10.03869</td>\n",
       "      <td>345.648727</td>\n",
       "      <td>0.000144</td>\n",
       "      <td>...</td>\n",
       "      <td>11.47002</td>\n",
       "      <td>0.0</td>\n",
       "      <td>0.0</td>\n",
       "      <td>820.0</td>\n",
       "      <td>0.0</td>\n",
       "      <td>820.0</td>\n",
       "      <td>0.0</td>\n",
       "      <td>0</td>\n",
       "      <td>True</td>\n",
       "      <td>True</td>\n",
       "    </tr>\n",
       "    <tr>\n",
       "      <th>8</th>\n",
       "      <td>GXOAJZBMIZDGCK-TVONUNMFSA-N</td>\n",
       "      <td>OC[C@H]1O[C@@H](N=C=C2CC(=O)c3c4c2nc2cc(Cl)ccc...</td>\n",
       "      <td>OC[C@H]1O[C@@H](N=C=C2CC(=O)c3c4c2nc2cc(Cl)ccc...</td>\n",
       "      <td>345.9</td>\n",
       "      <td>0.072536</td>\n",
       "      <td>-0.9850</td>\n",
       "      <td>-8.4437</td>\n",
       "      <td>3.35184</td>\n",
       "      <td>386.243609</td>\n",
       "      <td>0.051352</td>\n",
       "      <td>...</td>\n",
       "      <td>3.76588</td>\n",
       "      <td>0.0</td>\n",
       "      <td>0.0</td>\n",
       "      <td>943.0</td>\n",
       "      <td>0.0</td>\n",
       "      <td>943.0</td>\n",
       "      <td>0.0</td>\n",
       "      <td>0</td>\n",
       "      <td>True</td>\n",
       "      <td>True</td>\n",
       "    </tr>\n",
       "    <tr>\n",
       "      <th>...</th>\n",
       "      <td>...</td>\n",
       "      <td>...</td>\n",
       "      <td>...</td>\n",
       "      <td>...</td>\n",
       "      <td>...</td>\n",
       "      <td>...</td>\n",
       "      <td>...</td>\n",
       "      <td>...</td>\n",
       "      <td>...</td>\n",
       "      <td>...</td>\n",
       "      <td>...</td>\n",
       "      <td>...</td>\n",
       "      <td>...</td>\n",
       "      <td>...</td>\n",
       "      <td>...</td>\n",
       "      <td>...</td>\n",
       "      <td>...</td>\n",
       "      <td>...</td>\n",
       "      <td>...</td>\n",
       "      <td>...</td>\n",
       "      <td>...</td>\n",
       "    </tr>\n",
       "    <tr>\n",
       "      <th>9874</th>\n",
       "      <td>SMURFLRAIWQCMM-UHFFFAOYSA-N</td>\n",
       "      <td>N#Cc1c(cc(c2c1c1cccnc1CC2)c1ccccc1)N1CCCCC1</td>\n",
       "      <td>N#Cc1c(cc(c2c1c1cccnc1CC2)c1ccccc1)N1CCCCC1</td>\n",
       "      <td>291.3</td>\n",
       "      <td>0.038060</td>\n",
       "      <td>-0.0526</td>\n",
       "      <td>-8.4226</td>\n",
       "      <td>3.94833</td>\n",
       "      <td>325.247110</td>\n",
       "      <td>0.249783</td>\n",
       "      <td>...</td>\n",
       "      <td>5.27641</td>\n",
       "      <td>0.0</td>\n",
       "      <td>0.0</td>\n",
       "      <td>540.0</td>\n",
       "      <td>0.0</td>\n",
       "      <td>468.0</td>\n",
       "      <td>0.0</td>\n",
       "      <td>0</td>\n",
       "      <td>True</td>\n",
       "      <td>True</td>\n",
       "    </tr>\n",
       "    <tr>\n",
       "      <th>9875</th>\n",
       "      <td>IQLDXBXINQMCHI-UHFFFAOYSA-N</td>\n",
       "      <td>N#Cc1nn(nc1N1CCCC1)c1ccc(cc1)Cl</td>\n",
       "      <td>N#Cc1nn(nc1N1CCCC1)c1ccc(cc1)Cl</td>\n",
       "      <td>294.0</td>\n",
       "      <td>0.631244</td>\n",
       "      <td>0.0838</td>\n",
       "      <td>-8.0247</td>\n",
       "      <td>4.64755</td>\n",
       "      <td>361.680859</td>\n",
       "      <td>0.531235</td>\n",
       "      <td>...</td>\n",
       "      <td>4.82195</td>\n",
       "      <td>0.0</td>\n",
       "      <td>0.0</td>\n",
       "      <td>347.0</td>\n",
       "      <td>0.0</td>\n",
       "      <td>347.0</td>\n",
       "      <td>0.0</td>\n",
       "      <td>0</td>\n",
       "      <td>True</td>\n",
       "      <td>True</td>\n",
       "    </tr>\n",
       "    <tr>\n",
       "      <th>9876</th>\n",
       "      <td>YTKGZLZRIUJNQI-UHFFFAOYSA-N</td>\n",
       "      <td>O=c1nc2SCCn2c2c1cnc(n2)N1CCCCC1</td>\n",
       "      <td>O=c1nc2SCCn2c2c1cnc(n2)N1CCCCC1</td>\n",
       "      <td>277.0</td>\n",
       "      <td>0.004539</td>\n",
       "      <td>0.3888</td>\n",
       "      <td>-8.3370</td>\n",
       "      <td>9.34625</td>\n",
       "      <td>338.847222</td>\n",
       "      <td>0.000554</td>\n",
       "      <td>...</td>\n",
       "      <td>9.60212</td>\n",
       "      <td>0.0</td>\n",
       "      <td>0.0</td>\n",
       "      <td>332.0</td>\n",
       "      <td>8000.0</td>\n",
       "      <td>332.0</td>\n",
       "      <td>8000.0</td>\n",
       "      <td>0</td>\n",
       "      <td>True</td>\n",
       "      <td>True</td>\n",
       "    </tr>\n",
       "    <tr>\n",
       "      <th>9877</th>\n",
       "      <td>HQYAPNWPDBPXTB-NRFANRHFSA-N</td>\n",
       "      <td>COC(=O)c1cc2ccccc2cc1c1cc2ccccc2cc1C(=O)N([C@H...</td>\n",
       "      <td>COC(=O)c1cc2ccccc2cc1c1cc2ccccc2cc1C(=O)N([C@H...</td>\n",
       "      <td>292.7</td>\n",
       "      <td>0.047515</td>\n",
       "      <td>0.1759</td>\n",
       "      <td>-8.0675</td>\n",
       "      <td>2.38643</td>\n",
       "      <td>324.906180</td>\n",
       "      <td>0.014096</td>\n",
       "      <td>...</td>\n",
       "      <td>2.85462</td>\n",
       "      <td>0.0</td>\n",
       "      <td>0.0</td>\n",
       "      <td>335.2</td>\n",
       "      <td>19400.0</td>\n",
       "      <td>223.0</td>\n",
       "      <td>16600.0</td>\n",
       "      <td>0</td>\n",
       "      <td>True</td>\n",
       "      <td>True</td>\n",
       "    </tr>\n",
       "    <tr>\n",
       "      <th>9878</th>\n",
       "      <td>REZOROGWQVHBNO-UHFFFAOYSA-N</td>\n",
       "      <td>O=C1CCC(=C1c1ccc(cc1)N1CCCCC1)c1c(C)sc2c1cccc2</td>\n",
       "      <td>O=C1CCC(=C1c1ccc(cc1)N1CCCCC1)c1c(C)sc2c1cccc2</td>\n",
       "      <td>297.3</td>\n",
       "      <td>0.039879</td>\n",
       "      <td>0.4783</td>\n",
       "      <td>-7.4661</td>\n",
       "      <td>2.56248</td>\n",
       "      <td>351.230024</td>\n",
       "      <td>0.002516</td>\n",
       "      <td>...</td>\n",
       "      <td>2.46692</td>\n",
       "      <td>0.0</td>\n",
       "      <td>0.0</td>\n",
       "      <td>262.0</td>\n",
       "      <td>0.0</td>\n",
       "      <td>262.0</td>\n",
       "      <td>0.0</td>\n",
       "      <td>0</td>\n",
       "      <td>True</td>\n",
       "      <td>True</td>\n",
       "    </tr>\n",
       "  </tbody>\n",
       "</table>\n",
       "<p>6377 rows × 25 columns</p>\n",
       "</div>"
      ],
      "text/plain": [
       "                         inchikey  \\\n",
       "1     WMBWREPUVVBILR-WIYYLYMNSA-N   \n",
       "3     FLMQUWVILHJCFJ-UHFFFAOYSA-N   \n",
       "6     UGCLEKVSHFQKOD-LLVKDONJSA-N   \n",
       "7     GSDSWSVVBLHKDQ-UHFFFAOYSA-N   \n",
       "8     GXOAJZBMIZDGCK-TVONUNMFSA-N   \n",
       "...                           ...   \n",
       "9874  SMURFLRAIWQCMM-UHFFFAOYSA-N   \n",
       "9875  IQLDXBXINQMCHI-UHFFFAOYSA-N   \n",
       "9876  YTKGZLZRIUJNQI-UHFFFAOYSA-N   \n",
       "9877  HQYAPNWPDBPXTB-NRFANRHFSA-N   \n",
       "9878  REZOROGWQVHBNO-UHFFFAOYSA-N   \n",
       "\n",
       "                                                smi_pre  \\\n",
       "1     Oc1cc(O)c2c(c1)O[C@@H]([C@@H](C2)OC(=O)c1cc(O)...   \n",
       "3                            Clc1ccc(c(c1)Cl)OCCn1cncc1   \n",
       "6                         COC(=O)Cc1ccc(cc1)OC[C@H]1OC1   \n",
       "7        CN1CCN(CC1)c1c(F)cc2c3c1OCC(n3cc(c2=O)C(=O)O)C   \n",
       "8     OC[C@H]1O[C@@H](N=C=C2CC(=O)c3c4c2nc2cc(Cl)ccc...   \n",
       "...                                                 ...   \n",
       "9874        N#Cc1c(cc(c2c1c1cccnc1CC2)c1ccccc1)N1CCCCC1   \n",
       "9875                    N#Cc1nn(nc1N1CCCC1)c1ccc(cc1)Cl   \n",
       "9876                    O=c1nc2SCCn2c2c1cnc(n2)N1CCCCC1   \n",
       "9877  COC(=O)c1cc2ccccc2cc1c1cc2ccccc2cc1C(=O)N([C@H...   \n",
       "9878     O=C1CCC(=C1c1ccc(cc1)N1CCCCC1)c1c(C)sc2c1cccc2   \n",
       "\n",
       "                                               smi_post  lambda_sTDA (nm)  \\\n",
       "1     Oc1cc(O)c2c(c1)O[C@@H]([C@@H](C2)OC(=O)c1cc(O)...             263.5   \n",
       "3                            Clc1ccc(c(c1)Cl)OCCn1cncc1             245.2   \n",
       "6                         COC(=O)Cc1ccc(cc1)OC[C@H]1OC1             245.9   \n",
       "7        CN1CCN(CC1)c1c(F)cc2c3c1OCC(n3cc(c2=O)C(=O)O)C             291.8   \n",
       "8     OC[C@H]1O[C@@H](N=C=C2CC(=O)c3c4c2nc2cc(Cl)ccc...             345.9   \n",
       "...                                                 ...               ...   \n",
       "9874        N#Cc1c(cc(c2c1c1cccnc1CC2)c1ccccc1)N1CCCCC1             291.3   \n",
       "9875                    N#Cc1nn(nc1N1CCCC1)c1ccc(cc1)Cl             294.0   \n",
       "9876                    O=c1nc2SCCn2c2c1cnc(n2)N1CCCCC1             277.0   \n",
       "9877  COC(=O)c1cc2ccccc2cc1c1cc2ccccc2cc1C(=O)N([C@H...             292.7   \n",
       "9878     O=C1CCC(=C1c1ccc(cc1)N1CCCCC1)c1c(C)sc2c1cccc2             297.3   \n",
       "\n",
       "       f1_sTDA  lumo_dft  homo_dft  dmom_dft (D)  lambda_z (nm)      f1_z  \\\n",
       "1     0.013443    0.7857   -8.0182       4.27854     309.496252  0.018574   \n",
       "3     0.013209    1.0193   -8.8676       3.86453     276.011127  0.010132   \n",
       "6     0.039422    1.5588   -8.4152       2.38065     280.952183  0.024477   \n",
       "7     0.049058    0.0174   -8.3155      10.03869     345.648727  0.000144   \n",
       "8     0.072536   -0.9850   -8.4437       3.35184     386.243609  0.051352   \n",
       "...        ...       ...       ...           ...            ...       ...   \n",
       "9874  0.038060   -0.0526   -8.4226       3.94833     325.247110  0.249783   \n",
       "9875  0.631244    0.0838   -8.0247       4.64755     361.680859  0.531235   \n",
       "9876  0.004539    0.3888   -8.3370       9.34625     338.847222  0.000554   \n",
       "9877  0.047515    0.1759   -8.0675       2.38643     324.906180  0.014096   \n",
       "9878  0.039879    0.4783   -7.4661       2.56248     351.230024  0.002516   \n",
       "\n",
       "      ...  dmom_mopac (D) lambda_tddft (nm)  f1_tddft  lambda_exp_max (nm)  \\\n",
       "1     ...         3.70415               0.0       0.0                280.0   \n",
       "3     ...         6.51081               0.0       0.0                254.0   \n",
       "6     ...         2.03847               0.0       0.0                225.0   \n",
       "7     ...        11.47002               0.0       0.0                820.0   \n",
       "8     ...         3.76588               0.0       0.0                943.0   \n",
       "...   ...             ...               ...       ...                  ...   \n",
       "9874  ...         5.27641               0.0       0.0                540.0   \n",
       "9875  ...         4.82195               0.0       0.0                347.0   \n",
       "9876  ...         9.60212               0.0       0.0                332.0   \n",
       "9877  ...         2.85462               0.0       0.0                335.2   \n",
       "9878  ...         2.46692               0.0       0.0                262.0   \n",
       "\n",
       "      epsilon_exp_max   lambda_exp_min (nm)  epsilon_exp_min   solvent  \\\n",
       "1                  0.0                280.0               0.0        0   \n",
       "3                  0.0                254.0               0.0        0   \n",
       "6                  0.0                225.0               0.0        0   \n",
       "7                  0.0                820.0               0.0        0   \n",
       "8                  0.0                943.0               0.0        0   \n",
       "...                ...                  ...               ...      ...   \n",
       "9874               0.0                468.0               0.0        0   \n",
       "9875               0.0                347.0               0.0        0   \n",
       "9876            8000.0                332.0            8000.0        0   \n",
       "9877           19400.0                223.0           16600.0        0   \n",
       "9878               0.0                262.0               0.0        0   \n",
       "\n",
       "      nogood  nogoodpost  \n",
       "1       True        True  \n",
       "3       True        True  \n",
       "6       True        True  \n",
       "7       True        True  \n",
       "8       True        True  \n",
       "...      ...         ...  \n",
       "9874    True        True  \n",
       "9875    True        True  \n",
       "9876    True        True  \n",
       "9877    True        True  \n",
       "9878    True        True  \n",
       "\n",
       "[6377 rows x 25 columns]"
      ]
     },
     "execution_count": 16,
     "metadata": {},
     "output_type": "execute_result"
    }
   ],
   "source": [
    "df[df['nogoodpost'] != False]"
   ]
  },
  {
   "cell_type": "markdown",
   "metadata": {},
   "source": [
    "#### Remove systems without sTDA (disabled)"
   ]
  },
  {
   "cell_type": "code",
   "execution_count": 13,
   "metadata": {},
   "outputs": [],
   "source": [
    "#df['nostda']=df['lambda_sTDA (nm)'].apply(np.isnan)\n",
    "#df = df[df.nostda == False]\n",
    "##df = df[df['lambda_sTDA (nm)'] >0 ]\n",
    "##df.shape"
   ]
  },
  {
   "cell_type": "markdown",
   "metadata": {},
   "source": [
    "### Clean up temporal columns"
   ]
  },
  {
   "cell_type": "markdown",
   "metadata": {},
   "source": [
    "df"
   ]
  },
  {
   "cell_type": "code",
   "execution_count": 12,
   "metadata": {},
   "outputs": [
    {
     "name": "stderr",
     "output_type": "stream",
     "text": [
      "[00:17:19] WARNING: not removing hydrogen atom without neighbors\n",
      "[00:17:19] WARNING: not removing hydrogen atom without neighbors\n",
      "[00:17:19] WARNING: not removing hydrogen atom without neighbors\n",
      "[00:17:19] WARNING: not removing hydrogen atom without neighbors\n",
      "[00:17:19] WARNING: not removing hydrogen atom without neighbors\n",
      "[00:17:19] WARNING: not removing hydrogen atom without neighbors\n",
      "[00:17:19] WARNING: not removing hydrogen atom without neighbors\n",
      "[00:17:19] WARNING: not removing hydrogen atom without neighbors\n",
      "[00:17:19] WARNING: not removing hydrogen atom without neighbors\n",
      "[00:17:19] WARNING: not removing hydrogen atom without neighbors\n",
      "[00:17:19] WARNING: not removing hydrogen atom without neighbors\n",
      "[00:17:21] WARNING: not removing hydrogen atom without neighbors\n",
      "[00:17:21] SMILES Parse Error: ring closure 1 duplicates bond between atom 46 and atom 47 for input: 'C(CN1c2cc(ccc2C(=C2C(=O)N(c3c2ccc(c3)c2ccc(cc2)C=C(C(=O)O)C#N)CC(C)CC)C1=O)c1ccc2c(c1)C1C1N2c1ccc(cc1)C)CC'\n",
      "[00:17:21] WARNING: not removing hydrogen atom without neighbors\n",
      "[00:17:21] WARNING: not removing hydrogen atom without neighbors\n",
      "[00:17:21] WARNING: not removing hydrogen atom without neighbors\n",
      "[00:17:21] WARNING: not removing hydrogen atom without neighbors\n",
      "[00:17:21] WARNING: not removing hydrogen atom without neighbors\n",
      "[00:17:21] WARNING: not removing hydrogen atom without neighbors\n",
      "[00:17:21] WARNING: not removing hydrogen atom without neighbors\n",
      "[00:17:21] WARNING: not removing hydrogen atom without neighbors\n",
      "[00:17:21] WARNING: not removing hydrogen atom without neighbors\n",
      "[00:17:21] WARNING: not removing hydrogen atom without neighbors\n",
      "[00:17:21] WARNING: not removing hydrogen atom without neighbors\n",
      "[00:17:21] WARNING: not removing hydrogen atom without neighbors\n",
      "[00:17:21] SMILES Parse Error: ring closure 4 duplicates bond between atom 19 and atom 20 for input: 'CO[C@H]1C=CO[C@@]2(C)Oc3c(C2=O)c2C(=O)C(=CNN4C4)C(=C(c2c(c3C)O)O)NC(=O)C(=CC=C[C@@H]([C@@H]([C@H]([C@H]([C@H]([C@@H]([C@@H]1C)OC(=O)C)C)O)C)O)C)C'\n",
      "[00:17:21] WARNING: not removing hydrogen atom without neighbors\n",
      "[00:17:21] WARNING: not removing hydrogen atom without neighbors\n",
      "[00:17:21] WARNING: not removing hydrogen atom without neighbors\n",
      "[00:17:21] WARNING: not removing hydrogen atom without neighbors\n",
      "[00:17:21] WARNING: not removing hydrogen atom without neighbors\n",
      "[00:17:21] WARNING: not removing hydrogen atom without neighbors\n",
      "[00:17:21] Explicit valence for atom # 1 C, 6, is greater than permitted\n",
      "[00:17:21] Explicit valence for atom # 1 C, 6, is greater than permitted\n",
      "[00:17:21] Explicit valence for atom # 1 C, 5, is greater than permitted\n",
      "[00:17:21] Explicit valence for atom # 1 C, 5, is greater than permitted\n",
      "[00:17:21] Explicit valence for atom # 1 C, 5, is greater than permitted\n",
      "[00:17:21] Explicit valence for atom # 1 C, 6, is greater than permitted\n"
     ]
    },
    {
     "name": "stdout",
     "output_type": "stream",
     "text": [
      "Column names: ['inchikey', 'smi_pre', 'smi_post', 'lambda_sTDA (nm)', 'f1_sTDA', 'lumo_dft', 'homo_dft', 'dmom_dft (D)', 'lambda_z (nm)', 'f1_z', 'lumo_z', 'homo_z', 'dmom_z (D)', 'lumo_mopac', 'homo_mopac', 'dmom_mopac (D)', 'lambda_tddft (nm)', 'f1_tddft', 'lambda_exp_max (nm)', 'epsilon_exp_max ', 'lambda_exp_min (nm)', 'epsilon_exp_min ', 'solvent', 'nogood', 'nogoodpost', 'smiles']\n",
      "Table Shape: (9870, 26)\n"
     ]
    },
    {
     "name": "stderr",
     "output_type": "stream",
     "text": [
      "[00:17:22] Explicit valence for atom # 12 C, 5, is greater than permitted\n"
     ]
    }
   ],
   "source": [
    "#del df['nogood']\n",
    "df['smiles'] = df['smi_post'].apply(canon_smiles)\n",
    "df = df[df['smiles'] != False]\n",
    "#del df['smi_post']\n",
    "#df.mask(df.eq('None')).dropna()\n",
    "#df.head(1)\n",
    "print('Column names: {}'.format(str(df.columns.tolist())))\n",
    "print('Table Shape: {}'.format(df.shape))"
   ]
  },
  {
   "cell_type": "code",
   "execution_count": 13,
   "metadata": {},
   "outputs": [
    {
     "data": {
      "text/html": [
       "<div>\n",
       "<style scoped>\n",
       "    .dataframe tbody tr th:only-of-type {\n",
       "        vertical-align: middle;\n",
       "    }\n",
       "\n",
       "    .dataframe tbody tr th {\n",
       "        vertical-align: top;\n",
       "    }\n",
       "\n",
       "    .dataframe thead th {\n",
       "        text-align: right;\n",
       "    }\n",
       "</style>\n",
       "<table border=\"1\" class=\"dataframe\">\n",
       "  <thead>\n",
       "    <tr style=\"text-align: right;\">\n",
       "      <th></th>\n",
       "      <th>inchikey</th>\n",
       "      <th>smi_pre</th>\n",
       "      <th>smi_post</th>\n",
       "      <th>lambda_sTDA (nm)</th>\n",
       "      <th>f1_sTDA</th>\n",
       "      <th>lumo_dft</th>\n",
       "      <th>homo_dft</th>\n",
       "      <th>dmom_dft (D)</th>\n",
       "      <th>lambda_z (nm)</th>\n",
       "      <th>f1_z</th>\n",
       "      <th>...</th>\n",
       "      <th>lambda_tddft (nm)</th>\n",
       "      <th>f1_tddft</th>\n",
       "      <th>lambda_exp_max (nm)</th>\n",
       "      <th>epsilon_exp_max</th>\n",
       "      <th>lambda_exp_min (nm)</th>\n",
       "      <th>epsilon_exp_min</th>\n",
       "      <th>solvent</th>\n",
       "      <th>nogood</th>\n",
       "      <th>nogoodpost</th>\n",
       "      <th>smiles</th>\n",
       "    </tr>\n",
       "  </thead>\n",
       "  <tbody>\n",
       "    <tr>\n",
       "      <th>0</th>\n",
       "      <td>CIWBSHSKHKDKBQ-JLAZNSOCSA-N</td>\n",
       "      <td>OC[C@@H]([C@H]1OC(=O)C(=C1O)O)O</td>\n",
       "      <td>OC[C@@H]([C@H]1OC(=O)C(=C1O)O)O</td>\n",
       "      <td>0.0</td>\n",
       "      <td>0.000000</td>\n",
       "      <td>0.0000</td>\n",
       "      <td>0.0000</td>\n",
       "      <td>0.00000</td>\n",
       "      <td>0.000000</td>\n",
       "      <td>0.000000e+00</td>\n",
       "      <td>...</td>\n",
       "      <td>0.0</td>\n",
       "      <td>0.0</td>\n",
       "      <td>280.000000</td>\n",
       "      <td>0.0</td>\n",
       "      <td>280.000000</td>\n",
       "      <td>0.0</td>\n",
       "      <td>0</td>\n",
       "      <td>False</td>\n",
       "      <td>False</td>\n",
       "      <td>O=C1O[C@H]([C@@H](O)CO)C(O)=C1O</td>\n",
       "    </tr>\n",
       "    <tr>\n",
       "      <th>1</th>\n",
       "      <td>WMBWREPUVVBILR-WIYYLYMNSA-N</td>\n",
       "      <td>Oc1cc(O)c2c(c1)O[C@@H]([C@@H](C2)OC(=O)c1cc(O)...</td>\n",
       "      <td>Oc1cc(O)c2c(c1)O[C@@H]([C@@H](C2)OC(=O)c1cc(O)...</td>\n",
       "      <td>263.5</td>\n",
       "      <td>0.013443</td>\n",
       "      <td>0.7857</td>\n",
       "      <td>-8.0182</td>\n",
       "      <td>4.27854</td>\n",
       "      <td>309.496252</td>\n",
       "      <td>1.857425e-02</td>\n",
       "      <td>...</td>\n",
       "      <td>0.0</td>\n",
       "      <td>0.0</td>\n",
       "      <td>280.000000</td>\n",
       "      <td>0.0</td>\n",
       "      <td>280.000000</td>\n",
       "      <td>0.0</td>\n",
       "      <td>0</td>\n",
       "      <td>True</td>\n",
       "      <td>True</td>\n",
       "      <td>O=C(O[C@@H]1Cc2c(O)cc(O)cc2O[C@@H]1c1cc(O)c(O)...</td>\n",
       "    </tr>\n",
       "    <tr>\n",
       "      <th>2</th>\n",
       "      <td>RKIBZFOZIJTIJU-UHFFFAOYSA-N</td>\n",
       "      <td>Brc1[nH]c2c(n1)c(Br)c(c(c2Br)Br)Br</td>\n",
       "      <td>Brc1[nH]c2c(n1)c(Br)c(c(c2Br)Br)Br</td>\n",
       "      <td>264.0</td>\n",
       "      <td>0.061442</td>\n",
       "      <td>0.1205</td>\n",
       "      <td>-8.8347</td>\n",
       "      <td>3.58474</td>\n",
       "      <td>329.219858</td>\n",
       "      <td>7.120000e-07</td>\n",
       "      <td>...</td>\n",
       "      <td>0.0</td>\n",
       "      <td>0.0</td>\n",
       "      <td>940.000000</td>\n",
       "      <td>0.0</td>\n",
       "      <td>940.000000</td>\n",
       "      <td>0.0</td>\n",
       "      <td>0</td>\n",
       "      <td>False</td>\n",
       "      <td>False</td>\n",
       "      <td>Brc1nc2c(Br)c(Br)c(Br)c(Br)c2[nH]1</td>\n",
       "    </tr>\n",
       "    <tr>\n",
       "      <th>3</th>\n",
       "      <td>FLMQUWVILHJCFJ-UHFFFAOYSA-N</td>\n",
       "      <td>Clc1ccc(c(c1)Cl)OCCn1cncc1</td>\n",
       "      <td>Clc1ccc(c(c1)Cl)OCCn1cncc1</td>\n",
       "      <td>245.2</td>\n",
       "      <td>0.013209</td>\n",
       "      <td>1.0193</td>\n",
       "      <td>-8.8676</td>\n",
       "      <td>3.86453</td>\n",
       "      <td>276.011127</td>\n",
       "      <td>1.013201e-02</td>\n",
       "      <td>...</td>\n",
       "      <td>0.0</td>\n",
       "      <td>0.0</td>\n",
       "      <td>254.000000</td>\n",
       "      <td>0.0</td>\n",
       "      <td>254.000000</td>\n",
       "      <td>0.0</td>\n",
       "      <td>0</td>\n",
       "      <td>True</td>\n",
       "      <td>True</td>\n",
       "      <td>Clc1ccc(OCCn2ccnc2)c(Cl)c1</td>\n",
       "    </tr>\n",
       "    <tr>\n",
       "      <th>4</th>\n",
       "      <td>HCVBQXINVUFVCE-UHFFFAOYSA-N</td>\n",
       "      <td>COC(=O)C(CC(=O)O)(CC(=O)O)O</td>\n",
       "      <td>COC(=O)C(CC(=O)O)(CC(=O)O)O</td>\n",
       "      <td>0.0</td>\n",
       "      <td>0.000000</td>\n",
       "      <td>0.0000</td>\n",
       "      <td>0.0000</td>\n",
       "      <td>0.00000</td>\n",
       "      <td>0.000000</td>\n",
       "      <td>0.000000e+00</td>\n",
       "      <td>...</td>\n",
       "      <td>0.0</td>\n",
       "      <td>0.0</td>\n",
       "      <td>1666.666667</td>\n",
       "      <td>0.0</td>\n",
       "      <td>1666.666667</td>\n",
       "      <td>0.0</td>\n",
       "      <td>0</td>\n",
       "      <td>False</td>\n",
       "      <td>False</td>\n",
       "      <td>COC(=O)C(O)(CC(=O)O)CC(=O)O</td>\n",
       "    </tr>\n",
       "    <tr>\n",
       "      <th>...</th>\n",
       "      <td>...</td>\n",
       "      <td>...</td>\n",
       "      <td>...</td>\n",
       "      <td>...</td>\n",
       "      <td>...</td>\n",
       "      <td>...</td>\n",
       "      <td>...</td>\n",
       "      <td>...</td>\n",
       "      <td>...</td>\n",
       "      <td>...</td>\n",
       "      <td>...</td>\n",
       "      <td>...</td>\n",
       "      <td>...</td>\n",
       "      <td>...</td>\n",
       "      <td>...</td>\n",
       "      <td>...</td>\n",
       "      <td>...</td>\n",
       "      <td>...</td>\n",
       "      <td>...</td>\n",
       "      <td>...</td>\n",
       "      <td>...</td>\n",
       "    </tr>\n",
       "    <tr>\n",
       "      <th>9874</th>\n",
       "      <td>SMURFLRAIWQCMM-UHFFFAOYSA-N</td>\n",
       "      <td>N#Cc1c(cc(c2c1c1cccnc1CC2)c1ccccc1)N1CCCCC1</td>\n",
       "      <td>N#Cc1c(cc(c2c1c1cccnc1CC2)c1ccccc1)N1CCCCC1</td>\n",
       "      <td>291.3</td>\n",
       "      <td>0.038060</td>\n",
       "      <td>-0.0526</td>\n",
       "      <td>-8.4226</td>\n",
       "      <td>3.94833</td>\n",
       "      <td>325.247110</td>\n",
       "      <td>2.497834e-01</td>\n",
       "      <td>...</td>\n",
       "      <td>0.0</td>\n",
       "      <td>0.0</td>\n",
       "      <td>540.000000</td>\n",
       "      <td>0.0</td>\n",
       "      <td>468.000000</td>\n",
       "      <td>0.0</td>\n",
       "      <td>0</td>\n",
       "      <td>True</td>\n",
       "      <td>True</td>\n",
       "      <td>N#Cc1c(N2CCCCC2)cc(-c2ccccc2)c2c1-c1cccnc1CC2</td>\n",
       "    </tr>\n",
       "    <tr>\n",
       "      <th>9875</th>\n",
       "      <td>IQLDXBXINQMCHI-UHFFFAOYSA-N</td>\n",
       "      <td>N#Cc1nn(nc1N1CCCC1)c1ccc(cc1)Cl</td>\n",
       "      <td>N#Cc1nn(nc1N1CCCC1)c1ccc(cc1)Cl</td>\n",
       "      <td>294.0</td>\n",
       "      <td>0.631244</td>\n",
       "      <td>0.0838</td>\n",
       "      <td>-8.0247</td>\n",
       "      <td>4.64755</td>\n",
       "      <td>361.680859</td>\n",
       "      <td>5.312353e-01</td>\n",
       "      <td>...</td>\n",
       "      <td>0.0</td>\n",
       "      <td>0.0</td>\n",
       "      <td>347.000000</td>\n",
       "      <td>0.0</td>\n",
       "      <td>347.000000</td>\n",
       "      <td>0.0</td>\n",
       "      <td>0</td>\n",
       "      <td>True</td>\n",
       "      <td>True</td>\n",
       "      <td>N#Cc1nn(-c2ccc(Cl)cc2)nc1N1CCCC1</td>\n",
       "    </tr>\n",
       "    <tr>\n",
       "      <th>9876</th>\n",
       "      <td>YTKGZLZRIUJNQI-UHFFFAOYSA-N</td>\n",
       "      <td>O=c1nc2SCCn2c2c1cnc(n2)N1CCCCC1</td>\n",
       "      <td>O=c1nc2SCCn2c2c1cnc(n2)N1CCCCC1</td>\n",
       "      <td>277.0</td>\n",
       "      <td>0.004539</td>\n",
       "      <td>0.3888</td>\n",
       "      <td>-8.3370</td>\n",
       "      <td>9.34625</td>\n",
       "      <td>338.847222</td>\n",
       "      <td>5.535390e-04</td>\n",
       "      <td>...</td>\n",
       "      <td>0.0</td>\n",
       "      <td>0.0</td>\n",
       "      <td>332.000000</td>\n",
       "      <td>8000.0</td>\n",
       "      <td>332.000000</td>\n",
       "      <td>8000.0</td>\n",
       "      <td>0</td>\n",
       "      <td>True</td>\n",
       "      <td>True</td>\n",
       "      <td>O=c1nc2n(c3nc(N4CCCCC4)ncc13)CCS2</td>\n",
       "    </tr>\n",
       "    <tr>\n",
       "      <th>9877</th>\n",
       "      <td>HQYAPNWPDBPXTB-NRFANRHFSA-N</td>\n",
       "      <td>COC(=O)c1cc2ccccc2cc1c1cc2ccccc2cc1C(=O)N([C@H...</td>\n",
       "      <td>COC(=O)c1cc2ccccc2cc1c1cc2ccccc2cc1C(=O)N([C@H...</td>\n",
       "      <td>292.7</td>\n",
       "      <td>0.047515</td>\n",
       "      <td>0.1759</td>\n",
       "      <td>-8.0675</td>\n",
       "      <td>2.38643</td>\n",
       "      <td>324.906180</td>\n",
       "      <td>1.409630e-02</td>\n",
       "      <td>...</td>\n",
       "      <td>0.0</td>\n",
       "      <td>0.0</td>\n",
       "      <td>335.200000</td>\n",
       "      <td>19400.0</td>\n",
       "      <td>223.000000</td>\n",
       "      <td>16600.0</td>\n",
       "      <td>0</td>\n",
       "      <td>True</td>\n",
       "      <td>True</td>\n",
       "      <td>COC(=O)c1cc2ccccc2cc1-c1cc2ccccc2cc1C(=O)N(C)[...</td>\n",
       "    </tr>\n",
       "    <tr>\n",
       "      <th>9878</th>\n",
       "      <td>REZOROGWQVHBNO-UHFFFAOYSA-N</td>\n",
       "      <td>O=C1CCC(=C1c1ccc(cc1)N1CCCCC1)c1c(C)sc2c1cccc2</td>\n",
       "      <td>O=C1CCC(=C1c1ccc(cc1)N1CCCCC1)c1c(C)sc2c1cccc2</td>\n",
       "      <td>297.3</td>\n",
       "      <td>0.039879</td>\n",
       "      <td>0.4783</td>\n",
       "      <td>-7.4661</td>\n",
       "      <td>2.56248</td>\n",
       "      <td>351.230024</td>\n",
       "      <td>2.516204e-03</td>\n",
       "      <td>...</td>\n",
       "      <td>0.0</td>\n",
       "      <td>0.0</td>\n",
       "      <td>262.000000</td>\n",
       "      <td>0.0</td>\n",
       "      <td>262.000000</td>\n",
       "      <td>0.0</td>\n",
       "      <td>0</td>\n",
       "      <td>True</td>\n",
       "      <td>True</td>\n",
       "      <td>Cc1sc2ccccc2c1C1=C(c2ccc(N3CCCCC3)cc2)C(=O)CC1</td>\n",
       "    </tr>\n",
       "  </tbody>\n",
       "</table>\n",
       "<p>9870 rows × 26 columns</p>\n",
       "</div>"
      ],
      "text/plain": [
       "                         inchikey  \\\n",
       "0     CIWBSHSKHKDKBQ-JLAZNSOCSA-N   \n",
       "1     WMBWREPUVVBILR-WIYYLYMNSA-N   \n",
       "2     RKIBZFOZIJTIJU-UHFFFAOYSA-N   \n",
       "3     FLMQUWVILHJCFJ-UHFFFAOYSA-N   \n",
       "4     HCVBQXINVUFVCE-UHFFFAOYSA-N   \n",
       "...                           ...   \n",
       "9874  SMURFLRAIWQCMM-UHFFFAOYSA-N   \n",
       "9875  IQLDXBXINQMCHI-UHFFFAOYSA-N   \n",
       "9876  YTKGZLZRIUJNQI-UHFFFAOYSA-N   \n",
       "9877  HQYAPNWPDBPXTB-NRFANRHFSA-N   \n",
       "9878  REZOROGWQVHBNO-UHFFFAOYSA-N   \n",
       "\n",
       "                                                smi_pre  \\\n",
       "0                       OC[C@@H]([C@H]1OC(=O)C(=C1O)O)O   \n",
       "1     Oc1cc(O)c2c(c1)O[C@@H]([C@@H](C2)OC(=O)c1cc(O)...   \n",
       "2                    Brc1[nH]c2c(n1)c(Br)c(c(c2Br)Br)Br   \n",
       "3                            Clc1ccc(c(c1)Cl)OCCn1cncc1   \n",
       "4                           COC(=O)C(CC(=O)O)(CC(=O)O)O   \n",
       "...                                                 ...   \n",
       "9874        N#Cc1c(cc(c2c1c1cccnc1CC2)c1ccccc1)N1CCCCC1   \n",
       "9875                    N#Cc1nn(nc1N1CCCC1)c1ccc(cc1)Cl   \n",
       "9876                    O=c1nc2SCCn2c2c1cnc(n2)N1CCCCC1   \n",
       "9877  COC(=O)c1cc2ccccc2cc1c1cc2ccccc2cc1C(=O)N([C@H...   \n",
       "9878     O=C1CCC(=C1c1ccc(cc1)N1CCCCC1)c1c(C)sc2c1cccc2   \n",
       "\n",
       "                                               smi_post  lambda_sTDA (nm)  \\\n",
       "0                       OC[C@@H]([C@H]1OC(=O)C(=C1O)O)O               0.0   \n",
       "1     Oc1cc(O)c2c(c1)O[C@@H]([C@@H](C2)OC(=O)c1cc(O)...             263.5   \n",
       "2                    Brc1[nH]c2c(n1)c(Br)c(c(c2Br)Br)Br             264.0   \n",
       "3                            Clc1ccc(c(c1)Cl)OCCn1cncc1             245.2   \n",
       "4                           COC(=O)C(CC(=O)O)(CC(=O)O)O               0.0   \n",
       "...                                                 ...               ...   \n",
       "9874        N#Cc1c(cc(c2c1c1cccnc1CC2)c1ccccc1)N1CCCCC1             291.3   \n",
       "9875                    N#Cc1nn(nc1N1CCCC1)c1ccc(cc1)Cl             294.0   \n",
       "9876                    O=c1nc2SCCn2c2c1cnc(n2)N1CCCCC1             277.0   \n",
       "9877  COC(=O)c1cc2ccccc2cc1c1cc2ccccc2cc1C(=O)N([C@H...             292.7   \n",
       "9878     O=C1CCC(=C1c1ccc(cc1)N1CCCCC1)c1c(C)sc2c1cccc2             297.3   \n",
       "\n",
       "       f1_sTDA  lumo_dft  homo_dft  dmom_dft (D)  lambda_z (nm)          f1_z  \\\n",
       "0     0.000000    0.0000    0.0000       0.00000       0.000000  0.000000e+00   \n",
       "1     0.013443    0.7857   -8.0182       4.27854     309.496252  1.857425e-02   \n",
       "2     0.061442    0.1205   -8.8347       3.58474     329.219858  7.120000e-07   \n",
       "3     0.013209    1.0193   -8.8676       3.86453     276.011127  1.013201e-02   \n",
       "4     0.000000    0.0000    0.0000       0.00000       0.000000  0.000000e+00   \n",
       "...        ...       ...       ...           ...            ...           ...   \n",
       "9874  0.038060   -0.0526   -8.4226       3.94833     325.247110  2.497834e-01   \n",
       "9875  0.631244    0.0838   -8.0247       4.64755     361.680859  5.312353e-01   \n",
       "9876  0.004539    0.3888   -8.3370       9.34625     338.847222  5.535390e-04   \n",
       "9877  0.047515    0.1759   -8.0675       2.38643     324.906180  1.409630e-02   \n",
       "9878  0.039879    0.4783   -7.4661       2.56248     351.230024  2.516204e-03   \n",
       "\n",
       "      ...  lambda_tddft (nm) f1_tddft  lambda_exp_max (nm)  epsilon_exp_max   \\\n",
       "0     ...                0.0      0.0           280.000000               0.0   \n",
       "1     ...                0.0      0.0           280.000000               0.0   \n",
       "2     ...                0.0      0.0           940.000000               0.0   \n",
       "3     ...                0.0      0.0           254.000000               0.0   \n",
       "4     ...                0.0      0.0          1666.666667               0.0   \n",
       "...   ...                ...      ...                  ...               ...   \n",
       "9874  ...                0.0      0.0           540.000000               0.0   \n",
       "9875  ...                0.0      0.0           347.000000               0.0   \n",
       "9876  ...                0.0      0.0           332.000000            8000.0   \n",
       "9877  ...                0.0      0.0           335.200000           19400.0   \n",
       "9878  ...                0.0      0.0           262.000000               0.0   \n",
       "\n",
       "      lambda_exp_min (nm)  epsilon_exp_min   solvent  nogood  nogoodpost  \\\n",
       "0              280.000000               0.0        0   False       False   \n",
       "1              280.000000               0.0        0    True        True   \n",
       "2              940.000000               0.0        0   False       False   \n",
       "3              254.000000               0.0        0    True        True   \n",
       "4             1666.666667               0.0        0   False       False   \n",
       "...                   ...               ...      ...     ...         ...   \n",
       "9874           468.000000               0.0        0    True        True   \n",
       "9875           347.000000               0.0        0    True        True   \n",
       "9876           332.000000            8000.0        0    True        True   \n",
       "9877           223.000000           16600.0        0    True        True   \n",
       "9878           262.000000               0.0        0    True        True   \n",
       "\n",
       "                                                 smiles  \n",
       "0                       O=C1O[C@H]([C@@H](O)CO)C(O)=C1O  \n",
       "1     O=C(O[C@@H]1Cc2c(O)cc(O)cc2O[C@@H]1c1cc(O)c(O)...  \n",
       "2                    Brc1nc2c(Br)c(Br)c(Br)c(Br)c2[nH]1  \n",
       "3                            Clc1ccc(OCCn2ccnc2)c(Cl)c1  \n",
       "4                           COC(=O)C(O)(CC(=O)O)CC(=O)O  \n",
       "...                                                 ...  \n",
       "9874      N#Cc1c(N2CCCCC2)cc(-c2ccccc2)c2c1-c1cccnc1CC2  \n",
       "9875                   N#Cc1nn(-c2ccc(Cl)cc2)nc1N1CCCC1  \n",
       "9876                  O=c1nc2n(c3nc(N4CCCCC4)ncc13)CCS2  \n",
       "9877  COC(=O)c1cc2ccccc2cc1-c1cc2ccccc2cc1C(=O)N(C)[...  \n",
       "9878     Cc1sc2ccccc2c1C1=C(c2ccc(N3CCCCC3)cc2)C(=O)CC1  \n",
       "\n",
       "[9870 rows x 26 columns]"
      ]
     },
     "execution_count": 13,
     "metadata": {},
     "output_type": "execute_result"
    }
   ],
   "source": [
    "df[df['smiles'] != False]"
   ]
  },
  {
   "cell_type": "markdown",
   "metadata": {},
   "source": [
    "### Move smiles columns front"
   ]
  },
  {
   "cell_type": "code",
   "execution_count": 14,
   "metadata": {},
   "outputs": [
    {
     "name": "stdout",
     "output_type": "stream",
     "text": [
      "Column names: ['smiles', 'inchikey', 'smi_pre', 'smi_post', 'lambda_sTDA (nm)', 'f1_sTDA', 'lumo_dft', 'homo_dft', 'dmom_dft (D)', 'lambda_z (nm)', 'f1_z', 'lumo_z', 'homo_z', 'dmom_z (D)', 'lumo_mopac', 'homo_mopac', 'dmom_mopac (D)', 'lambda_tddft (nm)', 'f1_tddft', 'lambda_exp_max (nm)', 'epsilon_exp_max ', 'lambda_exp_min (nm)', 'epsilon_exp_min ', 'solvent', 'nogood', 'nogoodpost']\n"
     ]
    }
   ],
   "source": [
    "cols= list(df)\n",
    "cols.insert(0,cols.pop(cols.index('smiles')))\n",
    "df=df[cols]\n",
    "print('Column names: {}'.format(str(df.columns.tolist())))"
   ]
  },
  {
   "cell_type": "markdown",
   "metadata": {},
   "source": [
    "### Save file with cannonized smiles"
   ]
  },
  {
   "cell_type": "code",
   "execution_count": 15,
   "metadata": {},
   "outputs": [],
   "source": [
    "#df=df[['smiles',]]\n",
    "df.to_csv('../data/extended_db_Zindo_Nov_2019_V5_cann.csv', index=False, quoting=0)"
   ]
  },
  {
   "cell_type": "code",
   "execution_count": 16,
   "metadata": {},
   "outputs": [],
   "source": [
    "#max(df.smiles.apply(len))"
   ]
  },
  {
   "cell_type": "markdown",
   "metadata": {},
   "source": [
    "### Work only with post trimming"
   ]
  },
  {
   "cell_type": "code",
   "execution_count": 17,
   "metadata": {},
   "outputs": [
    {
     "name": "stdout",
     "output_type": "stream",
     "text": [
      "Column names: ['smiles', 'inchikey', 'smi_pre', 'smi_post', 'lambda_sTDA (nm)', 'f1_sTDA', 'lumo_dft', 'homo_dft', 'dmom_dft (D)', 'lambda_z (nm)', 'f1_z', 'lumo_z', 'homo_z', 'dmom_z (D)', 'lumo_mopac', 'homo_mopac', 'dmom_mopac (D)', 'lambda_tddft (nm)', 'f1_tddft', 'lambda_exp_max (nm)', 'epsilon_exp_max ', 'lambda_exp_min (nm)', 'epsilon_exp_min ', 'solvent', 'nogood', 'nogoodpost']\n",
      "Table Shape: (9870, 26)\n"
     ]
    }
   ],
   "source": [
    "df = pd.read_csv('../data/extended_db_Zindo_Nov_2019_V5_cann.csv').fillna(value = 0)\n",
    "print('Column names: {}'.format(str(df.columns.tolist())))\n",
    "print('Table Shape: {}'.format(df.shape))"
   ]
  },
  {
   "cell_type": "code",
   "execution_count": 18,
   "metadata": {},
   "outputs": [
    {
     "data": {
      "text/plain": [
       "smiles                 7177\n",
       "inchikey               7177\n",
       "smi_pre                7177\n",
       "smi_post               7177\n",
       "lambda_sTDA (nm)       7177\n",
       "f1_sTDA                7177\n",
       "lumo_dft               7177\n",
       "homo_dft               7177\n",
       "dmom_dft (D)           7177\n",
       "lambda_z (nm)          7177\n",
       "f1_z                   7177\n",
       "lumo_z                 7177\n",
       "homo_z                 7177\n",
       "dmom_z (D)             7177\n",
       "lumo_mopac             7177\n",
       "homo_mopac             7177\n",
       "dmom_mopac (D)         7177\n",
       "lambda_tddft (nm)      7177\n",
       "f1_tddft               7177\n",
       "lambda_exp_max (nm)    7177\n",
       "epsilon_exp_max        7177\n",
       "lambda_exp_min (nm)    7177\n",
       "epsilon_exp_min        7177\n",
       "solvent                7177\n",
       "nogood                 7177\n",
       "nogoodpost             7177\n",
       "dtype: int64"
      ]
     },
     "execution_count": 18,
     "metadata": {},
     "output_type": "execute_result"
    }
   ],
   "source": [
    "df[df['lambda_sTDA (nm)']>0].count()"
   ]
  },
  {
   "cell_type": "code",
   "execution_count": 19,
   "metadata": {},
   "outputs": [
    {
     "name": "stderr",
     "output_type": "stream",
     "text": [
      "[00:17:39] WARNING: not removing hydrogen atom without neighbors\n",
      "[00:17:39] WARNING: not removing hydrogen atom without neighbors\n",
      "[00:17:39] WARNING: not removing hydrogen atom without neighbors\n",
      "[00:17:39] WARNING: not removing hydrogen atom without neighbors\n",
      "[00:17:39] WARNING: not removing hydrogen atom without neighbors\n",
      "[00:17:39] WARNING: not removing hydrogen atom without neighbors\n",
      "[00:17:39] WARNING: not removing hydrogen atom without neighbors\n",
      "[00:17:39] WARNING: not removing hydrogen atom without neighbors\n",
      "[00:17:39] WARNING: not removing hydrogen atom without neighbors\n",
      "[00:17:39] WARNING: not removing hydrogen atom without neighbors\n",
      "[00:17:39] WARNING: not removing hydrogen atom without neighbors\n",
      "[00:17:40] WARNING: not removing hydrogen atom without neighbors\n",
      "[00:17:40] WARNING: not removing hydrogen atom without neighbors\n",
      "[00:17:40] WARNING: not removing hydrogen atom without neighbors\n",
      "[00:17:40] WARNING: not removing hydrogen atom without neighbors\n",
      "[00:17:40] WARNING: not removing hydrogen atom without neighbors\n",
      "[00:17:40] WARNING: not removing hydrogen atom without neighbors\n",
      "[00:17:40] WARNING: not removing hydrogen atom without neighbors\n",
      "[00:17:40] WARNING: not removing hydrogen atom without neighbors\n",
      "[00:17:40] WARNING: not removing hydrogen atom without neighbors\n",
      "[00:17:40] WARNING: not removing hydrogen atom without neighbors\n",
      "[00:17:40] WARNING: not removing hydrogen atom without neighbors\n",
      "[00:17:40] WARNING: not removing hydrogen atom without neighbors\n",
      "[00:17:40] WARNING: not removing hydrogen atom without neighbors\n",
      "[00:17:40] WARNING: not removing hydrogen atom without neighbors\n",
      "[00:17:40] WARNING: not removing hydrogen atom without neighbors\n",
      "[00:17:40] WARNING: not removing hydrogen atom without neighbors\n",
      "[00:17:40] WARNING: not removing hydrogen atom without neighbors\n",
      "[00:17:40] WARNING: not removing hydrogen atom without neighbors\n",
      "[00:17:40] WARNING: not removing hydrogen atom without neighbors\n"
     ]
    }
   ],
   "source": [
    "df['mol'] = df['smiles'].apply(Chem.MolFromSmiles)"
   ]
  },
  {
   "cell_type": "code",
   "execution_count": 20,
   "metadata": {},
   "outputs": [],
   "source": [
    "df['morganfps']=df['mol'].apply(applyMorganFP,fptype='bit',fp_args={'radius':6, 'nBits':2048})\n",
    "#df['morganfps-b8']=df['mol'].apply(applyMorganFP,fptype='bit',fp_args={'radius':8, 'nBits':2048})"
   ]
  },
  {
   "cell_type": "code",
   "execution_count": 21,
   "metadata": {},
   "outputs": [],
   "source": [
    "getonly=['NHOHCount', 'NOCount', 'NumAliphaticCarbocycles',\n",
    "                           'NumAliphaticHeterocycles', 'NumAliphaticRings',\n",
    "                           'NumAromaticCarbocycles', 'NumAromaticHeterocycles',\n",
    "                           'NumAromaticRings', 'NumHAcceptors', 'NumHDonors', \n",
    "                           'NumHeteroatoms', 'NumRadicalElectrons', 'NumRotatableBonds',\n",
    "                           'NumSaturatedCarbocycles', 'NumSaturatedHeterocycles', \n",
    "                           'NumSaturatedRings', 'NumValenceElectrons',\n",
    "                            ]"
   ]
  },
  {
   "cell_type": "code",
   "execution_count": 22,
   "metadata": {},
   "outputs": [],
   "source": [
    "import inspect\n",
    "import rdkit.Chem.Descriptors as Descriptors\n",
    "#https://github.com/jmcarpenter2/swifter\n",
    "#import swifter \n",
    "from collections import OrderedDict\n",
    "\n",
    "calc_props = OrderedDict(inspect.getmembers(Descriptors, inspect.isfunction))\n",
    "for key in list(calc_props.keys()):\n",
    "    if key.startswith('_'):\n",
    "        del calc_props[key]\n",
    "    else:\n",
    "        thisnot=False\n",
    "        for myprop in getonly:\n",
    "            if myprop == key:\n",
    "                thisnot=True\n",
    "        if not thisnot:\n",
    "            del calc_props[key]"
   ]
  },
  {
   "cell_type": "code",
   "execution_count": 23,
   "metadata": {},
   "outputs": [
    {
     "name": "stdout",
     "output_type": "stream",
     "text": [
      "Found 17 molecular descriptors in RDKIT\n"
     ]
    }
   ],
   "source": [
    "from tqdm import tqdm\n",
    "def calc_all(dfc,calc_props,smiles_col='smiles'):\n",
    "    #df['mol'] = df[smiles_col].apply(Chem.MolFromSmiles)\n",
    "    for key,val in tqdm (calc_props.items()):\n",
    "    #for key,val in calc_props.items():\n",
    "        #df[key] = df['mol'].apply(val)\n",
    "        df[key] = df['mol'].apply(val)\n",
    "    return df\n",
    "print('Found {} molecular descriptors in RDKIT'.format(len(calc_props)))\n",
    "#calc_props"
   ]
  },
  {
   "cell_type": "code",
   "execution_count": 24,
   "metadata": {},
   "outputs": [
    {
     "name": "stderr",
     "output_type": "stream",
     "text": [
      "100%|██████████████████████████████████████████████████████████████████████████████████████| 17/17 [00:03<00:00,  5.15it/s]\n"
     ]
    }
   ],
   "source": [
    "df=calc_all(df,calc_props)"
   ]
  },
  {
   "cell_type": "code",
   "execution_count": 25,
   "metadata": {},
   "outputs": [
    {
     "name": "stdout",
     "output_type": "stream",
     "text": [
      "Column names: ['smiles', 'inchikey', 'smi_pre', 'smi_post', 'lambda_sTDA (nm)', 'f1_sTDA', 'lumo_dft', 'homo_dft', 'dmom_dft (D)', 'lambda_z (nm)', 'f1_z', 'lumo_z', 'homo_z', 'dmom_z (D)', 'lumo_mopac', 'homo_mopac', 'dmom_mopac (D)', 'lambda_tddft (nm)', 'f1_tddft', 'lambda_exp_max (nm)', 'epsilon_exp_max ', 'lambda_exp_min (nm)', 'epsilon_exp_min ', 'solvent', 'nogood', 'nogoodpost', 'mol', 'morganfps', 'NHOHCount', 'NOCount', 'NumAliphaticCarbocycles', 'NumAliphaticHeterocycles', 'NumAliphaticRings', 'NumAromaticCarbocycles', 'NumAromaticHeterocycles', 'NumAromaticRings', 'NumHAcceptors', 'NumHDonors', 'NumHeteroatoms', 'NumRadicalElectrons', 'NumRotatableBonds', 'NumSaturatedCarbocycles', 'NumSaturatedHeterocycles', 'NumSaturatedRings', 'NumValenceElectrons']\n"
     ]
    }
   ],
   "source": [
    "print('Column names: {}'.format(str(df.columns.tolist())))"
   ]
  },
  {
   "cell_type": "code",
   "execution_count": 26,
   "metadata": {},
   "outputs": [],
   "source": [
    "df.to_pickle('../data/extended_db_Zindo_Nov_2019_V5_cannfp.pkl')"
   ]
  },
  {
   "cell_type": "code",
   "execution_count": 27,
   "metadata": {},
   "outputs": [
    {
     "data": {
      "text/html": [
       "<div>\n",
       "<style scoped>\n",
       "    .dataframe tbody tr th:only-of-type {\n",
       "        vertical-align: middle;\n",
       "    }\n",
       "\n",
       "    .dataframe tbody tr th {\n",
       "        vertical-align: top;\n",
       "    }\n",
       "\n",
       "    .dataframe thead th {\n",
       "        text-align: right;\n",
       "    }\n",
       "</style>\n",
       "<table border=\"1\" class=\"dataframe\">\n",
       "  <thead>\n",
       "    <tr style=\"text-align: right;\">\n",
       "      <th></th>\n",
       "      <th>smiles</th>\n",
       "      <th>inchikey</th>\n",
       "      <th>smi_pre</th>\n",
       "      <th>smi_post</th>\n",
       "      <th>lambda_sTDA (nm)</th>\n",
       "      <th>f1_sTDA</th>\n",
       "      <th>lumo_dft</th>\n",
       "      <th>homo_dft</th>\n",
       "      <th>dmom_dft (D)</th>\n",
       "      <th>lambda_z (nm)</th>\n",
       "      <th>...</th>\n",
       "      <th>NumAromaticRings</th>\n",
       "      <th>NumHAcceptors</th>\n",
       "      <th>NumHDonors</th>\n",
       "      <th>NumHeteroatoms</th>\n",
       "      <th>NumRadicalElectrons</th>\n",
       "      <th>NumRotatableBonds</th>\n",
       "      <th>NumSaturatedCarbocycles</th>\n",
       "      <th>NumSaturatedHeterocycles</th>\n",
       "      <th>NumSaturatedRings</th>\n",
       "      <th>NumValenceElectrons</th>\n",
       "    </tr>\n",
       "  </thead>\n",
       "  <tbody>\n",
       "    <tr>\n",
       "      <th>0</th>\n",
       "      <td>O=C1O[C@H]([C@@H](O)CO)C(O)=C1O</td>\n",
       "      <td>CIWBSHSKHKDKBQ-JLAZNSOCSA-N</td>\n",
       "      <td>OC[C@@H]([C@H]1OC(=O)C(=C1O)O)O</td>\n",
       "      <td>OC[C@@H]([C@H]1OC(=O)C(=C1O)O)O</td>\n",
       "      <td>0.0</td>\n",
       "      <td>0.000000</td>\n",
       "      <td>0.0000</td>\n",
       "      <td>0.0000</td>\n",
       "      <td>0.00000</td>\n",
       "      <td>0.000000</td>\n",
       "      <td>...</td>\n",
       "      <td>0</td>\n",
       "      <td>6</td>\n",
       "      <td>4</td>\n",
       "      <td>6</td>\n",
       "      <td>0</td>\n",
       "      <td>2</td>\n",
       "      <td>0</td>\n",
       "      <td>0</td>\n",
       "      <td>0</td>\n",
       "      <td>68</td>\n",
       "    </tr>\n",
       "    <tr>\n",
       "      <th>1</th>\n",
       "      <td>O=C(O[C@@H]1Cc2c(O)cc(O)cc2O[C@@H]1c1cc(O)c(O)...</td>\n",
       "      <td>WMBWREPUVVBILR-WIYYLYMNSA-N</td>\n",
       "      <td>Oc1cc(O)c2c(c1)O[C@@H]([C@@H](C2)OC(=O)c1cc(O)...</td>\n",
       "      <td>Oc1cc(O)c2c(c1)O[C@@H]([C@@H](C2)OC(=O)c1cc(O)...</td>\n",
       "      <td>263.5</td>\n",
       "      <td>0.013443</td>\n",
       "      <td>0.7857</td>\n",
       "      <td>-8.0182</td>\n",
       "      <td>4.27854</td>\n",
       "      <td>309.496252</td>\n",
       "      <td>...</td>\n",
       "      <td>3</td>\n",
       "      <td>11</td>\n",
       "      <td>8</td>\n",
       "      <td>11</td>\n",
       "      <td>0</td>\n",
       "      <td>3</td>\n",
       "      <td>0</td>\n",
       "      <td>0</td>\n",
       "      <td>0</td>\n",
       "      <td>172</td>\n",
       "    </tr>\n",
       "    <tr>\n",
       "      <th>2</th>\n",
       "      <td>Brc1nc2c(Br)c(Br)c(Br)c(Br)c2[nH]1</td>\n",
       "      <td>RKIBZFOZIJTIJU-UHFFFAOYSA-N</td>\n",
       "      <td>Brc1[nH]c2c(n1)c(Br)c(c(c2Br)Br)Br</td>\n",
       "      <td>Brc1[nH]c2c(n1)c(Br)c(c(c2Br)Br)Br</td>\n",
       "      <td>264.0</td>\n",
       "      <td>0.061442</td>\n",
       "      <td>0.1205</td>\n",
       "      <td>-8.8347</td>\n",
       "      <td>3.58474</td>\n",
       "      <td>329.219858</td>\n",
       "      <td>...</td>\n",
       "      <td>2</td>\n",
       "      <td>1</td>\n",
       "      <td>1</td>\n",
       "      <td>7</td>\n",
       "      <td>0</td>\n",
       "      <td>0</td>\n",
       "      <td>0</td>\n",
       "      <td>0</td>\n",
       "      <td>0</td>\n",
       "      <td>74</td>\n",
       "    </tr>\n",
       "  </tbody>\n",
       "</table>\n",
       "<p>3 rows × 45 columns</p>\n",
       "</div>"
      ],
      "text/plain": [
       "                                              smiles  \\\n",
       "0                    O=C1O[C@H]([C@@H](O)CO)C(O)=C1O   \n",
       "1  O=C(O[C@@H]1Cc2c(O)cc(O)cc2O[C@@H]1c1cc(O)c(O)...   \n",
       "2                 Brc1nc2c(Br)c(Br)c(Br)c(Br)c2[nH]1   \n",
       "\n",
       "                      inchikey  \\\n",
       "0  CIWBSHSKHKDKBQ-JLAZNSOCSA-N   \n",
       "1  WMBWREPUVVBILR-WIYYLYMNSA-N   \n",
       "2  RKIBZFOZIJTIJU-UHFFFAOYSA-N   \n",
       "\n",
       "                                             smi_pre  \\\n",
       "0                    OC[C@@H]([C@H]1OC(=O)C(=C1O)O)O   \n",
       "1  Oc1cc(O)c2c(c1)O[C@@H]([C@@H](C2)OC(=O)c1cc(O)...   \n",
       "2                 Brc1[nH]c2c(n1)c(Br)c(c(c2Br)Br)Br   \n",
       "\n",
       "                                            smi_post  lambda_sTDA (nm)  \\\n",
       "0                    OC[C@@H]([C@H]1OC(=O)C(=C1O)O)O               0.0   \n",
       "1  Oc1cc(O)c2c(c1)O[C@@H]([C@@H](C2)OC(=O)c1cc(O)...             263.5   \n",
       "2                 Brc1[nH]c2c(n1)c(Br)c(c(c2Br)Br)Br             264.0   \n",
       "\n",
       "    f1_sTDA  lumo_dft  homo_dft  dmom_dft (D)  lambda_z (nm)  ...  \\\n",
       "0  0.000000    0.0000    0.0000       0.00000       0.000000  ...   \n",
       "1  0.013443    0.7857   -8.0182       4.27854     309.496252  ...   \n",
       "2  0.061442    0.1205   -8.8347       3.58474     329.219858  ...   \n",
       "\n",
       "   NumAromaticRings  NumHAcceptors NumHDonors  NumHeteroatoms  \\\n",
       "0                 0              6          4               6   \n",
       "1                 3             11          8              11   \n",
       "2                 2              1          1               7   \n",
       "\n",
       "   NumRadicalElectrons  NumRotatableBonds  NumSaturatedCarbocycles  \\\n",
       "0                    0                  2                        0   \n",
       "1                    0                  3                        0   \n",
       "2                    0                  0                        0   \n",
       "\n",
       "   NumSaturatedHeterocycles  NumSaturatedRings  NumValenceElectrons  \n",
       "0                         0                  0                   68  \n",
       "1                         0                  0                  172  \n",
       "2                         0                  0                   74  \n",
       "\n",
       "[3 rows x 45 columns]"
      ]
     },
     "execution_count": 27,
     "metadata": {},
     "output_type": "execute_result"
    }
   ],
   "source": [
    "df.head(3)"
   ]
  },
  {
   "cell_type": "code",
   "execution_count": 28,
   "metadata": {},
   "outputs": [],
   "source": [
    "import rdkit.Chem.Descriptors as Descriptors"
   ]
  },
  {
   "cell_type": "code",
   "execution_count": 29,
   "metadata": {},
   "outputs": [
    {
     "name": "stderr",
     "output_type": "stream",
     "text": [
      "[00:18:03] WARNING: not removing hydrogen atom without neighbors\n",
      "[00:18:03] WARNING: not removing hydrogen atom without neighbors\n",
      "[00:18:03] WARNING: not removing hydrogen atom without neighbors\n",
      "[00:18:03] WARNING: not removing hydrogen atom without neighbors\n",
      "[00:18:03] WARNING: not removing hydrogen atom without neighbors\n",
      "[00:18:03] WARNING: not removing hydrogen atom without neighbors\n",
      "[00:18:03] WARNING: not removing hydrogen atom without neighbors\n",
      "[00:18:03] WARNING: not removing hydrogen atom without neighbors\n",
      "[00:18:03] WARNING: not removing hydrogen atom without neighbors\n",
      "[00:18:03] WARNING: not removing hydrogen atom without neighbors\n",
      "[00:18:03] WARNING: not removing hydrogen atom without neighbors\n",
      "[00:18:05] WARNING: not removing hydrogen atom without neighbors\n",
      "[00:18:05] WARNING: not removing hydrogen atom without neighbors\n",
      "[00:18:05] WARNING: not removing hydrogen atom without neighbors\n",
      "[00:18:05] WARNING: not removing hydrogen atom without neighbors\n",
      "[00:18:05] WARNING: not removing hydrogen atom without neighbors\n",
      "[00:18:05] WARNING: not removing hydrogen atom without neighbors\n",
      "[00:18:05] WARNING: not removing hydrogen atom without neighbors\n",
      "[00:18:05] WARNING: not removing hydrogen atom without neighbors\n",
      "[00:18:05] WARNING: not removing hydrogen atom without neighbors\n",
      "[00:18:05] WARNING: not removing hydrogen atom without neighbors\n",
      "[00:18:05] WARNING: not removing hydrogen atom without neighbors\n",
      "[00:18:05] WARNING: not removing hydrogen atom without neighbors\n",
      "[00:18:05] WARNING: not removing hydrogen atom without neighbors\n",
      "[00:18:05] WARNING: not removing hydrogen atom without neighbors\n",
      "[00:18:05] WARNING: not removing hydrogen atom without neighbors\n",
      "[00:18:05] WARNING: not removing hydrogen atom without neighbors\n",
      "[00:18:05] WARNING: not removing hydrogen atom without neighbors\n",
      "[00:18:05] WARNING: not removing hydrogen atom without neighbors\n",
      "[00:18:05] WARNING: not removing hydrogen atom without neighbors\n"
     ]
    }
   ],
   "source": [
    "df['molp'] = df['smi_pre'].apply(Chem.MolFromSmiles)"
   ]
  },
  {
   "cell_type": "code",
   "execution_count": 30,
   "metadata": {},
   "outputs": [],
   "source": [
    "df['MolWt']=df.mol.apply(Descriptors.ExactMolWt)"
   ]
  },
  {
   "cell_type": "code",
   "execution_count": 31,
   "metadata": {},
   "outputs": [],
   "source": [
    "df['MolWtp']=df.molp.apply(Descriptors.ExactMolWt)"
   ]
  },
  {
   "cell_type": "code",
   "execution_count": 32,
   "metadata": {},
   "outputs": [],
   "source": [
    "df['MolWtdiff']=df['MolWt']-df['MolWtp']"
   ]
  },
  {
   "cell_type": "code",
   "execution_count": 33,
   "metadata": {},
   "outputs": [
    {
     "data": {
      "text/plain": [
       "<pandas.plotting._core.PlotAccessor object at 0x7fb2931e09d0>"
      ]
     },
     "execution_count": 33,
     "metadata": {},
     "output_type": "execute_result"
    }
   ],
   "source": [
    "df['MolWtdiff'].plot"
   ]
  },
  {
   "cell_type": "code",
   "execution_count": 34,
   "metadata": {},
   "outputs": [
    {
     "data": {
      "text/plain": [
       "<Axes: xlabel='MolWt', ylabel='MolWtp'>"
      ]
     },
     "execution_count": 34,
     "metadata": {},
     "output_type": "execute_result"
    },
    {
     "data": {
      "image/png": "[encoded data removed]",
      "text/plain": [
       "<Figure size 860x688 with 1 Axes>"
      ]
     },
     "metadata": {},
     "output_type": "display_data"
    }
   ],
   "source": [
    "df.plot.scatter(x='MolWt', y='MolWtp',s=2)"
   ]
  },
  {
   "cell_type": "code",
   "execution_count": 35,
   "metadata": {},
   "outputs": [],
   "source": [
    "import seaborn as sns"
   ]
  },
  {
   "cell_type": "code",
   "execution_count": 36,
   "metadata": {},
   "outputs": [
    {
     "name": "stderr",
     "output_type": "stream",
     "text": [
      "/tmp/ipykernel_64853/1372209034.py:1: UserWarning: \n",
      "\n",
      "`distplot` is a deprecated function and will be removed in seaborn v0.14.0.\n",
      "\n",
      "Please adapt your code to use either `displot` (a figure-level function with\n",
      "similar flexibility) or `histplot` (an axes-level function for histograms).\n",
      "\n",
      "For a guide to updating your code to use the new functions, please see\n",
      "https://gist.github.com/mwaskom/de44147ed2974457ad6372750bbe5751\n",
      "\n",
      "  sns.distplot(df['MolWtdiff'].values[:])\n"
     ]
    },
    {
     "data": {
      "text/plain": [
       "<Axes: ylabel='Density'>"
      ]
     },
     "execution_count": 36,
     "metadata": {},
     "output_type": "execute_result"
    },
    {
     "data": {
      "image/png": "[encoded data removed]",
      "text/plain": [
       "<Figure size 860x688 with 1 Axes>"
      ]
     },
     "metadata": {},
     "output_type": "display_data"
    }
   ],
   "source": [
    "sns.distplot(df['MolWtdiff'].values[:])"
   ]
  },
  {
   "cell_type": "code",
   "execution_count": 37,
   "metadata": {},
   "outputs": [],
   "source": [
    "df['gapdft']=df['lumo_dft']-df['homo_dft']\n",
    "#dfzi.homo_z= dfzi.homo_z.apply(float)\n",
    "#dfzi['gapz']=dfzi['lumo_z']-dfzi['homo_z']\n",
    "#dfzi['gapmopac']=dfzi['lumo_mopac']-dfzi['homo_mopac']"
   ]
  },
  {
   "cell_type": "code",
   "execution_count": 40,
   "metadata": {},
   "outputs": [],
   "source": [
    "df.homo_z = df.homo_z.apply(float)\n",
    "df['gapz'] = df['lumo_z'] - df['homo_z']"
   ]
  },
  {
   "cell_type": "code",
   "execution_count": 41,
   "metadata": {},
   "outputs": [],
   "source": [
    "df['gapmopac']=df['lumo_mopac']-df['homo_mopac']"
   ]
  },
  {
   "cell_type": "code",
   "execution_count": 42,
   "metadata": {},
   "outputs": [
    {
     "name": "stderr",
     "output_type": "stream",
     "text": [
      "/tmp/ipykernel_64853/3397837222.py:1: UserWarning: \n",
      "\n",
      "`distplot` is a deprecated function and will be removed in seaborn v0.14.0.\n",
      "\n",
      "Please adapt your code to use either `displot` (a figure-level function with\n",
      "similar flexibility) or `histplot` (an axes-level function for histograms).\n",
      "\n",
      "For a guide to updating your code to use the new functions, please see\n",
      "https://gist.github.com/mwaskom/de44147ed2974457ad6372750bbe5751\n",
      "\n",
      "  sns.distplot(df['gapmopac'].values[:])\n"
     ]
    },
    {
     "data": {
      "text/plain": [
       "<Axes: ylabel='Density'>"
      ]
     },
     "execution_count": 42,
     "metadata": {},
     "output_type": "execute_result"
    },
    {
     "data": {
      "image/png": "[encoded data removed]",
      "text/plain": [
       "<Figure size 860x688 with 1 Axes>"
      ]
     },
     "metadata": {},
     "output_type": "display_data"
    }
   ],
   "source": [
    "sns.distplot(df['gapmopac'].values[:])"
   ]
  },
  {
   "cell_type": "code",
   "execution_count": 42,
   "metadata": {},
   "outputs": [
    {
     "name": "stdout",
     "output_type": "stream",
     "text": [
      "Column names: ['smiles', 'inchikey', 'fpfail', 'smi_pre', 'smi_post', 'lambda_sTDA (nm)', 'f1_sTDA', 'lumo_dft', 'homo_dft', 'dmom_dft (D)', 'lambda_z (nm)', 'f1_z', 'lumo_z', 'homo_z', 'dmom_z (D)', 'lumo_mopac', 'homo_mopac', 'dmom_mopac (D)', 'lambda_tddft (nm)', 'f1_tddft', 'lambda_exp_max (nm)', 'epsilon_exp_max ', 'lambda_exp_min (nm)', 'epsilon_exp_min ', 'solvent', 'nogood', 'nogoodp', 'mol', 'morganfps-b', 'morganfps-b8', 'NHOHCount', 'NOCount', 'NumAliphaticCarbocycles', 'NumAliphaticHeterocycles', 'NumAliphaticRings', 'NumAromaticCarbocycles', 'NumAromaticHeterocycles', 'NumAromaticRings', 'NumHAcceptors', 'NumHDonors', 'NumHeteroatoms', 'NumRadicalElectrons', 'NumRotatableBonds', 'NumSaturatedCarbocycles', 'NumSaturatedHeterocycles', 'NumSaturatedRings', 'NumValenceElectrons', 'molp', 'MolWt', 'MolWtp', 'MolWtdiff', 'gapdft', 'gapmopac']\n",
      "Table Shape: (9870, 53)\n"
     ]
    }
   ],
   "source": [
    "df.to_pickle('../data/extended_db_Zindo_Nov_2019_V5_cannfp.pkl')\n",
    "print('Column names: {}'.format(str(df.columns.tolist())))\n",
    "print('Table Shape: {}'.format(df.shape))"
   ]
  }
 ],
 "metadata": {
  "kernelspec": {
   "display_name": "introhpc",
   "language": "python",
   "name": "introhpc"
  },
  "language_info": {
   "codemirror_mode": {
    "name": "ipython",
    "version": 3
   },
   "file_extension": ".py",
   "mimetype": "text/x-python",
   "name": "python",
   "nbconvert_exporter": "python",
   "pygments_lexer": "ipython3",
   "version": "3.11.4"
  }
 },
 "nbformat": 4,
 "nbformat_minor": 4
}
