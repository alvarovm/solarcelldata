{
 "cells": [
  {
   "cell_type": "markdown",
   "metadata": {},
   "source": [
    "# Molecular Maps: PCA using RDKIT, part 2"
   ]
  },
  {
   "cell_type": "markdown",
   "metadata": {},
   "source": [
    "Author: AlvaroVM [https://alvarovm.github.io](http://alvarovm.github.io)\n",
    "Version: 0.0.1"
   ]
  },
  {
   "cell_type": "markdown",
   "metadata": {},
   "source": [
    "## Example 1: PCA to distinguish between rings and chains"
   ]
  },
  {
   "cell_type": "markdown",
   "metadata": {},
   "source": [
    "For this example we define in SMILES string two groups of molecules with different substituents, such as -CH3, -O, -F, -Cl, and- I , in molecules with six carbons 1) in a ring and 2) in chain. Those molecules would be added to a list, additionally we add a 'certain' property , this could be used later as a flag."
   ]
  },
  {
   "cell_type": "code",
   "execution_count": null,
   "metadata": {},
   "outputs": [],
   "source": [
    "import sys\n",
    "import os\n",
    "SRC_DIR='../..'"
   ]
  },
  {
   "cell_type": "code",
   "execution_count": null,
   "metadata": {},
   "outputs": [],
   "source": [
    "sys.path.append(os.path.join(SRC_DIR, 'code'))\n",
    "import utils"
   ]
  },
  {
   "cell_type": "code",
   "execution_count": null,
   "metadata": {},
   "outputs": [],
   "source": [
    "%matplotlib inline\n",
    "import matplotlib.pyplot as plt\n",
    "import numpy as np\n",
    "\n",
    "import pandas as pd\n",
    "#https://github.com/jmcarpenter2/swifter\n",
    "#import swifter\n",
    "#2-TSNE-UMAP-map-cuda-Copy1\n",
    "\n",
    "from rdkit import Chem\n",
    "from rdkit.Chem import AllChem\n",
    "from rdkit import DataStructs \n",
    "from rdkit.Chem import Draw\n",
    "from rdkit.Chem.rdMolDescriptors import  GetHashedMorganFingerprint\n",
    "from rdkit.DataStructs import ConvertToNumpyArray\n",
    "\n",
    "from sklearn.manifold import TSNE\n",
    "\n",
    "import hdbscan\n",
    "\n",
    "utils.plot_settings2()\n",
    "\n",
    "results_path = os.path.join(SRC_DIR,'results')"
   ]
  },
  {
   "cell_type": "code",
   "execution_count": null,
   "metadata": {},
   "outputs": [],
   "source": [
    "df = pd.read_pickle('../../data/extended_db_Zindo_Nov_2019_V5_cannfp_clust.pkl').fillna(value = 0)\n",
    "print('Column names: {}'.format(str(df.columns.tolist())))\n",
    "print('Table Shape: {}'.format(df.shape))\n",
    "#df.head(2)"
   ]
  },
  {
   "cell_type": "markdown",
   "metadata": {},
   "source": [
    "### Exercises\n",
    "\n",
    "* Clean the tables removing the rows with zeros in 'lambda_tddft (nm)' and 'lambda_sTDA (nm)'"
   ]
  },
  {
   "cell_type": "code",
   "execution_count": null,
   "metadata": {},
   "outputs": [],
   "source": [
    "#tag='lambda_exp_max (nm)'\n",
    "tag='lambda_sTDA (nm)'\n",
    "df=df[df['lambda_sTDA (nm)']>0]\n",
    "df=df[df['lambda_tddft (nm)']>0]\n",
    "print('Table Shape: {}'.format(df.shape))"
   ]
  },
  {
   "cell_type": "markdown",
   "metadata": {},
   "source": [
    "* Compare 'lambda_tddft (nm)' vs 'lambda_sTDA (nm)', use  t-SNE clusters to colour the points. Is there any relationship? "
   ]
  },
  {
   "cell_type": "markdown",
   "metadata": {},
   "source": [
    "* Compare 'lambda_tddft (nm)' vs 'lambda_sTDA (nm)' in the most populated clusters. Are there clusters that correlate better?"
   ]
  },
  {
   "cell_type": "code",
   "execution_count": null,
   "metadata": {},
   "outputs": [],
   "source": [
    "df['stda_dft'] = df['lambda_tddft (nm)'].values[:]- df[ 'lambda_sTDA (nm)'].values[:]"
   ]
  },
  {
   "cell_type": "code",
   "execution_count": null,
   "metadata": {},
   "outputs": [],
   "source": [
    "plt.figure(figsize=(8,6))\n",
    "plt.scatter(df['lambda_tddft (nm)'].values[:], df[ 'lambda_sTDA (nm)'].values[:], marker='o', c=df[ 'cluster'], cmap='brg', s=df['stda_dft'],alpha=.8,)\n",
    "#plt.scatter(X_skernpca[y==1, 0], X_skernpca[y==1, 1], \n",
    "\n",
    "plt.xlabel('TDDFT')\n",
    "plt.ylabel('sTDA')\n",
    "plt.title('Lambda TDDFT vs sTDA, coloured with Cluster#')\n",
    "cbar = plt.colorbar()\n",
    "cbar.set_label('Cluster')\n",
    "#utils.save_figure(results_path,'tddft-stda-diff_lem')\n",
    "plt.show()"
   ]
  },
  {
   "cell_type": "markdown",
   "metadata": {},
   "source": [
    "* Compute the difference between 'lambda_tddft (nm)' and 'lambda_sTDA (nm)'. Analyze the differences by cluster."
   ]
  },
  {
   "cell_type": "code",
   "execution_count": null,
   "metadata": {},
   "outputs": [],
   "source": [
    "import matplotlib as mpl\n",
    "import seaborn as sns\n",
    "counts = df.cluster.value_counts()\n",
    "counts[1:3]"
   ]
  },
  {
   "cell_type": "code",
   "execution_count": null,
   "metadata": {},
   "outputs": [],
   "source": [
    "fig, ax = plt.subplots(1, 1, figsize=(8,7))\n",
    "ax=[]\n",
    "names=[]\n",
    "for e in counts[1:3].keys():\n",
    "    label='Cluster {}'.format(e)\n",
    "    ax=sns.distplot(df[df['cluster']==e]['stda_dft'].values,kde_kws={\"shade\": True},label=label)\n",
    "    names.append('Cluster {}'.format(e))\n",
    "\n",
    "plt.xlabel(r'$\\lambda$ (nm)')\n",
    "plt.ylabel('Relative frequency')\n",
    "plt.title('TDDFT-sTDA, Clusterwise')\n",
    "\n",
    "ax.legend(names)\n",
    "#header_legend('',  title='Clusters', loc='upper right',bbox_to_anchor=(1.15,1.0))\n",
    "#utils.save_figure(results_path,'tddft-stda-diff-cluster-lem')\n",
    "plt.show()"
   ]
  },
  {
   "cell_type": "markdown",
   "metadata": {},
   "source": [
    "* Repeat the same analysis with the ZINDO method"
   ]
  },
  {
   "cell_type": "code",
   "execution_count": null,
   "metadata": {},
   "outputs": [],
   "source": []
  }
 ],
 "metadata": {
  "kernelspec": {
   "display_name": "introhpc",
   "language": "python",
   "name": "introhpc"
  },
  "language_info": {
   "codemirror_mode": {
    "name": "ipython",
    "version": 3
   },
   "file_extension": ".py",
   "mimetype": "text/x-python",
   "name": "python",
   "nbconvert_exporter": "python",
   "pygments_lexer": "ipython3",
   "version": "3.11.4"
  }
 },
 "nbformat": 4,
 "nbformat_minor": 4
}
