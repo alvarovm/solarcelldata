{
 "cells": [
  {
   "cell_type": "code",
   "execution_count": 1,
   "metadata": {
    "collapsed": true
   },
   "outputs": [],
   "source": [
    "from cirpy import request, resolve, query, Molecule, Result, resolve_image\n",
    "from IPython.display import Image"
   ]
  },
  {
   "cell_type": "code",
   "execution_count": 2,
   "metadata": {},
   "outputs": [
    {
     "data": {
      "image/png": "[encoded data removed]",
      "text/plain": [
       "<IPython.core.display.Image object>"
      ]
     },
     "execution_count": 2,
     "metadata": {},
     "output_type": "execute_result"
    }
   ],
   "source": [
    "img=resolve_image('Glucose',fmt='gif')\n",
    "Image(img) "
   ]
  },
  {
   "cell_type": "code",
   "execution_count": 3,
   "metadata": {},
   "outputs": [
    {
     "name": "stdout",
     "output_type": "stream",
     "text": [
      "(u'https://cactus.nci.nih.gov/chemical/structure/C%23N/image?resolver=smiles', 'https://cactus.nci.nih.gov/chemical/structure/C%23N/image?resolver=smiles')\n"
     ]
    }
   ],
   "source": [
    "img2=Molecule('C#N', ['smiles']).image_url,'https://cactus.nci.nih.gov/chemical/structure/C%23N/image?resolver=smiles'\n",
    "print img2"
   ]
  },
  {
   "cell_type": "code",
   "execution_count": 4,
   "metadata": {},
   "outputs": [
    {
     "name": "stdout",
     "output_type": "stream",
     "text": [
      "QNAYBMKLOCPYGJ-SNQCPAJUNA-N\n"
     ]
    }
   ],
   "source": [
    "resolve('Alanine', 'smiles')\n",
    "inchikey=resolve('Alanine', 'inchikey')\n",
    "print inchikey.split('=')[1]"
   ]
  },
  {
   "cell_type": "code",
   "execution_count": 5,
   "metadata": {},
   "outputs": [
    {
     "name": "stdout",
     "output_type": "stream",
     "text": [
      "OTMSDBZUPAUEDD-UHFFFAOYNA-N\n"
     ]
    }
   ],
   "source": [
    "resolve('CC', 'smiles')\n",
    "inchikey=resolve('CC', 'inchikey')\n",
    "print inchikey.split('=')[1]"
   ]
  },
  {
   "cell_type": "code",
   "execution_count": 45,
   "metadata": {
    "collapsed": true
   },
   "outputs": [],
   "source": [
    "#resolve('CC', 'names')"
   ]
  },
  {
   "cell_type": "code",
   "execution_count": 6,
   "metadata": {},
   "outputs": [
    {
     "data": {
      "text/plain": [
       "'CC'"
      ]
     },
     "execution_count": 6,
     "metadata": {},
     "output_type": "execute_result"
    }
   ],
   "source": [
    "resolve('CC', 'smiles',get3d=True)"
   ]
  },
  {
   "cell_type": "code",
   "execution_count": 1,
   "metadata": {},
   "outputs": [
    {
     "name": "stdout",
     "output_type": "stream",
     "text": [
      "Should print 5 (atoms)\n",
      "5\n",
      "Should print 9 (atoms) after adding hydrogens\n",
      "9\n"
     ]
    }
   ],
   "source": [
    "#http://openbabel.org/docs/current/UseTheLibrary/PythonDoc.html\n",
    "#http://openbabel.org/docs/current/UseTheLibrary/Python_PybelAPI.html\n",
    "#http://openbabel.org/docs/current/UseTheLibrary/Python_Pybel.html\n",
    "\n",
    "import openbabel\n",
    "import pybel\n",
    "\n",
    "obConversion = openbabel.OBConversion()\n",
    "obConversion.SetInAndOutFormats(\"smi\", \"mdl\")\n",
    "\n",
    "mol = openbabel.OBMol()\n",
    "obConversion.ReadString(mol, \"C1=CC=CS1\")\n",
    "\n",
    "print 'Should print 5 (atoms)'\n",
    "print mol.NumAtoms()\n",
    "\n",
    "mol.AddHydrogens()\n",
    "print 'Should print 9 (atoms) after adding hydrogens'\n",
    "print mol.NumAtoms()\n",
    "\n",
    "outMDL = obConversion.WriteString(mol)"
   ]
  },
  {
   "cell_type": "code",
   "execution_count": 16,
   "metadata": {},
   "outputs": [],
   "source": [
    "#obConversionz = openbabel.OBConversion()\n",
    "#bConversionz.SetInAndOutFormats(\"smi\", \"xyz\")"
   ]
  },
  {
   "cell_type": "code",
   "execution_count": 32,
   "metadata": {},
   "outputs": [
    {
     "name": "stdout",
     "output_type": "stream",
     "text": [
      "0\n",
      "30.06904\n"
     ]
    }
   ],
   "source": [
    "# create molz from C1=CC=CS1\n",
    "molz = openbabel.OBMol()\n",
    "obConversion.ReadString(molz, 'CC')\n",
    "pybelmol = pybel.Molecule(molz)\n",
    "#add hydrogens\n",
    "pybelmol.addh()\n",
    "#print dimmesion\n",
    "print pybelmol.dim\n",
    "#print mass weight\n",
    "print pybelmol.molwt"
   ]
  },
  {
   "cell_type": "code",
   "execution_count": 31,
   "metadata": {},
   "outputs": [
    {
     "name": "stdout",
     "output_type": "stream",
     "text": [
      "6\n",
      "6\n",
      "6\n",
      "6\n",
      "16\n",
      "1\n",
      "1\n",
      "1\n",
      "1\n"
     ]
    }
   ],
   "source": [
    "ntotal=0\n",
    "for e in pybelmol.atoms: \n",
    "    print e.atomicnum\n",
    "    ntotal += e.atomicnum\n",
    "\n",
    "\n"
   ]
  },
  {
   "cell_type": "code",
   "execution_count": 24,
   "metadata": {},
   "outputs": [
    {
     "data": {
      "text/plain": [
       "0.0"
      ]
     },
     "execution_count": 24,
     "metadata": {},
     "output_type": "execute_result"
    }
   ],
   "source": [
    "    \n",
    "#for e in pybelmol.atoms: \n",
    "#    e.atomicnum = 7 \n",
    "\n",
    "#for e in pybelmol.atoms: \n",
    "#    print e \n",
    "#    print e.atomicnum\n",
    "#    print e.coords\n"
   ]
  },
  {
   "cell_type": "code",
   "execution_count": 11,
   "metadata": {},
   "outputs": [],
   "source": [
    "pybelmol.make3D()\n"
   ]
  },
  {
   "cell_type": "code",
   "execution_count": 12,
   "metadata": {
    "collapsed": true
   },
   "outputs": [],
   "source": [
    "#print pybelmol.conformers[[1]]"
   ]
  },
  {
   "cell_type": "code",
   "execution_count": 13,
   "metadata": {},
   "outputs": [
    {
     "ename": "AttributeError",
     "evalue": "'Atom' object has no attribute 'SetAtomicNum'",
     "output_type": "error",
     "traceback": [
      "\u001b[0;31m---------------------------------------------------------------------------\u001b[0m",
      "\u001b[0;31mAttributeError\u001b[0m                            Traceback (most recent call last)",
      "\u001b[0;32m<ipython-input-13-e6ecca9682c3>\u001b[0m in \u001b[0;36m<module>\u001b[0;34m()\u001b[0m\n\u001b[0;32m----> 1\u001b[0;31m \u001b[0mpybelmol\u001b[0m\u001b[0;34m.\u001b[0m\u001b[0matoms\u001b[0m\u001b[0;34m[\u001b[0m\u001b[0;36m1\u001b[0m\u001b[0;34m]\u001b[0m\u001b[0;34m.\u001b[0m\u001b[0mSetAtomicNum\u001b[0m\u001b[0;34m(\u001b[0m\u001b[0;36m9\u001b[0m\u001b[0;34m)\u001b[0m\u001b[0;34m\u001b[0m\u001b[0m\n\u001b[0m",
      "\u001b[0;31mAttributeError\u001b[0m: 'Atom' object has no attribute 'SetAtomicNum'"
     ]
    }
   ],
   "source": [
    "pybelmol.atoms[1].SetAtomicNum(9)"
   ]
  },
  {
   "cell_type": "code",
   "execution_count": null,
   "metadata": {
    "collapsed": true
   },
   "outputs": [],
   "source": []
  }
 ],
 "metadata": {
  "kernelspec": {
   "display_name": "chemchem",
   "language": "python",
   "name": "chemchem"
  },
  "language_info": {
   "codemirror_mode": {
    "name": "ipython",
    "version": 2
   },
   "file_extension": ".py",
   "mimetype": "text/x-python",
   "name": "python",
   "nbconvert_exporter": "python",
   "pygments_lexer": "ipython2",
   "version": "2.7.13"
  }
 },
 "nbformat": 4,
 "nbformat_minor": 2
}
