{
 "cells": [
  {
   "cell_type": "markdown",
   "metadata": {},
   "source": [
    "# Molecular Maps: PCA using RDKIT, part 2"
   ]
  },
  {
   "cell_type": "markdown",
   "metadata": {},
   "source": [
    "Author: AlvaroVM [https://alvarovm.github.io](http://alvarovm.github.io)\n",
    "Version: 0.0.1"
   ]
  },
  {
   "cell_type": "markdown",
   "metadata": {},
   "source": [
    "## Example 1: PCA to distinguish between rings and chains"
   ]
  },
  {
   "cell_type": "markdown",
   "metadata": {},
   "source": [
    "For this example we define in SMILES string two groups of molecules with different substituents, such as -CH3, -O, -F, -Cl, and- I , in molecules with six carbons 1) in a ring and 2) in chain. Those molecules would be added to a list, additionally we add a 'certain' property , this could be used later as a flag."
   ]
  },
  {
   "cell_type": "code",
   "execution_count": null,
   "metadata": {},
   "outputs": [],
   "source": [
    "import sys\n",
    "import os\n",
    "SRC_DIR='..'"
   ]
  },
  {
   "cell_type": "code",
   "execution_count": null,
   "metadata": {},
   "outputs": [],
   "source": [
    "sys.path.append(os.path.join(SRC_DIR, 'code'))\n",
    "import utils"
   ]
  },
  {
   "cell_type": "code",
   "execution_count": null,
   "metadata": {},
   "outputs": [],
   "source": [
    "%matplotlib inline\n",
    "import matplotlib.pyplot as plt\n",
    "import numpy as np\n",
    "\n",
    "import pandas as pd\n",
    "#https://github.com/jmcarpenter2/swifter\n",
    "#import swifter\n",
    "#2-TSNE-UMAP-map-cuda-Copy1\n",
    "\n",
    "from rdkit import Chem\n",
    "from rdkit.Chem import AllChem\n",
    "from rdkit import DataStructs \n",
    "from rdkit.Chem import Draw\n",
    "from rdkit.Chem.rdMolDescriptors import  GetHashedMorganFingerprint\n",
    "from rdkit.DataStructs import ConvertToNumpyArray\n",
    "\n",
    "from sklearn.manifold import TSNE\n",
    "\n",
    "import hdbscan\n",
    "\n",
    "utils.plot_settings2()\n",
    "\n",
    "results_path = os.path.join(SRC_DIR,'results')"
   ]
  },
  {
   "cell_type": "code",
   "execution_count": null,
   "metadata": {},
   "outputs": [],
   "source": [
    "df = pd.read_pickle('../data/../data/extended_db_Zindo_Nov_2019_V5_cannfp_clust_lem.pkl').fillna(value = 0)\n",
    "print('Column names: {}'.format(str(df.columns.tolist())))\n",
    "print('Table Shape: {}'.format(df.shape))\n",
    "#df.head(2)"
   ]
  },
  {
   "cell_type": "markdown",
   "metadata": {},
   "source": [
    "### Exercises\n",
    "\n",
    "* Clean the tables removing the rows with 'lambda_tddft (nm)' and 'lambda_sTDA (nm)'\n",
    "* Compare 'lambda_tddft (nm)' vs 'lambda_sTDA (nm)', use  t-SNE clusters to colour the points. Is there any relationship? \n",
    "* Compare 'lambda_tddft (nm)' vs 'lambda_sTDA (nm)' in the most populated clusters. Are there clusters that correlate better?\n",
    "* Compute the difference between 'lambda_tddft (nm)' and 'lambda_sTDA (nm)'. Analyze the differences by cluster.\n",
    "* Repeat the same analysis with the ZINDO method"
   ]
  }
 ],
 "metadata": {
  "kernelspec": {
   "display_name": "introhpc",
   "language": "python",
   "name": "introhpc"
  },
  "language_info": {
   "codemirror_mode": {
    "name": "ipython",
    "version": 3
   },
   "file_extension": ".py",
   "mimetype": "text/x-python",
   "name": "python",
   "nbconvert_exporter": "python",
   "pygments_lexer": "ipython3",
   "version": "3.11.4"
  }
 },
 "nbformat": 4,
 "nbformat_minor": 4
}
