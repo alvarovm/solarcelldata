{
 "cells": [
  {
   "cell_type": "markdown",
   "metadata": {},
   "source": [
    "# Intro to HPC: Cleaning and cannonizing DB\n",
    "\n",
    "Project: Solar Power for Affordable Housing through Computational Design of Low-Cost/High-Efficiency Solar Cells.\n",
    "Author: AlvaroVM [https://alvarovm.github.io](http://alvarovm.github.io)\n",
    "Version: 0.0.1\n",
    "\n",
    "\n",
    "The goal of this notebook is to clean  the file that containt the DyeDB generated from dumping a database of results from calculations and data minig literature. Given the complexity of the calculations, some of the cells are empty.\n",
    "\n",
    "Using a Pandas `Dataframe` we will open the data set replace missing values with zeros, and add descriptors and fingerprints that would be useful to create molecular maps and apply machine learning.\n",
    "\n",
    "\n"
   ]
  },
  {
   "cell_type": "code",
   "execution_count": null,
   "metadata": {},
   "outputs": [],
   "source": [
    "import sys\n",
    "import os\n",
    "SRC_DIR='..'"
   ]
  },
  {
   "cell_type": "code",
   "execution_count": null,
   "metadata": {},
   "outputs": [],
   "source": [
    "sys.path.append(os.path.join(SRC_DIR, 'code'))\n",
    "import utils"
   ]
  },
  {
   "cell_type": "code",
   "execution_count": null,
   "metadata": {},
   "outputs": [],
   "source": [
    "%matplotlib inline\n",
    "import matplotlib.pyplot as plt\n",
    "import numpy as np\n",
    "\n",
    "import pandas as pd\n",
    "#https://github.com/jmcarpenter2/swifter\n",
    "#import swifter\n",
    "#2-TSNE-UMAP-map-cuda-Copy1\n",
    "\n",
    "from rdkit import Chem\n",
    "from rdkit.Chem import AllChem\n",
    "from rdkit import DataStructs \n",
    "from rdkit.Chem import Draw\n",
    "from rdkit.Chem.rdMolDescriptors import  GetHashedMorganFingerprint\n",
    "from rdkit.DataStructs import ConvertToNumpyArray\n",
    "\n",
    "utils.plot_settings2()\n",
    "\n",
    "results_path = os.path.join(SRC_DIR,'results')"
   ]
  },
  {
   "cell_type": "markdown",
   "metadata": {},
   "source": [
    "### Tools to Cannonize smiles"
   ]
  },
  {
   "cell_type": "code",
   "execution_count": null,
   "metadata": {},
   "outputs": [],
   "source": [
    "from rdkit.Chem import MolFromSmiles as smi2mol\n",
    "from rdkit.Chem.rdMolDescriptors import  GetHashedMorganFingerprint,GetMorganFingerprintAsBitVect\n",
    "from rdkit.DataStructs import ConvertToNumpyArray\n",
    "\n",
    "import re\n",
    "\n",
    "def canon_smiles(smi):\n",
    "    try:\n",
    "        m = smi2mol(smi)\n",
    "    except:\n",
    "        m = False\n",
    "        print('hola cannon'+smi)\n",
    "        \n",
    "    if m is False:\n",
    "        return False\n",
    "    else:\n",
    "        try:\n",
    "            sim = Chem.MolToSmiles(m, isomericSmiles=True, canonical=True)\n",
    "        except:\n",
    "            sim = False\n",
    "            #print('hola cannon2'+smi)\n",
    "        return sim\n",
    "    \n",
    "\n",
    "def CleanSMI(smi):\n",
    "        try: \n",
    "            clean=re.sub(r'[<>%\\\\/?\\|]+', '', smi)\n",
    "        except:\n",
    "            #print('holaclean ' +smi )\n",
    "            clean =False\n",
    "        return clean\n",
    "\n",
    "def HardValidSMI(smi):\n",
    "    \"\"\"\n",
    "    A rule based function to validate a given smile string. \n",
    "    Return type: Boolean\n",
    "    True: If a match is found. \n",
    "    False: Charges, Ions and No Conjugated regions found.\n",
    "    \"\"\"\n",
    "\n",
    "    mysmile = CleanSMI(smi)\n",
    "\n",
    "    if mysmile is not False:\n",
    "\n",
    "        try: \n",
    "            illegalstring = re.search(r'\\\\|/|\\*|Fe|\\+\\+|\\.|\\|',mysmile) #--> Sanity check!\n",
    "        except:\n",
    "            #print('holaill ' +smi )\n",
    "            illegalstring = True\n",
    "    else:\n",
    "        return False\n",
    "    \n",
    "    if illegalstring:\n",
    "        return False\n",
    "    else:\n",
    "        cansmile = canon_smiles(mysmile)\n",
    "        if cansmile is False:\n",
    "            return False\n",
    "        match = re.search(r'\\[\\w{1,3}[\\+-\\.\\d]+\\]|\\[\\w{2}\\]|\\.|\\(\\*\\)',cansmile)\n",
    "        if match:\n",
    "            return False\n",
    "        else:\n",
    "            conjuated = re.search(r'[a-z\\W]\\d+[a-zD-Z\\W]+\\d',mysmile) #r'[a-z\\W]\\d+[\\w\\W]+\\d' or use (r'[a-z\\W]\\d+[a-zD-Z\\W]+\\d',mysmile) )\n",
    "            if conjuated:\n",
    "                return True\n",
    "            else:\n",
    "                return False\n",
    "\n",
    "\n",
    "def applyMorganFP(m,**kwargs):\n",
    "    fptype='bit'\n",
    "    \n",
    "    if 'fptype' in kwargs:\n",
    "        fptype=kwargs['fptype']\n",
    "    if 'fp_args' in kwargs:\n",
    "        fp_args=kwargs['fp_args']     \n",
    "    #fp_args = self.meta_data['fp_args']\n",
    "    #fptype = self.meta_data['fptype']\n",
    "    arr = np.zeros((1,))\n",
    "    if fptype == 'bit': \n",
    "        arr = np.zeros((1,))\n",
    "        #ConvertToNumpyArray(GetHashedMorganFingerprint(m, **fp_args), arr)\n",
    "        try:\n",
    "            arr = np.array(GetMorganFingerprintAsBitVect(m, **fp_args))\n",
    "        except:\n",
    "            print(Chem.MolToSmiles(m))\n",
    "    elif fptype == 'count':\n",
    "        #arr = np.zeros((1,))\n",
    "        ConvertToNumpyArray(GetHashedMorganFingerprint(m, **fp_args), arr)\n",
    "    return arr"
   ]
  },
  {
   "cell_type": "markdown",
   "metadata": {},
   "source": [
    "## Open Database"
   ]
  },
  {
   "cell_type": "markdown",
   "metadata": {},
   "source": [
    "Our database is expresed a CSV file (spread sheet like). This each row has information of the molecular description of in SMILE format, and optical properties as the wavelenght (lamnda/nm), extinction coefficient, first excitation energy with quantum mechanics, etc."
   ]
  },
  {
   "cell_type": "code",
   "execution_count": null,
   "metadata": {},
   "outputs": [],
   "source": [
    "df = pd.read_csv('../data/extended_db_Zindo_Nov_2019_V5.csv').fillna(value = 0)\n",
    "print('Column names: {}'.format(str(df.columns.tolist())))\n",
    "print('Table Shape: {}'.format(df.shape))"
   ]
  },
  {
   "cell_type": "code",
   "execution_count": null,
   "metadata": {},
   "outputs": [],
   "source": [
    "#df.count()"
   ]
  },
  {
   "cell_type": "markdown",
   "metadata": {},
   "source": [
    "Unfortunately some of the SMILE that define the molecules are not valid. We have a function called `HardValidSMI` which validate whether the SMILES can be processed. See example"
   ]
  },
  {
   "cell_type": "code",
   "execution_count": null,
   "metadata": {},
   "outputs": [],
   "source": [
    "#smi=df['smi_post'].iloc[0]\n",
    "smi = 'O=C1O[C@H]([C@@H](O)CO)C(O)=C1O'\n",
    "print(f'Q: Is this {smi} a valid molecule? A: {HardValidSMI(smi)}')"
   ]
  },
  {
   "cell_type": "markdown",
   "metadata": {},
   "source": [
    "Remove metals and invalid smiles. Adding a new column `nogood`. Notice that there two SMILES: `smile_pre` and `smile_post`. The `smile_pre` are the SMILES generated directly from the molecules found in the literature, and `smiles_post` are a reduced version with only the active region of the molecule."
   ]
  },
  {
   "cell_type": "code",
   "execution_count": null,
   "metadata": {},
   "outputs": [],
   "source": [
    "smi = 'Clc1ccc(c(c1)Cl)OCCn1cncc1'\n",
    "print(f'Q: Is this {smi} a valid molecule? A: {canon_smiles(smi)}')"
   ]
  },
  {
   "cell_type": "markdown",
   "metadata": {},
   "source": [
    "### Exercises:\n",
    "* Apply the function `HardValidSMI` to the columns with SMILES. How many cells have `True` and `False` ?\n",
    "* Create a `smiles` column with cannonized SMILES using the `canon_smiles` function.\n",
    "* Keep only the rows with `lambda_sTDA (nm)` that are bigger than zero.\n",
    "* Create column with a RDKIT `molecule` object using the SMILES.\n",
    "* Create column with the Morgan fingerprint using the `applyMorganFP` to create a 2048 bit vectors using fragments up to radii 6, for example: `fp= applyMorganFP(mol,fptype='bit',fp_args={'radius':6, 'nBits':2048})`\n",
    "* Compute a set of descriptors (see list below) and add them as extra columns to the Dataframe\n",
    "* Compute the energy LUMO-HOMO gap from `mopac`, `zindo` and `dft`, compare them.\n",
    "* Save the `Dataframe` as a pickle file."
   ]
  },
  {
   "cell_type": "markdown",
   "metadata": {},
   "source": [
    "#### Remove systems without sTDA (disabled)"
   ]
  },
  {
   "cell_type": "code",
   "execution_count": null,
   "metadata": {},
   "outputs": [],
   "source": [
    "#df['nostda']=df['lambda_sTDA (nm)'].apply(np.isnan)\n",
    "#df = df[df.nostda == False]\n",
    "##df = df[df['lambda_sTDA (nm)'] >0 ]\n",
    "##df.shape"
   ]
  },
  {
   "cell_type": "markdown",
   "metadata": {},
   "source": [
    "###  Descritors list"
   ]
  },
  {
   "cell_type": "code",
   "execution_count": null,
   "metadata": {},
   "outputs": [],
   "source": [
    "import inspect\n",
    "import rdkit.Chem.Descriptors as Descriptors\n",
    "#https://github.com/jmcarpenter2/swifter\n",
    "#import swifter \n",
    "from collections import OrderedDict\n",
    "\n",
    "getonly=['NHOHCount', 'NOCount', 'NumAliphaticCarbocycles',\n",
    "                           'NumAliphaticHeterocycles', 'NumAliphaticRings',\n",
    "                           'NumAromaticCarbocycles', 'NumAromaticHeterocycles',\n",
    "                           'NumAromaticRings', 'NumHAcceptors', 'NumHDonors', \n",
    "                           'NumHeteroatoms', 'NumRadicalElectrons', 'NumRotatableBonds',\n",
    "                           'NumSaturatedCarbocycles', 'NumSaturatedHeterocycles', \n",
    "                           'NumSaturatedRings', 'NumValenceElectrons',\n",
    "                            ]\n",
    "\n",
    "calc_props = OrderedDict(inspect.getmembers(Descriptors, inspect.isfunction))\n",
    "for key in list(calc_props.keys()):\n",
    "    if key.startswith('_'):\n",
    "        del calc_props[key]\n",
    "    else:\n",
    "        thisnot=False\n",
    "        for myprop in getonly:\n",
    "            if myprop == key:\n",
    "                thisnot=True\n",
    "        if not thisnot:\n",
    "            del calc_props[key]\n",
    "            \n",
    "from tqdm import tqdm\n",
    "def calc_all(dfc,calc_props,smiles_col='smiles'):\n",
    "    #df['mol'] = df[smiles_col].apply(Chem.MolFromSmiles)\n",
    "    for key,val in tqdm (calc_props.items()):\n",
    "    #for key,val in calc_props.items():\n",
    "        #df[key] = df['mol'].apply(val)\n",
    "        df[key] = df['mol'].apply(val)\n",
    "    return df\n",
    "print('Found {} molecular descriptors in RDKIT'.format(len(calc_props)))\n",
    "#calc_props\n",
    "#df=calc_all(df,calc_props)"
   ]
  }
 ],
 "metadata": {
  "kernelspec": {
   "display_name": "introhpc",
   "language": "python",
   "name": "introhpc"
  },
  "language_info": {
   "codemirror_mode": {
    "name": "ipython",
    "version": 3
   },
   "file_extension": ".py",
   "mimetype": "text/x-python",
   "name": "python",
   "nbconvert_exporter": "python",
   "pygments_lexer": "ipython3",
   "version": "3.11.4"
  }
 },
 "nbformat": 4,
 "nbformat_minor": 4
}
