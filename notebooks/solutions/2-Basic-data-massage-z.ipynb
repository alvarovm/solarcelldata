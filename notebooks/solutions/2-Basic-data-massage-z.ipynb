{
 "cells": [
  {
   "cell_type": "markdown",
   "metadata": {},
   "source": [
    "# Cleaning and cannonizing DB\n"
   ]
  },
  {
   "cell_type": "markdown",
   "metadata": {},
   "source": [
    "Author: AlvaroVM [https://alvarovm.github.io](http://alvarovm.github.io)\n",
    "Version: 0.0.1"
   ]
  },
  {
   "cell_type": "markdown",
   "metadata": {},
   "source": [
    "## Example 1: PCA to distinguish between rings and chains"
   ]
  },
  {
   "cell_type": "markdown",
   "metadata": {},
   "source": [
    "For this example we define in SMILES string two groups of molecules with different substituents, such as -CH3, -O, -F, -Cl, and- I , in molecules with six carbons 1) in a ring and 2) in chain. Those molecules would be added to a list, additionally we add a 'certain' property , this could be used later as a flag."
   ]
  },
  {
   "cell_type": "code",
   "execution_count": null,
   "metadata": {},
   "outputs": [],
   "source": [
    "import sys\n",
    "import os\n",
    "SRC_DIR='../..'"
   ]
  },
  {
   "cell_type": "code",
   "execution_count": null,
   "metadata": {},
   "outputs": [],
   "source": [
    "sys.path.append(os.path.join(SRC_DIR, 'code'))\n",
    "import utils"
   ]
  },
  {
   "cell_type": "code",
   "execution_count": null,
   "metadata": {},
   "outputs": [],
   "source": [
    "%matplotlib inline\n",
    "import matplotlib.pyplot as plt\n",
    "import numpy as np\n",
    "\n",
    "import pandas as pd\n",
    "from pandas.plotting import scatter_matrix\n",
    "#https://github.com/jmcarpenter2/swifter\n",
    "#import swifter\n",
    "#2-TSNE-UMAP-map-cuda-Copy1\n",
    "\n",
    "from rdkit import Chem\n",
    "from rdkit.Chem import AllChem\n",
    "from rdkit import DataStructs \n",
    "from rdkit.Chem import Draw\n",
    "from rdkit.Chem.rdMolDescriptors import  GetHashedMorganFingerprint\n",
    "from rdkit.DataStructs import ConvertToNumpyArray\n",
    "\n",
    "from sklearn.manifold import TSNE\n",
    "\n",
    "import hdbscan\n",
    "\n",
    "utils.plot_settings2()\n",
    "\n",
    "results_path = os.path.join(SRC_DIR,'results')"
   ]
  },
  {
   "cell_type": "code",
   "execution_count": null,
   "metadata": {},
   "outputs": [],
   "source": [
    "df = pd.read_pickle('../../data/extended_db_Zindo_Nov_2019_V5_cannfp.pkl').fillna(value = 0)\n",
    "print('Column names: {}'.format(str(df.columns.tolist())))\n",
    "print('Table Shape: {}'.format(df.shape))\n"
   ]
  },
  {
   "cell_type": "markdown",
   "metadata": {},
   "source": [
    "### Exercises\n",
    "* Use df.count() and df.hist() to have idea of the dataset\n",
    "* Find the molecules with the largest `lambda_sTDA (nm)`, for example those with values  more than 630nm. Do they have anything in common?\n",
    "* Find the molecules with the smalles `lambda_sTDA (nm)`, for example those with values  more less than 200 nm. Do they have anything in common?\n",
    "* Plot a distribution function with `sns.distplot()` for `lambda_exp_min (nm)` and `lambda_exp_max (nm)`\n",
    "* Compute the difference between `lambda_sTDA (nm)` and `lambda_exp_min (nm)`, and plot the distribution of this difference\n",
    "* Plot `lambda_exp_min (nm)` vs `lambda_exp_max (nm)`\n",
    "* Plot `lambda_exp_min (nm)` vs `lambda_sTDA (nm)`\n",
    "* Plot the distribution function of the molecules that absorb light in the UV/Vis spectra, eg. 200 < `lambda_sTDA (nm)` < 800\n",
    "* Compare and plot the diffenrece between `lambda_sTDA (nm)` and `lambda_z (nm)`\n",
    "* Find the relation using `scatter_matrix` to find the relation among the excitation energies predicted with the methods 'gapdft', 'gapz', 'gapmopac', 'lambda_z (nm)', 'lambda_sTDA (nm)', 'lambda_tddft (nm)', 'lambda_exp_max (nm)', 'lambda_exp_min (nm)'. Which values correlate better?\n",
    "* Find the relation using `scatter_matrix` to find the relation among the  absortion with the methods 'f1_sTDA','f1_ZINDO', 'f1_TDDFT', 'ε_Exp_max'\n",
    "* Do a bar plot to know the distrution of number of ring (`NumAromaticRings`) using sns.barplot, use `df['NumAromaticRings'].value_counts()`\n",
    "* Do a bar plot to know the distrution of number of ring (`NumAromaticHeterocycles`) using sns.barplot\n",
    "* Compare the absorption of 'f1_sTDA'  and 'NumAromaticRings'\n",
    "* Do a scatter plot that compares 'gapdft' with 'lambda_tddft (nm)' and color the points with 'NumAromaticRings'\n",
    "* Find the systems with more than 20 aromatic rings. Do they have anything in common? Do they absorb more light or have a darker color?\n",
    "* Find those systems with more than 10 aromatic rings and have values different to zero in 'lambda_z (nm)' and 'lambda_exp_min (nm)', do those values correlate?"
   ]
  },
  {
   "cell_type": "markdown",
   "metadata": {},
   "source": [
    "### Use df.count() and df.hist() to have idea of the dataset"
   ]
  },
  {
   "cell_type": "code",
   "execution_count": null,
   "metadata": {},
   "outputs": [],
   "source": [
    "df.count()"
   ]
  },
  {
   "cell_type": "code",
   "execution_count": null,
   "metadata": {},
   "outputs": [],
   "source": [
    "df.hist(bins=50, figsize=(15,15))\n",
    "plt.show()"
   ]
  },
  {
   "cell_type": "markdown",
   "metadata": {},
   "source": [
    "### Find the molecules with the largest lambda_sTDA (nm), for example those with values more than 630nm. Do they have anything in common?"
   ]
  },
  {
   "cell_type": "code",
   "execution_count": null,
   "metadata": {},
   "outputs": [],
   "source": [
    "#tag='lambda_exp_max (nm)'\n",
    "dfc=df.copy()\n",
    "tag='lambda_sTDA (nm)'\n",
    "dfc=dfc[dfc['lambda_sTDA (nm)']<1200]\n",
    "dfc=dfc[dfc['lambda_sTDA (nm)']>630]\n",
    "print('Table Shape: {}'.format(dfc.shape))"
   ]
  },
  {
   "cell_type": "code",
   "execution_count": null,
   "metadata": {},
   "outputs": [],
   "source": [
    "mollist=dfc.mol.tolist()\n",
    "Draw.MolsToGridImage(mollist, legends=['stda={0:.1f} / emin={1:.1f} '.format(dfc['lambda_sTDA (nm)'][x],dfc['lambda_exp_min (nm)'][x]) for x, row in dfc.iterrows()])"
   ]
  },
  {
   "cell_type": "markdown",
   "metadata": {},
   "source": [
    "Find the molecules with the smalles lambda_sTDA (nm), for example those with values more less than 200 nm. Do they have anything in common?"
   ]
  },
  {
   "cell_type": "code",
   "execution_count": null,
   "metadata": {},
   "outputs": [],
   "source": [
    "dfc=df.copy()\n",
    "tag='lambda_sTDA (nm)'\n",
    "dfc=dfc[dfc['lambda_sTDA (nm)']<200]\n",
    "dfc=dfc[dfc['lambda_sTDA (nm)']>10]\n",
    "print('Table Shape: {}'.format(dfc.shape))\n",
    "mollist=dfc.mol.tolist()\n",
    "Draw.MolsToGridImage(mollist, legends=['stda={0:.1f} / emin={1:.1f} '.format(dfc['lambda_sTDA (nm)'][x],dfc['lambda_exp_min (nm)'][x]) for x, row in dfc.iterrows()])\n"
   ]
  },
  {
   "cell_type": "markdown",
   "metadata": {},
   "source": [
    "Plot a distribution function with sns.distplot() for lambda_exp_min (nm) and lambda_exp_max (nm)"
   ]
  },
  {
   "cell_type": "code",
   "execution_count": null,
   "metadata": {},
   "outputs": [],
   "source": [
    "import seaborn as sns\n",
    "plt.figure(figsize=(6,4))\n",
    "sns.distplot( df['lambda_exp_max (nm)'])\n",
    "sns.distplot( df['lambda_exp_min (nm)'])\n",
    "plt.show"
   ]
  },
  {
   "cell_type": "markdown",
   "metadata": {},
   "source": [
    "Compute the difference between lambda_sTDA (nm) and lambda_exp_min (nm), and plot the distribution of this difference"
   ]
  },
  {
   "cell_type": "code",
   "execution_count": null,
   "metadata": {},
   "outputs": [],
   "source": [
    "df['diffminmax']=df['lambda_exp_max (nm)']-df['lambda_exp_min (nm)']\n",
    "plt.figure(figsize=(6,4))\n",
    "sns.distplot(df[df['diffminmax'] > 1]['diffminmax'])\n",
    "plt.show()\n"
   ]
  },
  {
   "cell_type": "markdown",
   "metadata": {},
   "source": [
    "Plot lambda_exp_min (nm) vs lambda_exp_max (nm)"
   ]
  },
  {
   "cell_type": "code",
   "execution_count": null,
   "metadata": {},
   "outputs": [],
   "source": [
    "plt.figure(figsize=(6,4))\n",
    "df['stdamin']=df['lambda_sTDA (nm)']-df['lambda_exp_min (nm)']\n",
    "sns.distplot(df[df['stdamin'] > 1]['stdamin'])\n",
    "plt.show()"
   ]
  },
  {
   "cell_type": "markdown",
   "metadata": {},
   "source": [
    "Plot lambda_exp_min (nm) vs lambda_sTDA (nm)"
   ]
  },
  {
   "cell_type": "code",
   "execution_count": null,
   "metadata": {},
   "outputs": [],
   "source": [
    "plt.figure(figsize=(6,4))\n",
    "plt.scatter(df['lambda_exp_min (nm)'].values[:],df['lambda_exp_max (nm)'].values[:],s=3)\n",
    "plt.xlabel('lambda exp min')\n",
    "plt.ylabel('lambda exp max')\n",
    "plt.show()"
   ]
  },
  {
   "cell_type": "markdown",
   "metadata": {},
   "source": [
    "Plot the distribution function of the molecules that absorb light in the UV/Vis spectra, eg. 200 < lambda_sTDA (nm) < 800"
   ]
  },
  {
   "cell_type": "code",
   "execution_count": null,
   "metadata": {},
   "outputs": [],
   "source": [
    "dfc=df.copy()\n",
    "tag='lambda_sTDA (nm)'\n",
    "dfc=dfc[dfc['lambda_sTDA (nm)']>200]\n",
    "dfc=dfc[dfc['lambda_sTDA (nm)']<800]\n",
    "\n",
    "print('Table Shape: {}'.format(dfc.shape))\n",
    "import seaborn as sns\n",
    "plt.figure(figsize=(6,4))\n",
    "sns.distplot(dfc['lambda_sTDA (nm)'].tolist())"
   ]
  },
  {
   "cell_type": "markdown",
   "metadata": {},
   "source": [
    "Compare and plot the diffenrece between lambda_sTDA (nm) and lambda_z (nm)"
   ]
  },
  {
   "cell_type": "code",
   "execution_count": null,
   "metadata": {},
   "outputs": [],
   "source": [
    "dfc['stdaz']=dfc['lambda_sTDA (nm)']-dfc['lambda_z (nm)']\n",
    "plt.figure(figsize=(6,4))\n",
    "sns.distplot(dfc['stdaz'])"
   ]
  },
  {
   "cell_type": "markdown",
   "metadata": {},
   "source": [
    "Find the relation using scatter_matrix to find the relation among the excitation energies predicted with the methods 'gapdft', 'gapz', 'gapmopac', 'lambda_z (nm)', 'lambda_sTDA (nm)', 'lambda_tddft (nm)', 'lambda_exp_max (nm)', 'lambda_exp_min (nm)'. Which values correlate better?"
   ]
  },
  {
   "cell_type": "code",
   "execution_count": null,
   "metadata": {},
   "outputs": [],
   "source": [
    "attributes = [ 'gapdft', \n",
    "               #'gapz', \n",
    "               'gapmopac',\n",
    "               'lambda_z (nm)',\n",
    "               'lambda_sTDA (nm)',\n",
    "               'lambda_tddft (nm)', \n",
    "               'lambda_exp_max (nm)', 'lambda_exp_min (nm)']\n",
    "scatter_matrix(dfc[attributes], figsize=(12, 12))\n",
    "plt.show()"
   ]
  },
  {
   "cell_type": "markdown",
   "metadata": {},
   "source": [
    "Find the relation using scatter_matrix to find the relation among the absortion with the methods 'f1_sTDA','f1_ZINDO', 'f1_TDDFT', 'ε_Exp_max'"
   ]
  },
  {
   "cell_type": "code",
   "execution_count": null,
   "metadata": {},
   "outputs": [],
   "source": [
    "columns = { \"epsilon_exp_max \":\"ε_Exp_max\",\n",
    "           'f1_z':'f1_ZINDO',\n",
    "           'f1_tddft':'f1_TDDFT'\n",
    "          }\n",
    "\n",
    "dfc.rename(columns, axis=1, inplace=True)\n",
    "\n",
    "attributes = [ 'ε_Exp_max', \n",
    "               'f1_ZINDO',\n",
    "               'f1_TDDFT']\n",
    "scatter_matrix(dfc[attributes], figsize=(3, 3))\n",
    "plt.show()\n"
   ]
  },
  {
   "cell_type": "markdown",
   "metadata": {},
   "source": [
    "Do a bar plot to know the distrution of number of ring (NumAromaticRings) using sns.barplot, use df['NumAromaticRings'].value_counts()"
   ]
  },
  {
   "cell_type": "code",
   "execution_count": null,
   "metadata": {},
   "outputs": [],
   "source": [
    "#tag='lambda_exp_max (nm)'\n",
    "dfr=df.copy()\n",
    "dfr=dfr[dfr['NumAromaticRings']<20]\n",
    "print('Table Shape: {}'.format(dfr.shape))\n",
    "#plt.figure(figsize=(6,4))\n",
    "sns.set()\n",
    "sns.set(style='white', palette='deep', font='sans-serif', font_scale=1., color_codes=True, rc=None)\n",
    "\n",
    "this = dfr['NumAromaticRings'].value_counts()\n",
    "plt.figure(figsize=(5,5))\n",
    "sns.barplot(x=this.keys(), y=this.tolist(), color='b')\n",
    "#plt.xlabel(r'Number Aromatic Rings in Molecule')\n",
    "plt.xlabel(r'Number of Rings')\n",
    "plt.ylabel('Frequency')\n",
    "#plt.title('Number Aromatic Rings')\n",
    "\n",
    "#utils.save_figure(results_path,'NumAromaticRings')\n",
    "plt.show()"
   ]
  },
  {
   "cell_type": "markdown",
   "metadata": {},
   "source": [
    "Do a bar plot to know the distrution of number of ring (NumAromaticHeterocycles) using sns.barplot"
   ]
  },
  {
   "cell_type": "code",
   "execution_count": null,
   "metadata": {},
   "outputs": [],
   "source": [
    "this = dfr['NumAromaticHeterocycles'].value_counts()\n",
    "plt.figure(figsize=(5,5))\n",
    "sns.barplot(x=this.keys(), y=this.tolist(),color='b')\n",
    "#plt.xlabel(r'Number Aromatic Carbocycles in Molecule')\n",
    "plt.xlabel(r'Number of Rings')\n",
    "plt.ylabel('Frequency')\n",
    "#plt.title('Number Aromatic Carbocycles')\n",
    "#utils.save_figure(results_path,'NumAromaticCarbocycles')"
   ]
  },
  {
   "cell_type": "markdown",
   "metadata": {},
   "source": [
    "Compare the absorption of 'f1_sTDA' and 'NumAromaticRings'"
   ]
  },
  {
   "cell_type": "code",
   "execution_count": null,
   "metadata": {},
   "outputs": [],
   "source": [
    "dfc.plot.scatter(x='f1_sTDA', y='NumAromaticRings')"
   ]
  },
  {
   "cell_type": "markdown",
   "metadata": {},
   "source": [
    "Do a scatter plot that compares 'gapdft' with 'lambda_tddft (nm)' and color the points with 'NumAromaticRings'"
   ]
  },
  {
   "cell_type": "code",
   "execution_count": null,
   "metadata": {},
   "outputs": [],
   "source": [
    "plt.figure(figsize=(6,8))\n",
    "plot_kwds={'alpha':.8, 's':30, 'linewidths':.1}\n",
    "\n",
    "#plt.scatter(tsne_X.T[0], tsne_X.T[1], c=df[ 'lambda_sTDA (nm)'].values[:], cmap='rainbow' )\n",
    "plt.scatter(dfc['gapdft'].values[:], dfc[ 'lambda_tddft (nm)'].values[:], c=dfc[ 'NumAromaticRings'], **plot_kwds )\n",
    "\n",
    "plt.xlabel('gap')\n",
    "plt.ylabel('f1')\n",
    "plt.title('Lambda_TDDFT vs NumAromaticRings')\n",
    "\n",
    "cbar = plt.colorbar(orientation='horizontal')\n",
    "cbar.set_label('rings')\n",
    "plt.show()"
   ]
  },
  {
   "cell_type": "markdown",
   "metadata": {},
   "source": [
    "Find the systems with more than 20 aromatic rings. Do they have anything in common? Do they absorb more light or have a darker color?"
   ]
  },
  {
   "cell_type": "code",
   "execution_count": null,
   "metadata": {},
   "outputs": [],
   "source": [
    "#tag='lambda_exp_max (nm)'\n",
    "dfr=df.copy()\n",
    "tag='lambda_sTDA (nm)'\n",
    "#dfr=dfr[dfr['lambda_sTDA (nm)']>0]\n",
    "dfr=dfr[dfr['NumAromaticRings']>10]\n",
    "print('Table Shape: {}'.format(dfr.shape))\n",
    "mollist = dfr.mol.tolist()\n",
    "Draw.MolsToGridImage(mollist, molsPerRow=5, subImgSize=(350,350), legends=['stda={0:.1f} / emin={1:.1f} '.format(dfr['lambda_sTDA (nm)'][x],dfr['lambda_exp_min (nm)'][x]) for x, row in dfr.iterrows()])"
   ]
  }
 ],
 "metadata": {
  "kernelspec": {
   "display_name": "introhpc",
   "language": "python",
   "name": "introhpc"
  },
  "language_info": {
   "codemirror_mode": {
    "name": "ipython",
    "version": 3
   },
   "file_extension": ".py",
   "mimetype": "text/x-python",
   "name": "python",
   "nbconvert_exporter": "python",
   "pygments_lexer": "ipython3",
   "version": "3.11.4"
  }
 },
 "nbformat": 4,
 "nbformat_minor": 4
}
