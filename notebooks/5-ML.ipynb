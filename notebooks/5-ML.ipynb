{
 "cells": [
  {
   "cell_type": "markdown",
   "id": "0e76d0bd-8fdc-4f9c-8a16-9a0c4ec8236a",
   "metadata": {},
   "source": [
    "# Intro to HPC: Solar Cell project\n",
    "\n",
    "Project: Solar Power for Affordable Housing through Computational Design of Low-Cost/High-Efficiency Solar Cells.\n",
    "Author: AlvaroVM [https://alvarovm.github.io](http://alvarovm.github.io)\n",
    "\n",
    "Version: 0.0.2\n",
    "\n",
    "## Part 5 Machine Learning - Supervised learning\n",
    "\n",
    "In this notebook we will use Random Forest (RF) and Gaussian Process Regression (GPR) to predict the spectral peak that corresponds to the first excitation energy of the molecules in the DyeDB. \n",
    "\n",
    "We will use the finger prints and descriptor calculated in previous notebooks. The algorithms that we will use are implemente in the package Scikit-learn, which is a data science open source code.\n",
    "\n",
    "### Exercises\n",
    "\n",
    "* Run the RF and GPR over a sample of 1000 rows. Compare the two methods\n",
    "* See the effect of increasing the numbers of rows, determine which of the two methods keeps improving when more data is added.\n",
    "* Find patters among the clusters we found with t-SNE and HDBSCAN.\n",
    "* Time two methods and estimate their scalability\n"
   ]
  },
  {
   "cell_type": "code",
   "execution_count": null,
   "id": "8eb076b0-9ed7-441c-856b-6f505cd6688c",
   "metadata": {},
   "outputs": [],
   "source": [
    "%matplotlib inline\n",
    "import matplotlib.pyplot as plt\n",
    "import numpy as np\n",
    "\n",
    "import sys\n",
    "import os\n",
    "SRC_DIR='..'\n",
    "\n",
    "sys.path.append(os.path.join(SRC_DIR, 'code'))\n",
    "import utils\n",
    "\n",
    "import pandas as pd\n",
    "#https://github.com/jmcarpenter2/swifter\n",
    "#import swifter\n",
    "#2-TSNE-UMAP-map-cuda-Copy1\n",
    "\n",
    "from rdkit import Chem\n",
    "from rdkit.Chem import AllChem\n",
    "from rdkit import DataStructs \n",
    "from rdkit.Chem import Draw\n",
    "from rdkit.Chem.rdMolDescriptors import  GetHashedMorganFingerprint\n",
    "from rdkit.DataStructs import ConvertToNumpyArray\n",
    "\n",
    "from sklearn.manifold import TSNE\n",
    "\n",
    "import hdbscan\n",
    "\n",
    "import seaborn as sns\n",
    "\n",
    "utils.plot_settings2()\n",
    "\n",
    "results_path = os.path.join(SRC_DIR,'results')\n",
    "\n",
    "\n",
    "def rmse(pred, target):\n",
    "    \"\"\"\n",
    "    Input Args:\n",
    "    pred: predictions numpy array\n",
    "    target :True label numpy array\n",
    "    return : rmse \n",
    "    \"\"\"\n",
    "    return np.sqrt(((pred - target) ** 2).mean())"
   ]
  },
  {
   "cell_type": "markdown",
   "id": "566bd68d-ab96-4daa-bb26-c217bdd8e2ce",
   "metadata": {},
   "source": [
    "### Load data"
   ]
  },
  {
   "cell_type": "code",
   "execution_count": null,
   "id": "bfe73d5c-fec2-4aba-a057-581f52922ccc",
   "metadata": {},
   "outputs": [],
   "source": [
    "df = pd.read_pickle('../data/extended_db_Zindo_Nov_2019_V5_cannfp_clust.pkl').fillna(value = 0)\n",
    "print('Column names: {}'.format(str(df.columns.tolist())))\n",
    "print('Table Shape: {}'.format(df.shape))\n",
    "#df.head(2)"
   ]
  },
  {
   "cell_type": "markdown",
   "id": "eae44768-b1b5-4bf2-b490-10523eb69130",
   "metadata": {},
   "source": [
    "### Clean data"
   ]
  },
  {
   "cell_type": "code",
   "execution_count": null,
   "id": "29fc94c7-09e7-4d61-b9ea-902569102bf8",
   "metadata": {},
   "outputs": [],
   "source": [
    "#df=df[df['lambda_tddft (nm)']>0]\n",
    "df=df[df['lambda_sTDA (nm)']>0]\n",
    "df = df.sample(n=2500, replace=True, random_state=1)\n",
    "df = df.reset_index()\n",
    "#df=df[df['cluster']>-1]\n",
    "print('Table Shape: {}'.format(df.shape))"
   ]
  },
  {
   "cell_type": "markdown",
   "id": "fb67a071-b46c-40a8-a040-dfb2f7075540",
   "metadata": {},
   "source": [
    "#### Select input data"
   ]
  },
  {
   "cell_type": "code",
   "execution_count": null,
   "id": "b6146e73-1dc9-484e-9cf7-70e7bd772f14",
   "metadata": {},
   "outputs": [],
   "source": [
    "X = np.vstack(df['morganfps-b'])\n",
    "target='lambda_sTDA (nm)'\n",
    "y_true = df[target].values.reshape(-1,1).astype(np.float64)"
   ]
  },
  {
   "cell_type": "markdown",
   "id": "ad0ee4e5-00be-4566-b05c-a75665a5a0f0",
   "metadata": {},
   "source": [
    "#### Split data (testing and training)"
   ]
  },
  {
   "cell_type": "code",
   "execution_count": null,
   "id": "27299e2a-cdc9-44c2-8a2d-18a5afdc4c12",
   "metadata": {},
   "outputs": [],
   "source": [
    "from sklearn.model_selection import train_test_split\n",
    "x_train, x_test, y_train, y_test = train_test_split(X, y_true, test_size=0.25, random_state=1)"
   ]
  },
  {
   "cell_type": "markdown",
   "id": "26e1d503-afa8-4ed4-86ee-56722186d365",
   "metadata": {},
   "source": [
    "#### Standarize data"
   ]
  },
  {
   "cell_type": "code",
   "execution_count": null,
   "id": "f2042002-c7ac-4e2b-b023-b5a342bfca31",
   "metadata": {},
   "outputs": [],
   "source": [
    "from sklearn.preprocessing import StandardScaler\n",
    "y_preproc = StandardScaler()\n",
    "y_train2 = y_preproc.fit_transform(y_train)"
   ]
  },
  {
   "cell_type": "markdown",
   "id": "3eaca0f8-6df1-4dc9-b9b5-0d0cf50b367e",
   "metadata": {},
   "source": [
    "### Random Forest Regression"
   ]
  },
  {
   "cell_type": "code",
   "execution_count": null,
   "id": "02e47450-ad52-4d9e-b7a8-883d23639a7f",
   "metadata": {},
   "outputs": [],
   "source": [
    "from sklearn.ensemble import RandomForestRegressor\n",
    "from sklearn.metrics import r2_score\n",
    "\n",
    "model = RandomForestRegressor()\n",
    "model.fit(x_train, y_train2)\n",
    "predictions = model.predict(x_test)\n",
    "array_2d = predictions.reshape((len(predictions), 1))\n",
    "y_pred = y_preproc.inverse_transform(array_2d)\n",
    "plt.scatter(y_pred, y_test, marker='o',s=5)\n",
    "diff= y_pred - y_test\n",
    "stdd= np.std(diff)\n",
    "print('Deviation std = {}'.format(stdd))\n",
    "print('Max err = {}'.format(np.max(diff)))\n",
    "print('mean errr = {}'.format(np.mean(diff)))\n",
    "print('rmean = {}'.format(rmse(y_pred, y_test)))\n",
    "print('R2 = {}'.format(r2_score(y_pred, y_test)))"
   ]
  },
  {
   "cell_type": "markdown",
   "id": "2af8f6d3-445a-4461-8ae5-d2fe135034c9",
   "metadata": {},
   "source": [
    "### Gaussian Process Regression"
   ]
  },
  {
   "cell_type": "code",
   "execution_count": null,
   "id": "dbbabec7-bf38-4714-bbf0-b058716b148b",
   "metadata": {},
   "outputs": [],
   "source": [
    "from sklearn.gaussian_process import GaussianProcessRegressor\n",
    "from sklearn.metrics import r2_score\n",
    "\n",
    "\n",
    "# Create a Gaussian process regressor\n",
    "gpr = GaussianProcessRegressor()\n",
    "gpr.fit(x_train, y_train2)\n",
    "\n",
    "predictions = gpr.predict(x_test)\n",
    "# y_pred = predictions\n",
    "array_2d = predictions.reshape((len(predictions), 1))\n",
    "y_pred = y_preproc.inverse_transform(array_2d)\n",
    "\n",
    "\n",
    "plt.scatter( y_test, y_pred, marker='o',s=5)\n",
    "plt.xlabel('Y Test')\n",
    "plt.ylabel('Y Pred')\n",
    "plt.title(f\"GPR {target}\")\n",
    "diff= y_pred - y_test\n",
    "stdd= np.std(diff)\n",
    "print('Deviation std = {}'.format(stdd))\n",
    "print('Max err = {}'.format(np.max(diff)))\n",
    "print('mean errr = {}'.format(np.mean(diff)))\n",
    "print('rmean = {}'.format(rmse(y_pred, y_test)))\n",
    "print('R2 = {}'.format(r2_score(y_pred, y_test)))"
   ]
  }
 ],
 "metadata": {
  "kernelspec": {
   "display_name": "introhpc",
   "language": "python",
   "name": "introhpc"
  },
  "language_info": {
   "codemirror_mode": {
    "name": "ipython",
    "version": 3
   },
   "file_extension": ".py",
   "mimetype": "text/x-python",
   "name": "python",
   "nbconvert_exporter": "python",
   "pygments_lexer": "ipython3",
   "version": "3.11.4"
  }
 },
 "nbformat": 4,
 "nbformat_minor": 5
}
